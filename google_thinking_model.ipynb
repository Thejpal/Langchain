{
 "cells": [
  {
   "cell_type": "code",
   "execution_count": 1,
   "metadata": {},
   "outputs": [],
   "source": [
    "import os\n",
    "from langchain_google_genai import ChatGoogleGenerativeAI"
   ]
  },
  {
   "cell_type": "code",
   "execution_count": 2,
   "metadata": {},
   "outputs": [],
   "source": [
    "llm = ChatGoogleGenerativeAI(\n",
    "    api_key = os.environ['GOOGLE_GEMINI_API_KEY'],\n",
    "    model = \"gemini-2.0-flash-thinking-exp-01-21\",\n",
    "    temperature = 0.2\n",
    ")"
   ]
  },
  {
   "cell_type": "code",
   "execution_count": 4,
   "metadata": {},
   "outputs": [],
   "source": [
    "response = llm.invoke(\"Explain quantum computing in simple terms\")"
   ]
  },
  {
   "cell_type": "markdown",
   "metadata": {},
   "source": [
    "Gemini thinking model's thoughts are only shown in GoogleAIStudio"
   ]
  },
  {
   "cell_type": "code",
   "execution_count": 5,
   "metadata": {},
   "outputs": [
    {
     "data": {
      "text/plain": [
       "AIMessage(content='Imagine regular computers, the ones you use every day, are like light switches. They can be either **on** (representing 1) or **off** (representing 0).  Everything they do, from showing you cat videos to calculating your taxes, is based on these simple on/off states, called **bits**.\\n\\n**Quantum computers are fundamentally different. Instead of light switches, think of them like dimmer switches.**\\n\\nHere\\'s the breakdown in simple terms:\\n\\n**1. Bits vs. Qubits (Quantum Bits):**\\n\\n* **Regular Computers (Classical):** Use **bits**.  Think of a light switch:  It\\'s either **on (1)** or **off (0)**.  Each bit can only be in one of these two states at a time.\\n\\n* **Quantum Computers:** Use **qubits**.  Think of a dimmer switch. It can be **on (1)**, **off (0)**, **OR** **somewhere in between** at the same time!  This \"in-between\" state is called **superposition**.\\n\\n**Imagine a coin spinning in the air.**  Before it lands, it\\'s neither heads nor tails, it\\'s in a blurry state of both at the same time.  A qubit is similar – it can be a 0, a 1, or a combination of both simultaneously.\\n\\n**2. Superposition: Being in Multiple States at Once**\\n\\nBecause qubits can be in superposition, they can represent **many possibilities at the same time**.  Think of it like this:\\n\\n* **Classical Bit:**  Can only explore one path at a time.  Like trying to find your way through a maze by trying each path one after another.\\n\\n* **Qubit:** Can explore **all paths at the same time** due to superposition.  Like having multiple copies of yourself exploring every path in the maze simultaneously.\\n\\nThis ability to be in multiple states at once is what gives quantum computers their potential power.\\n\\n**3. Entanglement: Spooky Connection**\\n\\nAnother weird and powerful quantum concept is **entanglement**. Imagine you have two of those spinning coins, but they are linked in a special way.  If you look at one coin and it lands on heads, you instantly know the other coin will land on tails, even if they are miles apart!\\n\\nEntanglement in quantum computers means linking qubits together in such a way that they become interconnected.  Changing the state of one entangled qubit instantly affects the others, no matter how far apart they are. This allows quantum computers to perform complex calculations in a coordinated and incredibly efficient way.\\n\\n**So, what does this mean in practice?**\\n\\nBecause of superposition and entanglement, quantum computers can:\\n\\n* **Solve certain problems that are practically impossible for even the most powerful regular computers.**  These are problems that would take classical computers billions of years to solve.\\n* **Potentially revolutionize fields like:**\\n    * **Medicine and Materials Science:** Designing new drugs and materials by simulating molecules with incredible accuracy.\\n    * **Cryptography:** Breaking current encryption methods and creating new, unbreakable ones.\\n    * **Artificial Intelligence:** Developing much more powerful and efficient AI algorithms.\\n    * **Finance:** Optimizing complex financial models and risk management.\\n\\n**Important to Remember:**\\n\\n* **Quantum computers are NOT meant to replace your laptop or phone.** They are specialized machines designed for very specific types of complex problems.\\n* **Quantum computing is still in its early stages.**  Building and programming quantum computers is incredibly challenging.  We are still years away from widespread practical quantum computers.\\n* **They are not \"faster\" in the way we usually think of speed.**  They are better at solving *certain types* of problems much more efficiently, not necessarily faster at everyday tasks like browsing the internet.\\n\\n**In a Nutshell:**\\n\\nQuantum computers are a new type of computer that uses the strange rules of quantum mechanics to perform calculations in a fundamentally different way than regular computers. They leverage superposition and entanglement to explore many possibilities simultaneously, potentially unlocking solutions to problems currently beyond our reach.  Think of them as incredibly powerful, specialized tools for tackling the most complex challenges in science and technology.', additional_kwargs={}, response_metadata={'prompt_feedback': {'block_reason': 0, 'safety_ratings': []}, 'finish_reason': 'STOP', 'safety_ratings': []}, id='run-78101002-940d-4610-bee8-62c9cb6ebceb-0', usage_metadata={'input_tokens': 7, 'output_tokens': 867, 'total_tokens': 874, 'input_token_details': {'cache_read': 0}})"
      ]
     },
     "execution_count": 5,
     "metadata": {},
     "output_type": "execute_result"
    }
   ],
   "source": [
    "response"
   ]
  },
  {
   "cell_type": "code",
   "execution_count": 6,
   "metadata": {},
   "outputs": [
    {
     "data": {
      "text/plain": [
       "{'input_tokens': 7,\n",
       " 'output_tokens': 867,\n",
       " 'total_tokens': 874,\n",
       " 'input_token_details': {'cache_read': 0}}"
      ]
     },
     "execution_count": 6,
     "metadata": {},
     "output_type": "execute_result"
    }
   ],
   "source": [
    "response.usage_metadata"
   ]
  },
  {
   "cell_type": "code",
   "execution_count": 7,
   "metadata": {},
   "outputs": [
    {
     "data": {
      "text/plain": [
       "({}, 'run-78101002-940d-4610-bee8-62c9cb6ebceb-0')"
      ]
     },
     "execution_count": 7,
     "metadata": {},
     "output_type": "execute_result"
    }
   ],
   "source": [
    "response.additional_kwargs, response.id"
   ]
  },
  {
   "cell_type": "code",
   "execution_count": 9,
   "metadata": {},
   "outputs": [
    {
     "name": "stdout",
     "output_type": "stream",
     "text": [
      "Imagine regular computers, the ones you use every day, are like light switches. They can be either **on** (representing 1) or **off** (representing 0).  Everything they do, from showing you cat videos to calculating your taxes, is based on these simple on/off states, called **bits**.\n",
      "\n",
      "**Quantum computers are fundamentally different. Instead of light switches, think of them like dimmer switches.**\n",
      "\n",
      "Here's the breakdown in simple terms:\n",
      "\n",
      "**1. Bits vs. Qubits (Quantum Bits):**\n",
      "\n",
      "* **Regular Computers (Classical):** Use **bits**.  Think of a light switch:  It's either **on (1)** or **off (0)**.  Each bit can only be in one of these two states at a time.\n",
      "\n",
      "* **Quantum Computers:** Use **qubits**.  Think of a dimmer switch. It can be **on (1)**, **off (0)**, **OR** **somewhere in between** at the same time!  This \"in-between\" state is called **superposition**.\n",
      "\n",
      "**Imagine a coin spinning in the air.**  Before it lands, it's neither heads nor tails, it's in a blurry state of both at the same time.  A qubit is similar – it can be a 0, a 1, or a combination of both simultaneously.\n",
      "\n",
      "**2. Superposition: Being in Multiple States at Once**\n",
      "\n",
      "Because qubits can be in superposition, they can represent **many possibilities at the same time**.  Think of it like this:\n",
      "\n",
      "* **Classical Bit:**  Can only explore one path at a time.  Like trying to find your way through a maze by trying each path one after another.\n",
      "\n",
      "* **Qubit:** Can explore **all paths at the same time** due to superposition.  Like having multiple copies of yourself exploring every path in the maze simultaneously.\n",
      "\n",
      "This ability to be in multiple states at once is what gives quantum computers their potential power.\n",
      "\n",
      "**3. Entanglement: Spooky Connection**\n",
      "\n",
      "Another weird and powerful quantum concept is **entanglement**. Imagine you have two of those spinning coins, but they are linked in a special way.  If you look at one coin and it lands on heads, you instantly know the other coin will land on tails, even if they are miles apart!\n",
      "\n",
      "Entanglement in quantum computers means linking qubits together in such a way that they become interconnected.  Changing the state of one entangled qubit instantly affects the others, no matter how far apart they are. This allows quantum computers to perform complex calculations in a coordinated and incredibly efficient way.\n",
      "\n",
      "**So, what does this mean in practice?**\n",
      "\n",
      "Because of superposition and entanglement, quantum computers can:\n",
      "\n",
      "* **Solve certain problems that are practically impossible for even the most powerful regular computers.**  These are problems that would take classical computers billions of years to solve.\n",
      "* **Potentially revolutionize fields like:**\n",
      "    * **Medicine and Materials Science:** Designing new drugs and materials by simulating molecules with incredible accuracy.\n",
      "    * **Cryptography:** Breaking current encryption methods and creating new, unbreakable ones.\n",
      "    * **Artificial Intelligence:** Developing much more powerful and efficient AI algorithms.\n",
      "    * **Finance:** Optimizing complex financial models and risk management.\n",
      "\n",
      "**Important to Remember:**\n",
      "\n",
      "* **Quantum computers are NOT meant to replace your laptop or phone.** They are specialized machines designed for very specific types of complex problems.\n",
      "* **Quantum computing is still in its early stages.**  Building and programming quantum computers is incredibly challenging.  We are still years away from widespread practical quantum computers.\n",
      "* **They are not \"faster\" in the way we usually think of speed.**  They are better at solving *certain types* of problems much more efficiently, not necessarily faster at everyday tasks like browsing the internet.\n",
      "\n",
      "**In a Nutshell:**\n",
      "\n",
      "Quantum computers are a new type of computer that uses the strange rules of quantum mechanics to perform calculations in a fundamentally different way than regular computers. They leverage superposition and entanglement to explore many possibilities simultaneously, potentially unlocking solutions to problems currently beyond our reach.  Think of them as incredibly powerful, specialized tools for tackling the most complex challenges in science and technology.\n"
     ]
    }
   ],
   "source": [
    "print(response.content)"
   ]
  },
  {
   "cell_type": "code",
   "execution_count": 10,
   "metadata": {},
   "outputs": [],
   "source": [
    "import os\n",
    "from google import genai\n",
    "from google.genai import types"
   ]
  },
  {
   "cell_type": "code",
   "execution_count": 11,
   "metadata": {},
   "outputs": [],
   "source": [
    "client = genai.Client(api_key = os.environ['GOOGLE_GEMINI_API_KEY'])"
   ]
  },
  {
   "cell_type": "code",
   "execution_count": 13,
   "metadata": {},
   "outputs": [],
   "source": [
    "response = client.models.generate_content(\n",
    "    model = \"gemini-2.0-flash-thinking-exp-01-21\",\n",
    "    contents = \"Explain quantum computing in simple terms\",\n",
    "    config = types.GenerateContentConfig(\n",
    "        temperature = 0.2\n",
    "    )\n",
    ")"
   ]
  },
  {
   "cell_type": "code",
   "execution_count": 14,
   "metadata": {},
   "outputs": [
    {
     "data": {
      "text/plain": [
       "GenerateContentResponse(candidates=[Candidate(content=Content(parts=[Part(video_metadata=None, thought=None, code_execution_result=None, executable_code=None, file_data=None, function_call=None, function_response=None, inline_data=None, text='Okay, imagine regular computers are like light switches. They can be either **on** (representing a 1) or **off** (representing a 0).  Everything a regular computer does, from showing you cat videos to calculating your taxes, is based on these simple on/off switches, called **bits**.\\n\\n**Quantum computers are different. Instead of light switches, think of them like dimmer switches.**\\n\\nHere\\'s the breakdown:\\n\\n1. **Regular Computers (Classical): Bits are like light switches.**\\n   *  A bit is either a 0 or a 1.  It\\'s definite.\\n   *  Think of it as a coin that\\'s either heads or tails.\\n\\n2. **Quantum Computers: Qubits are like dimmer switches (or spinning coins).**\\n   *  A **qubit** (quantum bit) is *not* just 0 or 1. It can be **both 0 and 1 at the same time**!  This is called **superposition**.\\n   *  Imagine that coin spinning in the air. It\\'s not heads or tails *yet*. It\\'s in a state of being both until it lands. A qubit is similar – it\\'s in a \"both\" state until we measure it.\\n   *  Think of the dimmer switch. It can be fully off (0), fully on (1), or *anywhere in between*.  Qubits are like that \"in-between\" state.\\n\\n**Why is this \"both at once\" thing so powerful?**\\n\\n* **Doing Many Things at Once:** Because qubits can be both 0 and 1 simultaneously, a quantum computer can explore many possibilities at the same time.  Imagine you\\'re searching a maze. A regular computer tries one path at a time. A quantum computer can try *all* paths at the same time!\\n\\n* **Entanglement: Spooky Connection:**  Quantum computers also use something called **entanglement**. Imagine you have two of those spinning coins, but they are magically linked. When one coin lands on heads, the other *instantly* lands on tails, no matter how far apart they are. Entangled qubits are linked in a similar way.  This allows them to work together in a coordinated way, making calculations even faster and more complex.\\n\\n**Think of it like this analogy:**\\n\\n* **Finding a specific grain of sand on a beach:**\\n    * **Regular Computer:**  You have to check each grain of sand, one by one, until you find the right one.  Slow and tedious.\\n    * **Quantum Computer:**  It\\'s like you can somehow look at *all* the grains of sand at once and instantly find the one you\\'re looking for.  Much, much faster for certain types of problems.\\n\\n**What are Quantum Computers good for?**\\n\\nQuantum computers are *not* going to replace your laptop or phone for everyday tasks like browsing the internet or writing emails. They are designed for very specific, very complex problems that are too hard for even the most powerful regular computers.  These include:\\n\\n* **Drug and Material Discovery:**  Simulating molecules to design new drugs and materials.\\n* **Breaking Codes (Cryptography):**  Potentially breaking current encryption methods (and also creating new, stronger ones).\\n* **Optimizing Complex Systems:**  Like traffic flow, financial markets, or logistics.\\n* **Developing New AI:**  Potentially leading to much more powerful artificial intelligence.\\n\\n**Important things to remember:**\\n\\n* **Early Stage Technology:** Quantum computing is still in its very early stages.  It\\'s like computers were in the 1950s.\\n* **Not for Everything:**  They are not better than regular computers for all tasks. They are specialized tools for specific problems.\\n* **Fragile:** Qubits are very sensitive to their environment and can easily lose their quantum properties (this is called decoherence). Building and maintaining quantum computers is incredibly challenging.\\n\\n**In short, quantum computers are a fundamentally different way of computing that leverages the weird and wonderful rules of quantum mechanics to solve problems that are impossible for regular computers. They are like super-powered dimmer switches that can explore many possibilities simultaneously, opening up exciting new possibilities in science, technology, and beyond.**')], role='model'), citation_metadata=None, finish_message=None, token_count=None, avg_logprobs=None, finish_reason=<FinishReason.STOP: 'STOP'>, grounding_metadata=None, index=0, logprobs_result=None, safety_ratings=None)], model_version='gemini-2.0-flash-thinking-exp-01-21', prompt_feedback=None, usage_metadata=GenerateContentResponseUsageMetadata(cached_content_token_count=None, candidates_token_count=895, prompt_token_count=7, total_token_count=902), automatic_function_calling_history=[], parsed=None)"
      ]
     },
     "execution_count": 14,
     "metadata": {},
     "output_type": "execute_result"
    }
   ],
   "source": [
    "response"
   ]
  },
  {
   "cell_type": "code",
   "execution_count": 15,
   "metadata": {},
   "outputs": [
    {
     "data": {
      "text/plain": [
       "([], None, None)"
      ]
     },
     "execution_count": 15,
     "metadata": {},
     "output_type": "execute_result"
    }
   ],
   "source": [
    "response.automatic_function_calling_history, response.parsed, response.prompt_feedback"
   ]
  },
  {
   "cell_type": "code",
   "execution_count": 19,
   "metadata": {},
   "outputs": [
    {
     "data": {
      "text/plain": [
       "(7, 895, 902)"
      ]
     },
     "execution_count": 19,
     "metadata": {},
     "output_type": "execute_result"
    }
   ],
   "source": [
    "response.usage_metadata.prompt_token_count, response.usage_metadata.candidates_token_count, response.usage_metadata.total_token_count"
   ]
  },
  {
   "cell_type": "code",
   "execution_count": 26,
   "metadata": {},
   "outputs": [
    {
     "name": "stdout",
     "output_type": "stream",
     "text": [
      "Okay, imagine regular computers are like light switches. They can be either **on** (representing a 1) or **off** (representing a 0).  Everything a regular computer does, from showing you cat videos to calculating your taxes, is based on these simple on/off switches, called **bits**.\n",
      "\n",
      "**Quantum computers are different. Instead of light switches, think of them like dimmer switches.**\n",
      "\n",
      "Here's the breakdown:\n",
      "\n",
      "1. **Regular Computers (Classical): Bits are like light switches.**\n",
      "   *  A bit is either a 0 or a 1.  It's definite.\n",
      "   *  Think of it as a coin that's either heads or tails.\n",
      "\n",
      "2. **Quantum Computers: Qubits are like dimmer switches (or spinning coins).**\n",
      "   *  A **qubit** (quantum bit) is *not* just 0 or 1. It can be **both 0 and 1 at the same time**!  This is called **superposition**.\n",
      "   *  Imagine that coin spinning in the air. It's not heads or tails *yet*. It's in a state of being both until it lands. A qubit is similar – it's in a \"both\" state until we measure it.\n",
      "   *  Think of the dimmer switch. It can be fully off (0), fully on (1), or *anywhere in between*.  Qubits are like that \"in-between\" state.\n",
      "\n",
      "**Why is this \"both at once\" thing so powerful?**\n",
      "\n",
      "* **Doing Many Things at Once:** Because qubits can be both 0 and 1 simultaneously, a quantum computer can explore many possibilities at the same time.  Imagine you're searching a maze. A regular computer tries one path at a time. A quantum computer can try *all* paths at the same time!\n",
      "\n",
      "* **Entanglement: Spooky Connection:**  Quantum computers also use something called **entanglement**. Imagine you have two of those spinning coins, but they are magically linked. When one coin lands on heads, the other *instantly* lands on tails, no matter how far apart they are. Entangled qubits are linked in a similar way.  This allows them to work together in a coordinated way, making calculations even faster and more complex.\n",
      "\n",
      "**Think of it like this analogy:**\n",
      "\n",
      "* **Finding a specific grain of sand on a beach:**\n",
      "    * **Regular Computer:**  You have to check each grain of sand, one by one, until you find the right one.  Slow and tedious.\n",
      "    * **Quantum Computer:**  It's like you can somehow look at *all* the grains of sand at once and instantly find the one you're looking for.  Much, much faster for certain types of problems.\n",
      "\n",
      "**What are Quantum Computers good for?**\n",
      "\n",
      "Quantum computers are *not* going to replace your laptop or phone for everyday tasks like browsing the internet or writing emails. They are designed for very specific, very complex problems that are too hard for even the most powerful regular computers.  These include:\n",
      "\n",
      "* **Drug and Material Discovery:**  Simulating molecules to design new drugs and materials.\n",
      "* **Breaking Codes (Cryptography):**  Potentially breaking current encryption methods (and also creating new, stronger ones).\n",
      "* **Optimizing Complex Systems:**  Like traffic flow, financial markets, or logistics.\n",
      "* **Developing New AI:**  Potentially leading to much more powerful artificial intelligence.\n",
      "\n",
      "**Important things to remember:**\n",
      "\n",
      "* **Early Stage Technology:** Quantum computing is still in its very early stages.  It's like computers were in the 1950s.\n",
      "* **Not for Everything:**  They are not better than regular computers for all tasks. They are specialized tools for specific problems.\n",
      "* **Fragile:** Qubits are very sensitive to their environment and can easily lose their quantum properties (this is called decoherence). Building and maintaining quantum computers is incredibly challenging.\n",
      "\n",
      "**In short, quantum computers are a fundamentally different way of computing that leverages the weird and wonderful rules of quantum mechanics to solve problems that are impossible for regular computers. They are like super-powered dimmer switches that can explore many possibilities simultaneously, opening up exciting new possibilities in science, technology, and beyond.**\n"
     ]
    }
   ],
   "source": [
    "print(response.candidates[0].content.parts[0].text)"
   ]
  },
  {
   "cell_type": "code",
   "execution_count": 27,
   "metadata": {},
   "outputs": [],
   "source": [
    "response = client.models.generate_content(\n",
    "    model = \"gemini-2.0-flash-thinking-exp\",\n",
    "    contents = \"Explain quantum computing in simple terms\",\n",
    "    config = types.GenerateContentConfig(\n",
    "        temperature = 0.2\n",
    "    )\n",
    ")"
   ]
  },
  {
   "cell_type": "code",
   "execution_count": 28,
   "metadata": {},
   "outputs": [
    {
     "data": {
      "text/plain": [
       "GenerateContentResponse(candidates=[Candidate(content=Content(parts=[Part(video_metadata=None, thought=None, code_execution_result=None, executable_code=None, file_data=None, function_call=None, function_response=None, inline_data=None, text='Imagine regular computers are like light switches. They can be either **on** (representing 1) or **off** (representing 0).  Everything a regular computer does, from showing you cat videos to calculating your taxes, is based on these simple on/off switches, called **bits**.\\n\\n**Quantum computers are different. Instead of light switches, imagine dimmer switches.**\\n\\nHere\\'s the breakdown:\\n\\n* **Regular Computer Bits (like light switches):**  Think of a light switch. It can be either ON or OFF.  That\\'s it.  A bit in a regular computer is the same – it\\'s either a 0 or a 1.\\n\\n* **Quantum Computer Qubits (like dimmer switches):** Now imagine a dimmer switch. It\\'s not just ON or OFF. It can be ON, OFF, *or anywhere in between*.  A **qubit** in a quantum computer is like this dimmer switch. It can be a 0, a 1, **or a combination of both at the same time!** This \"in-between\" state is called **superposition**.\\n\\n**Think of it like this:**\\n\\n* **Bit:**  A coin can be either heads or tails.\\n* **Qubit:** A coin spinning in the air. It\\'s *both* heads and tails at the same time until it lands.\\n\\n**Why is this \"both at once\" thing so powerful?**\\n\\nBecause a qubit can be both 0 and 1 simultaneously, it can explore many possibilities at the same time.  Imagine you\\'re trying to find your way through a maze.\\n\\n* **Regular computer:**  Tries one path at a time. If it\\'s wrong, it backtracks and tries another.\\n* **Quantum computer:**  Tries *all* paths at the same time!  It\\'s like exploring the entire maze simultaneously.\\n\\n**Another key concept is \"entanglement\":**\\n\\nImagine you have two of those spinning coins (qubits).  If you **entangle** them, it\\'s like they are magically linked.  If one coin lands on heads, you instantly know the other will land on tails, *even if they are miles apart!*\\n\\nEntanglement allows qubits to be connected and work together in a very powerful way, further increasing the computer\\'s ability to explore many possibilities at once.\\n\\n**So, in simple terms, quantum computers are:**\\n\\n* **Based on qubits, not bits.**\\n* **Qubits can be 0, 1, or both at the same time (superposition).**\\n* **Qubits can be linked together in a special way (entanglement).**\\n* **This allows them to explore many possibilities simultaneously, making them incredibly powerful for certain types of problems.**\\n\\n**What are they good for?**\\n\\nQuantum computers are *not* meant to replace your laptop or phone. They are specialized machines designed for very specific, complex problems that are too hard for even the most powerful regular computers.  These problems include:\\n\\n* **Discovering new medicines and materials:** Simulating molecules to understand how they work and design new ones.\\n* **Breaking modern encryption:**  Potentially cracking the codes that protect our online data (though this is still a ways off and quantum-resistant encryption is being developed).\\n* **Optimizing complex systems:**  Like traffic flow, financial markets, or supply chains.\\n* **Developing better artificial intelligence:**  Potentially leading to more powerful and efficient AI algorithms.\\n\\n**In short, quantum computing is a revolutionary new way of computing that harnesses the weird and wonderful rules of quantum mechanics to solve problems that are currently impossible for regular computers.**  It\\'s still in its early stages, but it has the potential to change many fields in the future.')], role='model'), citation_metadata=None, finish_message=None, token_count=None, avg_logprobs=None, finish_reason=<FinishReason.STOP: 'STOP'>, grounding_metadata=None, index=0, logprobs_result=None, safety_ratings=None)], model_version='gemini-2.0-flash-thinking-exp-01-21', prompt_feedback=None, usage_metadata=GenerateContentResponseUsageMetadata(cached_content_token_count=None, candidates_token_count=792, prompt_token_count=7, total_token_count=799), automatic_function_calling_history=[], parsed=None)"
      ]
     },
     "execution_count": 28,
     "metadata": {},
     "output_type": "execute_result"
    }
   ],
   "source": [
    "response"
   ]
  },
  {
   "cell_type": "code",
   "execution_count": null,
   "metadata": {},
   "outputs": [],
   "source": []
  }
 ],
 "metadata": {
  "kernelspec": {
   "display_name": "lcenv",
   "language": "python",
   "name": "python3"
  },
  "language_info": {
   "codemirror_mode": {
    "name": "ipython",
    "version": 3
   },
   "file_extension": ".py",
   "mimetype": "text/x-python",
   "name": "python",
   "nbconvert_exporter": "python",
   "pygments_lexer": "ipython3",
   "version": "3.10.11"
  }
 },
 "nbformat": 4,
 "nbformat_minor": 2
}
