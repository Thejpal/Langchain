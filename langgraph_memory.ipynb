{
 "cells": [
  {
   "cell_type": "markdown",
   "id": "462cb54a",
   "metadata": {},
   "source": [
    "## **State updates by nodes**\n",
    "\n",
    "* In the previous notebook the state is being overwritten by the nodes which means we are losing all the updates\n",
    "* If we want to preserve the previous data or make transformations on top of that data, we can use Anootations and reducer functions\n",
    "* The following example shows three ways updates can be done. Either through messages, math operations or string operations"
   ]
  },
  {
   "cell_type": "code",
   "execution_count": 1,
   "id": "3ed6febb",
   "metadata": {},
   "outputs": [],
   "source": [
    "from langgraph.graph import StateGraph, add_messages, START, END\n",
    "from typing_extensions import TypedDict, Annotated\n",
    "from operator import add"
   ]
  },
  {
   "cell_type": "code",
   "execution_count": 2,
   "id": "6fe510cb",
   "metadata": {},
   "outputs": [],
   "source": [
    "class State(TypedDict):\n",
    "    var1: Annotated[list[str], add_messages]\n",
    "    var2: Annotated[int, add]\n",
    "    var3: Annotated[str, add]"
   ]
  },
  {
   "cell_type": "code",
   "execution_count": 3,
   "id": "62f17d59",
   "metadata": {},
   "outputs": [],
   "source": [
    "builder1 = StateGraph(State)\n",
    "\n",
    "def node1(state: State):\n",
    "    return {\"var1\": [\"b\"], \"var2\": 2, \"var3\": \"b\"}\n",
    "\n",
    "def node2(state: State):\n",
    "    return {\"var1\": [\"c\"], \"var2\": 3, \"var3\": \"c\"}\n",
    "\n",
    "builder1.add_node(node1, \"node1\")\n",
    "builder1.add_node(node2, \"node2\")\n",
    "\n",
    "builder1.add_edge(START, \"node1\")\n",
    "builder1.add_edge(\"node1\", \"node2\")\n",
    "builder1.add_edge(\"node2\", END)\n",
    "\n",
    "graph1 =  builder1.compile()\n",
    "graph1.debug = True"
   ]
  },
  {
   "cell_type": "code",
   "execution_count": 4,
   "id": "177ec212",
   "metadata": {},
   "outputs": [
    {
     "name": "stdout",
     "output_type": "stream",
     "text": [
      "+-----------+  \n",
      "| __start__ |  \n",
      "+-----------+  \n",
      "      *        \n",
      "      *        \n",
      "      *        \n",
      "  +-------+    \n",
      "  | node1 |    \n",
      "  +-------+    \n",
      "      *        \n",
      "      *        \n",
      "      *        \n",
      "  +-------+    \n",
      "  | node2 |    \n",
      "  +-------+    \n",
      "      *        \n",
      "      *        \n",
      "      *        \n",
      " +---------+   \n",
      " | __end__ |   \n",
      " +---------+   \n",
      "None\n"
     ]
    }
   ],
   "source": [
    "print(graph1.get_graph().print_ascii())"
   ]
  },
  {
   "cell_type": "code",
   "execution_count": 5,
   "id": "5b3faa05",
   "metadata": {},
   "outputs": [
    {
     "data": {
      "image/png": "[encoded data removed]",
      "text/plain": [
       "<langgraph.graph.state.CompiledStateGraph object at 0x0000016E4A655030>"
      ]
     },
     "execution_count": 5,
     "metadata": {},
     "output_type": "execute_result"
    }
   ],
   "source": [
    "graph1"
   ]
  },
  {
   "cell_type": "code",
   "execution_count": 6,
   "id": "b3e93e3f",
   "metadata": {},
   "outputs": [
    {
     "name": "stdout",
     "output_type": "stream",
     "text": [
      "\u001b[36;1m\u001b[1;3m[-1:checkpoint]\u001b[0m \u001b[1mState at the end of step -1:\n",
      "\u001b[0m{'var1': [], 'var2': 0, 'var3': ''}\n",
      "\u001b[36;1m\u001b[1;3m[0:tasks]\u001b[0m \u001b[1mStarting 1 task for step 0:\n",
      "\u001b[0m- \u001b[32;1m\u001b[1;3m__start__\u001b[0m -> {'var1': ['a'], 'var2': 1, 'var3': 'a'}\n",
      "\u001b[36;1m\u001b[1;3m[0:writes]\u001b[0m \u001b[1mFinished step 0 with writes to 3 channels:\n",
      "\u001b[0m- \u001b[33;1m\u001b[1;3mvar1\u001b[0m -> ['a']\n",
      "- \u001b[33;1m\u001b[1;3mvar2\u001b[0m -> 1\n",
      "- \u001b[33;1m\u001b[1;3mvar3\u001b[0m -> 'a'\n",
      "\u001b[36;1m\u001b[1;3m[0:checkpoint]\u001b[0m \u001b[1mState at the end of step 0:\n",
      "\u001b[0m{'var1': [HumanMessage(content='a', additional_kwargs={}, response_metadata={}, id='94b4a1aa-fa3d-459b-9877-4593d1d2088e')],\n",
      " 'var2': 1,\n",
      " 'var3': 'a'}\n",
      "\u001b[36;1m\u001b[1;3m[1:tasks]\u001b[0m \u001b[1mStarting 1 task for step 1:\n",
      "\u001b[0m- \u001b[32;1m\u001b[1;3mnode1\u001b[0m -> {'var1': [HumanMessage(content='a', additional_kwargs={}, response_metadata={}, id='94b4a1aa-fa3d-459b-9877-4593d1d2088e')],\n",
      " 'var2': 1,\n",
      " 'var3': 'a'}\n",
      "\u001b[36;1m\u001b[1;3m[1:writes]\u001b[0m \u001b[1mFinished step 1 with writes to 3 channels:\n",
      "\u001b[0m- \u001b[33;1m\u001b[1;3mvar1\u001b[0m -> ['b']\n",
      "- \u001b[33;1m\u001b[1;3mvar2\u001b[0m -> 2\n",
      "- \u001b[33;1m\u001b[1;3mvar3\u001b[0m -> 'b'\n",
      "\u001b[36;1m\u001b[1;3m[1:checkpoint]\u001b[0m \u001b[1mState at the end of step 1:\n",
      "\u001b[0m{'var1': [HumanMessage(content='a', additional_kwargs={}, response_metadata={}, id='94b4a1aa-fa3d-459b-9877-4593d1d2088e'),\n",
      "          HumanMessage(content='b', additional_kwargs={}, response_metadata={}, id='2ba13a55-8ab8-42f3-b92b-3555624ea871')],\n",
      " 'var2': 3,\n",
      " 'var3': 'ab'}\n",
      "\u001b[36;1m\u001b[1;3m[2:tasks]\u001b[0m \u001b[1mStarting 1 task for step 2:\n",
      "\u001b[0m- \u001b[32;1m\u001b[1;3mnode2\u001b[0m -> {'var1': [HumanMessage(content='a', additional_kwargs={}, response_metadata={}, id='94b4a1aa-fa3d-459b-9877-4593d1d2088e'),\n",
      "          HumanMessage(content='b', additional_kwargs={}, response_metadata={}, id='2ba13a55-8ab8-42f3-b92b-3555624ea871')],\n",
      " 'var2': 3,\n",
      " 'var3': 'ab'}\n",
      "\u001b[36;1m\u001b[1;3m[2:writes]\u001b[0m \u001b[1mFinished step 2 with writes to 3 channels:\n",
      "\u001b[0m- \u001b[33;1m\u001b[1;3mvar1\u001b[0m -> ['c']\n",
      "- \u001b[33;1m\u001b[1;3mvar2\u001b[0m -> 3\n",
      "- \u001b[33;1m\u001b[1;3mvar3\u001b[0m -> 'c'\n",
      "\u001b[36;1m\u001b[1;3m[2:checkpoint]\u001b[0m \u001b[1mState at the end of step 2:\n",
      "\u001b[0m{'var1': [HumanMessage(content='a', additional_kwargs={}, response_metadata={}, id='94b4a1aa-fa3d-459b-9877-4593d1d2088e'),\n",
      "          HumanMessage(content='b', additional_kwargs={}, response_metadata={}, id='2ba13a55-8ab8-42f3-b92b-3555624ea871'),\n",
      "          HumanMessage(content='c', additional_kwargs={}, response_metadata={}, id='7438f671-fbd2-47b0-8418-8a9c2408946a')],\n",
      " 'var2': 6,\n",
      " 'var3': 'abc'}\n"
     ]
    },
    {
     "data": {
      "text/plain": [
       "{'var1': [HumanMessage(content='a', additional_kwargs={}, response_metadata={}, id='94b4a1aa-fa3d-459b-9877-4593d1d2088e'),\n",
       "  HumanMessage(content='b', additional_kwargs={}, response_metadata={}, id='2ba13a55-8ab8-42f3-b92b-3555624ea871'),\n",
       "  HumanMessage(content='c', additional_kwargs={}, response_metadata={}, id='7438f671-fbd2-47b0-8418-8a9c2408946a')],\n",
       " 'var2': 6,\n",
       " 'var3': 'abc'}"
      ]
     },
     "execution_count": 6,
     "metadata": {},
     "output_type": "execute_result"
    }
   ],
   "source": [
    "graph1.invoke({\"var1\": [\"a\"], \"var2\": 1, \"var3\": \"a\"})"
   ]
  },
  {
   "cell_type": "code",
   "execution_count": 7,
   "id": "e28405c1",
   "metadata": {},
   "outputs": [
    {
     "name": "stdout",
     "output_type": "stream",
     "text": [
      "\u001b[36;1m\u001b[1;3m[-1:checkpoint]\u001b[0m \u001b[1mState at the end of step -1:\n",
      "\u001b[0m{'var1': [], 'var2': 0, 'var3': ''}\n",
      "\u001b[36;1m\u001b[1;3m[0:tasks]\u001b[0m \u001b[1mStarting 1 task for step 0:\n",
      "\u001b[0m- \u001b[32;1m\u001b[1;3m__start__\u001b[0m -> {'var1': ['c'], 'var2': 5, 'var3': 'c'}\n",
      "\u001b[36;1m\u001b[1;3m[0:writes]\u001b[0m \u001b[1mFinished step 0 with writes to 3 channels:\n",
      "\u001b[0m- \u001b[33;1m\u001b[1;3mvar1\u001b[0m -> ['c']\n",
      "- \u001b[33;1m\u001b[1;3mvar2\u001b[0m -> 5\n",
      "- \u001b[33;1m\u001b[1;3mvar3\u001b[0m -> 'c'\n",
      "\u001b[36;1m\u001b[1;3m[0:checkpoint]\u001b[0m \u001b[1mState at the end of step 0:\n",
      "\u001b[0m{'var1': [HumanMessage(content='c', additional_kwargs={}, response_metadata={}, id='060b222b-bad2-47d8-96d0-59914d1e0203')],\n",
      " 'var2': 5,\n",
      " 'var3': 'c'}\n",
      "\u001b[36;1m\u001b[1;3m[1:tasks]\u001b[0m \u001b[1mStarting 1 task for step 1:\n",
      "\u001b[0m- \u001b[32;1m\u001b[1;3mnode1\u001b[0m -> {'var1': [HumanMessage(content='c', additional_kwargs={}, response_metadata={}, id='060b222b-bad2-47d8-96d0-59914d1e0203')],\n",
      " 'var2': 5,\n",
      " 'var3': 'c'}\n",
      "\u001b[36;1m\u001b[1;3m[1:writes]\u001b[0m \u001b[1mFinished step 1 with writes to 3 channels:\n",
      "\u001b[0m- \u001b[33;1m\u001b[1;3mvar1\u001b[0m -> ['b']\n",
      "- \u001b[33;1m\u001b[1;3mvar2\u001b[0m -> 2\n",
      "- \u001b[33;1m\u001b[1;3mvar3\u001b[0m -> 'b'\n",
      "\u001b[36;1m\u001b[1;3m[1:checkpoint]\u001b[0m \u001b[1mState at the end of step 1:\n",
      "\u001b[0m{'var1': [HumanMessage(content='c', additional_kwargs={}, response_metadata={}, id='060b222b-bad2-47d8-96d0-59914d1e0203'),\n",
      "          HumanMessage(content='b', additional_kwargs={}, response_metadata={}, id='0f48b032-3df2-4dc3-9ce6-20a92f2eb4b1')],\n",
      " 'var2': 7,\n",
      " 'var3': 'cb'}\n",
      "\u001b[36;1m\u001b[1;3m[2:tasks]\u001b[0m \u001b[1mStarting 1 task for step 2:\n",
      "\u001b[0m- \u001b[32;1m\u001b[1;3mnode2\u001b[0m -> {'var1': [HumanMessage(content='c', additional_kwargs={}, response_metadata={}, id='060b222b-bad2-47d8-96d0-59914d1e0203'),\n",
      "          HumanMessage(content='b', additional_kwargs={}, response_metadata={}, id='0f48b032-3df2-4dc3-9ce6-20a92f2eb4b1')],\n",
      " 'var2': 7,\n",
      " 'var3': 'cb'}\n",
      "\u001b[36;1m\u001b[1;3m[2:writes]\u001b[0m \u001b[1mFinished step 2 with writes to 3 channels:\n",
      "\u001b[0m- \u001b[33;1m\u001b[1;3mvar1\u001b[0m -> ['c']\n",
      "- \u001b[33;1m\u001b[1;3mvar2\u001b[0m -> 3\n",
      "- \u001b[33;1m\u001b[1;3mvar3\u001b[0m -> 'c'\n",
      "\u001b[36;1m\u001b[1;3m[2:checkpoint]\u001b[0m \u001b[1mState at the end of step 2:\n",
      "\u001b[0m{'var1': [HumanMessage(content='c', additional_kwargs={}, response_metadata={}, id='060b222b-bad2-47d8-96d0-59914d1e0203'),\n",
      "          HumanMessage(content='b', additional_kwargs={}, response_metadata={}, id='0f48b032-3df2-4dc3-9ce6-20a92f2eb4b1'),\n",
      "          HumanMessage(content='c', additional_kwargs={}, response_metadata={}, id='77f574dc-a7ea-4a27-9694-0bab88474be5')],\n",
      " 'var2': 10,\n",
      " 'var3': 'cbc'}\n"
     ]
    },
    {
     "data": {
      "text/plain": [
       "{'var1': [HumanMessage(content='c', additional_kwargs={}, response_metadata={}, id='060b222b-bad2-47d8-96d0-59914d1e0203'),\n",
       "  HumanMessage(content='b', additional_kwargs={}, response_metadata={}, id='0f48b032-3df2-4dc3-9ce6-20a92f2eb4b1'),\n",
       "  HumanMessage(content='c', additional_kwargs={}, response_metadata={}, id='77f574dc-a7ea-4a27-9694-0bab88474be5')],\n",
       " 'var2': 10,\n",
       " 'var3': 'cbc'}"
      ]
     },
     "execution_count": 7,
     "metadata": {},
     "output_type": "execute_result"
    }
   ],
   "source": [
    "graph1.invoke({\"var1\": [\"c\"], \"var2\": 5, \"var3\": \"c\"})"
   ]
  },
  {
   "cell_type": "code",
   "execution_count": null,
   "id": "c6dfefef",
   "metadata": {},
   "outputs": [],
   "source": []
  }
 ],
 "metadata": {
  "kernelspec": {
   "display_name": "lenv",
   "language": "python",
   "name": "python3"
  },
  "language_info": {
   "codemirror_mode": {
    "name": "ipython",
    "version": 3
   },
   "file_extension": ".py",
   "mimetype": "text/x-python",
   "name": "python",
   "nbconvert_exporter": "python",
   "pygments_lexer": "ipython3",
   "version": "3.10.11"
  }
 },
 "nbformat": 4,
 "nbformat_minor": 5
}
