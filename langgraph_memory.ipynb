{
 "cells": [
  {
   "cell_type": "markdown",
   "id": "462cb54a",
   "metadata": {},
   "source": [
    "## **State updates by nodes**\n",
    "\n",
    "* In the previous notebook the state is being overwritten by the nodes which means we are losing all the updates\n",
    "* If we want to preserve the previous data or make transformations on top of that data, we can use Anootations and reducer functions\n",
    "* The following example shows three ways updates can be done. Either through messages, math operations or string operations\n",
    "* As is shown in the example, state is not preserved between two seperate runs. Each run is isolated. The state updates are only applicable until the execution of the graph. After the execution, the state gets reset"
   ]
  },
  {
   "cell_type": "code",
   "execution_count": 1,
   "id": "3ed6febb",
   "metadata": {},
   "outputs": [],
   "source": [
    "from langgraph.graph import StateGraph, add_messages, START, END\n",
    "from typing_extensions import TypedDict, Annotated\n",
    "from operator import add"
   ]
  },
  {
   "cell_type": "code",
   "execution_count": 2,
   "id": "6fe510cb",
   "metadata": {},
   "outputs": [],
   "source": [
    "class State(TypedDict):\n",
    "    var1: Annotated[list[str], add_messages]\n",
    "    var2: Annotated[int, add]\n",
    "    var3: Annotated[str, add]"
   ]
  },
  {
   "cell_type": "code",
   "execution_count": 3,
   "id": "62f17d59",
   "metadata": {},
   "outputs": [],
   "source": [
    "builder1 = StateGraph(State)\n",
    "\n",
    "def node1(state: State):\n",
    "    return {\"var1\": [\"b\"], \"var2\": 2, \"var3\": \"b\"}\n",
    "\n",
    "def node2(state: State):\n",
    "    return {\"var1\": [\"c\"], \"var2\": 3, \"var3\": \"c\"}\n",
    "\n",
    "builder1.add_node(node1, \"node1\")\n",
    "builder1.add_node(node2, \"node2\")\n",
    "\n",
    "builder1.add_edge(START, \"node1\")\n",
    "builder1.add_edge(\"node1\", \"node2\")\n",
    "builder1.add_edge(\"node2\", END)\n",
    "\n",
    "graph1 =  builder1.compile()\n",
    "graph1.debug = True"
   ]
  },
  {
   "cell_type": "code",
   "execution_count": 4,
   "id": "177ec212",
   "metadata": {},
   "outputs": [
    {
     "name": "stdout",
     "output_type": "stream",
     "text": [
      "+-----------+  \n",
      "| __start__ |  \n",
      "+-----------+  \n",
      "      *        \n",
      "      *        \n",
      "      *        \n",
      "  +-------+    \n",
      "  | node1 |    \n",
      "  +-------+    \n",
      "      *        \n",
      "      *        \n",
      "      *        \n",
      "  +-------+    \n",
      "  | node2 |    \n",
      "  +-------+    \n",
      "      *        \n",
      "      *        \n",
      "      *        \n",
      " +---------+   \n",
      " | __end__ |   \n",
      " +---------+   \n",
      "None\n"
     ]
    }
   ],
   "source": [
    "print(graph1.get_graph().print_ascii())"
   ]
  },
  {
   "cell_type": "code",
   "execution_count": 5,
   "id": "5b3faa05",
   "metadata": {},
   "outputs": [
    {
     "data": {
      "image/png": "[encoded data removed]",
      "text/plain": [
       "<langgraph.graph.state.CompiledStateGraph object at 0x00000197BA6C2170>"
      ]
     },
     "execution_count": 5,
     "metadata": {},
     "output_type": "execute_result"
    }
   ],
   "source": [
    "graph1"
   ]
  },
  {
   "cell_type": "code",
   "execution_count": 6,
   "id": "b3e93e3f",
   "metadata": {},
   "outputs": [
    {
     "name": "stdout",
     "output_type": "stream",
     "text": [
      "\u001b[36;1m\u001b[1;3m[-1:checkpoint]\u001b[0m \u001b[1mState at the end of step -1:\n",
      "\u001b[0m{'var1': [], 'var2': 0, 'var3': ''}\n",
      "\u001b[36;1m\u001b[1;3m[0:tasks]\u001b[0m \u001b[1mStarting 1 task for step 0:\n",
      "\u001b[0m- \u001b[32;1m\u001b[1;3m__start__\u001b[0m -> {'var1': ['a'], 'var2': 1, 'var3': 'a'}\n",
      "\u001b[36;1m\u001b[1;3m[0:writes]\u001b[0m \u001b[1mFinished step 0 with writes to 3 channels:\n",
      "\u001b[0m- \u001b[33;1m\u001b[1;3mvar1\u001b[0m -> ['a']\n",
      "- \u001b[33;1m\u001b[1;3mvar2\u001b[0m -> 1\n",
      "- \u001b[33;1m\u001b[1;3mvar3\u001b[0m -> 'a'\n",
      "\u001b[36;1m\u001b[1;3m[0:checkpoint]\u001b[0m \u001b[1mState at the end of step 0:\n",
      "\u001b[0m{'var1': [HumanMessage(content='a', additional_kwargs={}, response_metadata={}, id='d494794b-815f-4799-9bff-d5e5bf8bfc89')],\n",
      " 'var2': 1,\n",
      " 'var3': 'a'}\n",
      "\u001b[36;1m\u001b[1;3m[1:tasks]\u001b[0m \u001b[1mStarting 1 task for step 1:\n",
      "\u001b[0m- \u001b[32;1m\u001b[1;3mnode1\u001b[0m -> {'var1': [HumanMessage(content='a', additional_kwargs={}, response_metadata={}, id='d494794b-815f-4799-9bff-d5e5bf8bfc89')],\n",
      " 'var2': 1,\n",
      " 'var3': 'a'}\n",
      "\u001b[36;1m\u001b[1;3m[1:writes]\u001b[0m \u001b[1mFinished step 1 with writes to 3 channels:\n",
      "\u001b[0m- \u001b[33;1m\u001b[1;3mvar1\u001b[0m -> ['b']\n",
      "- \u001b[33;1m\u001b[1;3mvar2\u001b[0m -> 2\n",
      "- \u001b[33;1m\u001b[1;3mvar3\u001b[0m -> 'b'\n",
      "\u001b[36;1m\u001b[1;3m[1:checkpoint]\u001b[0m \u001b[1mState at the end of step 1:\n",
      "\u001b[0m{'var1': [HumanMessage(content='a', additional_kwargs={}, response_metadata={}, id='d494794b-815f-4799-9bff-d5e5bf8bfc89'),\n",
      "          HumanMessage(content='b', additional_kwargs={}, response_metadata={}, id='55402d94-05c0-4074-b32f-f44a07ecf143')],\n",
      " 'var2': 3,\n",
      " 'var3': 'ab'}\n",
      "\u001b[36;1m\u001b[1;3m[2:tasks]\u001b[0m \u001b[1mStarting 1 task for step 2:\n",
      "\u001b[0m- \u001b[32;1m\u001b[1;3mnode2\u001b[0m -> {'var1': [HumanMessage(content='a', additional_kwargs={}, response_metadata={}, id='d494794b-815f-4799-9bff-d5e5bf8bfc89'),\n",
      "          HumanMessage(content='b', additional_kwargs={}, response_metadata={}, id='55402d94-05c0-4074-b32f-f44a07ecf143')],\n",
      " 'var2': 3,\n",
      " 'var3': 'ab'}\n",
      "\u001b[36;1m\u001b[1;3m[2:writes]\u001b[0m \u001b[1mFinished step 2 with writes to 3 channels:\n",
      "\u001b[0m- \u001b[33;1m\u001b[1;3mvar1\u001b[0m -> ['c']\n",
      "- \u001b[33;1m\u001b[1;3mvar2\u001b[0m -> 3\n",
      "- \u001b[33;1m\u001b[1;3mvar3\u001b[0m -> 'c'\n",
      "\u001b[36;1m\u001b[1;3m[2:checkpoint]\u001b[0m \u001b[1mState at the end of step 2:\n",
      "\u001b[0m{'var1': [HumanMessage(content='a', additional_kwargs={}, response_metadata={}, id='d494794b-815f-4799-9bff-d5e5bf8bfc89'),\n",
      "          HumanMessage(content='b', additional_kwargs={}, response_metadata={}, id='55402d94-05c0-4074-b32f-f44a07ecf143'),\n",
      "          HumanMessage(content='c', additional_kwargs={}, response_metadata={}, id='8c58a48c-1169-459f-9a05-d2075630790c')],\n",
      " 'var2': 6,\n",
      " 'var3': 'abc'}\n"
     ]
    },
    {
     "data": {
      "text/plain": [
       "{'var1': [HumanMessage(content='a', additional_kwargs={}, response_metadata={}, id='d494794b-815f-4799-9bff-d5e5bf8bfc89'),\n",
       "  HumanMessage(content='b', additional_kwargs={}, response_metadata={}, id='55402d94-05c0-4074-b32f-f44a07ecf143'),\n",
       "  HumanMessage(content='c', additional_kwargs={}, response_metadata={}, id='8c58a48c-1169-459f-9a05-d2075630790c')],\n",
       " 'var2': 6,\n",
       " 'var3': 'abc'}"
      ]
     },
     "execution_count": 6,
     "metadata": {},
     "output_type": "execute_result"
    }
   ],
   "source": [
    "graph1.invoke({\"var1\": [\"a\"], \"var2\": 1, \"var3\": \"a\"})"
   ]
  },
  {
   "cell_type": "code",
   "execution_count": 7,
   "id": "e28405c1",
   "metadata": {},
   "outputs": [
    {
     "name": "stdout",
     "output_type": "stream",
     "text": [
      "\u001b[36;1m\u001b[1;3m[-1:checkpoint]\u001b[0m \u001b[1mState at the end of step -1:\n",
      "\u001b[0m{'var1': [], 'var2': 0, 'var3': ''}\n",
      "\u001b[36;1m\u001b[1;3m[0:tasks]\u001b[0m \u001b[1mStarting 1 task for step 0:\n",
      "\u001b[0m- \u001b[32;1m\u001b[1;3m__start__\u001b[0m -> {'var1': ['c'], 'var2': 5, 'var3': 'c'}\n",
      "\u001b[36;1m\u001b[1;3m[0:writes]\u001b[0m \u001b[1mFinished step 0 with writes to 3 channels:\n",
      "\u001b[0m- \u001b[33;1m\u001b[1;3mvar1\u001b[0m -> ['c']\n",
      "- \u001b[33;1m\u001b[1;3mvar2\u001b[0m -> 5\n",
      "- \u001b[33;1m\u001b[1;3mvar3\u001b[0m -> 'c'\n",
      "\u001b[36;1m\u001b[1;3m[0:checkpoint]\u001b[0m \u001b[1mState at the end of step 0:\n",
      "\u001b[0m{'var1': [HumanMessage(content='c', additional_kwargs={}, response_metadata={}, id='a90d8633-a41a-4aa7-a437-ee509a5b6415')],\n",
      " 'var2': 5,\n",
      " 'var3': 'c'}\n",
      "\u001b[36;1m\u001b[1;3m[1:tasks]\u001b[0m \u001b[1mStarting 1 task for step 1:\n",
      "\u001b[0m- \u001b[32;1m\u001b[1;3mnode1\u001b[0m -> {'var1': [HumanMessage(content='c', additional_kwargs={}, response_metadata={}, id='a90d8633-a41a-4aa7-a437-ee509a5b6415')],\n",
      " 'var2': 5,\n",
      " 'var3': 'c'}\n",
      "\u001b[36;1m\u001b[1;3m[1:writes]\u001b[0m \u001b[1mFinished step 1 with writes to 3 channels:\n",
      "\u001b[0m- \u001b[33;1m\u001b[1;3mvar1\u001b[0m -> ['b']\n",
      "- \u001b[33;1m\u001b[1;3mvar2\u001b[0m -> 2\n",
      "- \u001b[33;1m\u001b[1;3mvar3\u001b[0m -> 'b'\n",
      "\u001b[36;1m\u001b[1;3m[1:checkpoint]\u001b[0m \u001b[1mState at the end of step 1:\n",
      "\u001b[0m{'var1': [HumanMessage(content='c', additional_kwargs={}, response_metadata={}, id='a90d8633-a41a-4aa7-a437-ee509a5b6415'),\n",
      "          HumanMessage(content='b', additional_kwargs={}, response_metadata={}, id='3ae163df-c8a3-4952-8923-71154fa6dae1')],\n",
      " 'var2': 7,\n",
      " 'var3': 'cb'}\n",
      "\u001b[36;1m\u001b[1;3m[2:tasks]\u001b[0m \u001b[1mStarting 1 task for step 2:\n",
      "\u001b[0m- \u001b[32;1m\u001b[1;3mnode2\u001b[0m -> {'var1': [HumanMessage(content='c', additional_kwargs={}, response_metadata={}, id='a90d8633-a41a-4aa7-a437-ee509a5b6415'),\n",
      "          HumanMessage(content='b', additional_kwargs={}, response_metadata={}, id='3ae163df-c8a3-4952-8923-71154fa6dae1')],\n",
      " 'var2': 7,\n",
      " 'var3': 'cb'}\n",
      "\u001b[36;1m\u001b[1;3m[2:writes]\u001b[0m \u001b[1mFinished step 2 with writes to 3 channels:\n",
      "\u001b[0m- \u001b[33;1m\u001b[1;3mvar1\u001b[0m -> ['c']\n",
      "- \u001b[33;1m\u001b[1;3mvar2\u001b[0m -> 3\n",
      "- \u001b[33;1m\u001b[1;3mvar3\u001b[0m -> 'c'\n",
      "\u001b[36;1m\u001b[1;3m[2:checkpoint]\u001b[0m \u001b[1mState at the end of step 2:\n",
      "\u001b[0m{'var1': [HumanMessage(content='c', additional_kwargs={}, response_metadata={}, id='a90d8633-a41a-4aa7-a437-ee509a5b6415'),\n",
      "          HumanMessage(content='b', additional_kwargs={}, response_metadata={}, id='3ae163df-c8a3-4952-8923-71154fa6dae1'),\n",
      "          HumanMessage(content='c', additional_kwargs={}, response_metadata={}, id='b5035ed7-7742-4e5b-a53b-b104aa516a60')],\n",
      " 'var2': 10,\n",
      " 'var3': 'cbc'}\n"
     ]
    },
    {
     "data": {
      "text/plain": [
       "{'var1': [HumanMessage(content='c', additional_kwargs={}, response_metadata={}, id='a90d8633-a41a-4aa7-a437-ee509a5b6415'),\n",
       "  HumanMessage(content='b', additional_kwargs={}, response_metadata={}, id='3ae163df-c8a3-4952-8923-71154fa6dae1'),\n",
       "  HumanMessage(content='c', additional_kwargs={}, response_metadata={}, id='b5035ed7-7742-4e5b-a53b-b104aa516a60')],\n",
       " 'var2': 10,\n",
       " 'var3': 'cbc'}"
      ]
     },
     "execution_count": 7,
     "metadata": {},
     "output_type": "execute_result"
    }
   ],
   "source": [
    "graph1.invoke({\"var1\": [\"c\"], \"var2\": 5, \"var3\": \"c\"})"
   ]
  },
  {
   "cell_type": "markdown",
   "id": "223e4b68",
   "metadata": {},
   "source": [
    "## **Multiple Annotated states**\n",
    "\n",
    "* Overall state uses add_messages as reducer and input and output states use add operator as reducer\n",
    "* As provided, the add_messages reducer adds Human message objects to the list\n",
    "* add operator simply extend the list with the new data\n",
    "* We can even update multiple states as needed in a single node"
   ]
  },
  {
   "cell_type": "code",
   "execution_count": 8,
   "id": "c6dfefef",
   "metadata": {},
   "outputs": [],
   "source": [
    "from operator import add\n",
    "\n",
    "class State1(TypedDict):\n",
    "    vara: Annotated[list[str], add]\n",
    "\n",
    "class State2(TypedDict):\n",
    "    varb: Annotated[list[str], add]"
   ]
  },
  {
   "cell_type": "code",
   "execution_count": 9,
   "id": "cde16d56",
   "metadata": {},
   "outputs": [],
   "source": [
    "builder2 = StateGraph(State, input = State1, output = State2)\n",
    "\n",
    "def node1(state: State1) -> State2:\n",
    "    data = \"\".join(state[\"vara\"]) + \"1\"\n",
    "    return {\"varb\": [data], \"var1\" : [data]}\n",
    "\n",
    "def node2(state: State2) -> State2:\n",
    "    data = \"\".join(state[\"varb\"]) + \"2\"\n",
    "    return {\"varb\": [data], \"var1\" : [data]}\n",
    "\n",
    "def node3(state: State2) -> State1:\n",
    "    data = \"\".join(state[\"varb\"]) + \"3\"\n",
    "    return {\"vara\": [data], \"var1\" : [data]}\n",
    "\n",
    "builder2.add_node(node1, \"node1\")\n",
    "builder2.add_node(node2, \"node2\")\n",
    "builder2.add_node(node3, \"node3\")\n",
    "\n",
    "builder2.add_edge(START, \"node1\")\n",
    "builder2.add_edge(\"node1\", \"node2\")\n",
    "builder2.add_edge(\"node2\", \"node3\")\n",
    "builder2.add_edge(\"node3\", END)\n",
    "\n",
    "graph2 = builder2.compile()\n",
    "graph2.debug = True"
   ]
  },
  {
   "cell_type": "code",
   "execution_count": 10,
   "id": "3a27ca5a",
   "metadata": {},
   "outputs": [
    {
     "data": {
      "image/png": "[encoded data removed]",
      "text/plain": [
       "<langgraph.graph.state.CompiledStateGraph object at 0x00000197D0AF0400>"
      ]
     },
     "execution_count": 10,
     "metadata": {},
     "output_type": "execute_result"
    }
   ],
   "source": [
    "graph2"
   ]
  },
  {
   "cell_type": "code",
   "execution_count": 13,
   "id": "dce21cfd",
   "metadata": {},
   "outputs": [
    {
     "name": "stdout",
     "output_type": "stream",
     "text": [
      "\u001b[36;1m\u001b[1;3m[-1:checkpoint]\u001b[0m \u001b[1mState at the end of step -1:\n",
      "\u001b[0m{'var1': [], 'var2': 0, 'var3': '', 'vara': [], 'varb': []}\n",
      "\u001b[36;1m\u001b[1;3m[0:tasks]\u001b[0m \u001b[1mStarting 1 task for step 0:\n",
      "\u001b[0m- \u001b[32;1m\u001b[1;3m__start__\u001b[0m -> {'vara': ['1']}\n",
      "\u001b[36;1m\u001b[1;3m[0:writes]\u001b[0m \u001b[1mFinished step 0 with writes to 1 channel:\n",
      "\u001b[0m- \u001b[33;1m\u001b[1;3mvara\u001b[0m -> ['1']\n",
      "\u001b[36;1m\u001b[1;3m[0:checkpoint]\u001b[0m \u001b[1mState at the end of step 0:\n",
      "\u001b[0m{'var1': [], 'var2': 0, 'var3': '', 'vara': ['1'], 'varb': []}\n",
      "\u001b[36;1m\u001b[1;3m[1:tasks]\u001b[0m \u001b[1mStarting 1 task for step 1:\n",
      "\u001b[0m- \u001b[32;1m\u001b[1;3mnode1\u001b[0m -> {'vara': ['1']}\n",
      "\u001b[36;1m\u001b[1;3m[1:writes]\u001b[0m \u001b[1mFinished step 1 with writes to 2 channels:\n",
      "\u001b[0m- \u001b[33;1m\u001b[1;3mvarb\u001b[0m -> ['11']\n",
      "- \u001b[33;1m\u001b[1;3mvar1\u001b[0m -> ['11']\n",
      "\u001b[36;1m\u001b[1;3m[1:checkpoint]\u001b[0m \u001b[1mState at the end of step 1:\n",
      "\u001b[0m{'var1': [HumanMessage(content='11', additional_kwargs={}, response_metadata={}, id='0381af6a-edd3-4ca5-a5a7-02ac416a0471')],\n",
      " 'var2': 0,\n",
      " 'var3': '',\n",
      " 'vara': ['1'],\n",
      " 'varb': ['11']}\n",
      "\u001b[36;1m\u001b[1;3m[2:tasks]\u001b[0m \u001b[1mStarting 1 task for step 2:\n",
      "\u001b[0m- \u001b[32;1m\u001b[1;3mnode2\u001b[0m -> {'varb': ['11']}\n",
      "\u001b[36;1m\u001b[1;3m[2:writes]\u001b[0m \u001b[1mFinished step 2 with writes to 2 channels:\n",
      "\u001b[0m- \u001b[33;1m\u001b[1;3mvarb\u001b[0m -> ['112']\n",
      "- \u001b[33;1m\u001b[1;3mvar1\u001b[0m -> ['112']\n",
      "\u001b[36;1m\u001b[1;3m[2:checkpoint]\u001b[0m \u001b[1mState at the end of step 2:\n",
      "\u001b[0m{'var1': [HumanMessage(content='11', additional_kwargs={}, response_metadata={}, id='0381af6a-edd3-4ca5-a5a7-02ac416a0471'),\n",
      "          HumanMessage(content='112', additional_kwargs={}, response_metadata={}, id='9697bd9c-7196-4042-91e8-3905715b3652')],\n",
      " 'var2': 0,\n",
      " 'var3': '',\n",
      " 'vara': ['1'],\n",
      " 'varb': ['11', '112']}\n",
      "\u001b[36;1m\u001b[1;3m[3:tasks]\u001b[0m \u001b[1mStarting 1 task for step 3:\n",
      "\u001b[0m- \u001b[32;1m\u001b[1;3mnode3\u001b[0m -> {'varb': ['11', '112']}\n",
      "\u001b[36;1m\u001b[1;3m[3:writes]\u001b[0m \u001b[1mFinished step 3 with writes to 2 channels:\n",
      "\u001b[0m- \u001b[33;1m\u001b[1;3mvara\u001b[0m -> ['111123']\n",
      "- \u001b[33;1m\u001b[1;3mvar1\u001b[0m -> ['111123']\n",
      "\u001b[36;1m\u001b[1;3m[3:checkpoint]\u001b[0m \u001b[1mState at the end of step 3:\n",
      "\u001b[0m{'var1': [HumanMessage(content='11', additional_kwargs={}, response_metadata={}, id='0381af6a-edd3-4ca5-a5a7-02ac416a0471'),\n",
      "          HumanMessage(content='112', additional_kwargs={}, response_metadata={}, id='9697bd9c-7196-4042-91e8-3905715b3652'),\n",
      "          HumanMessage(content='111123', additional_kwargs={}, response_metadata={}, id='2aacc6cb-a53d-4498-b2ec-b66a448e5f8c')],\n",
      " 'var2': 0,\n",
      " 'var3': '',\n",
      " 'vara': ['1', '111123'],\n",
      " 'varb': ['11', '112']}\n"
     ]
    },
    {
     "data": {
      "text/plain": [
       "{'varb': ['11', '112']}"
      ]
     },
     "execution_count": 13,
     "metadata": {},
     "output_type": "execute_result"
    }
   ],
   "source": [
    "graph2.invoke({\"vara\": [\"1\"]})"
   ]
  },
  {
   "cell_type": "code",
   "execution_count": 12,
   "id": "7152823b",
   "metadata": {},
   "outputs": [
    {
     "name": "stdout",
     "output_type": "stream",
     "text": [
      "\u001b[36;1m\u001b[1;3m[-1:checkpoint]\u001b[0m \u001b[1mState at the end of step -1:\n",
      "\u001b[0m{'var1': [], 'var2': 0, 'var3': '', 'vara': [], 'varb': []}\n",
      "\u001b[36;1m\u001b[1;3m[0:tasks]\u001b[0m \u001b[1mStarting 1 task for step 0:\n",
      "\u001b[0m- \u001b[32;1m\u001b[1;3m__start__\u001b[0m -> {'vara': ['0']}\n",
      "\u001b[36;1m\u001b[1;3m[0:writes]\u001b[0m \u001b[1mFinished step 0 with writes to 1 channel:\n",
      "\u001b[0m- \u001b[33;1m\u001b[1;3mvara\u001b[0m -> ['0']\n",
      "\u001b[36;1m\u001b[1;3m[0:checkpoint]\u001b[0m \u001b[1mState at the end of step 0:\n",
      "\u001b[0m{'var1': [], 'var2': 0, 'var3': '', 'vara': ['0'], 'varb': []}\n",
      "\u001b[36;1m\u001b[1;3m[1:tasks]\u001b[0m \u001b[1mStarting 1 task for step 1:\n",
      "\u001b[0m- \u001b[32;1m\u001b[1;3mnode1\u001b[0m -> {'vara': ['0']}\n",
      "\u001b[36;1m\u001b[1;3m[1:writes]\u001b[0m \u001b[1mFinished step 1 with writes to 2 channels:\n",
      "\u001b[0m- \u001b[33;1m\u001b[1;3mvarb\u001b[0m -> ['01']\n",
      "- \u001b[33;1m\u001b[1;3mvar1\u001b[0m -> ['01']\n",
      "\u001b[36;1m\u001b[1;3m[1:checkpoint]\u001b[0m \u001b[1mState at the end of step 1:\n",
      "\u001b[0m{'var1': [HumanMessage(content='01', additional_kwargs={}, response_metadata={}, id='1d4316ba-fdd7-4612-a270-7671c43a1a5e')],\n",
      " 'var2': 0,\n",
      " 'var3': '',\n",
      " 'vara': ['0'],\n",
      " 'varb': ['01']}\n",
      "\u001b[36;1m\u001b[1;3m[2:tasks]\u001b[0m \u001b[1mStarting 1 task for step 2:\n",
      "\u001b[0m- \u001b[32;1m\u001b[1;3mnode2\u001b[0m -> {'varb': ['01']}\n",
      "\u001b[36;1m\u001b[1;3m[2:writes]\u001b[0m \u001b[1mFinished step 2 with writes to 2 channels:\n",
      "\u001b[0m- \u001b[33;1m\u001b[1;3mvarb\u001b[0m -> ['012']\n",
      "- \u001b[33;1m\u001b[1;3mvar1\u001b[0m -> ['012']\n",
      "\u001b[36;1m\u001b[1;3m[2:checkpoint]\u001b[0m \u001b[1mState at the end of step 2:\n",
      "\u001b[0m{'var1': [HumanMessage(content='01', additional_kwargs={}, response_metadata={}, id='1d4316ba-fdd7-4612-a270-7671c43a1a5e'),\n",
      "          HumanMessage(content='012', additional_kwargs={}, response_metadata={}, id='bd7e2e5d-3db5-441e-8023-59902055c8ce')],\n",
      " 'var2': 0,\n",
      " 'var3': '',\n",
      " 'vara': ['0'],\n",
      " 'varb': ['01', '012']}\n",
      "\u001b[36;1m\u001b[1;3m[3:tasks]\u001b[0m \u001b[1mStarting 1 task for step 3:\n",
      "\u001b[0m- \u001b[32;1m\u001b[1;3mnode3\u001b[0m -> {'varb': ['01', '012']}\n",
      "\u001b[36;1m\u001b[1;3m[3:writes]\u001b[0m \u001b[1mFinished step 3 with writes to 2 channels:\n",
      "\u001b[0m- \u001b[33;1m\u001b[1;3mvara\u001b[0m -> ['010123']\n",
      "- \u001b[33;1m\u001b[1;3mvar1\u001b[0m -> ['010123']\n",
      "\u001b[36;1m\u001b[1;3m[3:checkpoint]\u001b[0m \u001b[1mState at the end of step 3:\n",
      "\u001b[0m{'var1': [HumanMessage(content='01', additional_kwargs={}, response_metadata={}, id='1d4316ba-fdd7-4612-a270-7671c43a1a5e'),\n",
      "          HumanMessage(content='012', additional_kwargs={}, response_metadata={}, id='bd7e2e5d-3db5-441e-8023-59902055c8ce'),\n",
      "          HumanMessage(content='010123', additional_kwargs={}, response_metadata={}, id='86e3988a-d151-45e6-bd24-54b17935e4a6')],\n",
      " 'var2': 0,\n",
      " 'var3': '',\n",
      " 'vara': ['0', '010123'],\n",
      " 'varb': ['01', '012']}\n"
     ]
    },
    {
     "data": {
      "text/plain": [
       "{'varb': ['01', '012']}"
      ]
     },
     "execution_count": 12,
     "metadata": {},
     "output_type": "execute_result"
    }
   ],
   "source": [
    "graph2.invoke({\"vara\": [\"0\"]})"
   ]
  },
  {
   "cell_type": "code",
   "execution_count": null,
   "id": "1fd5425b",
   "metadata": {},
   "outputs": [],
   "source": []
  }
 ],
 "metadata": {
  "kernelspec": {
   "display_name": "lenv",
   "language": "python",
   "name": "python3"
  },
  "language_info": {
   "codemirror_mode": {
    "name": "ipython",
    "version": 3
   },
   "file_extension": ".py",
   "mimetype": "text/x-python",
   "name": "python",
   "nbconvert_exporter": "python",
   "pygments_lexer": "ipython3",
   "version": "3.10.11"
  }
 },
 "nbformat": 4,
 "nbformat_minor": 5
}
