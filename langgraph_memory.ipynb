{
 "cells": [
  {
   "cell_type": "markdown",
   "id": "462cb54a",
   "metadata": {},
   "source": [
    "## **State updates by nodes**\n",
    "\n",
    "* In the previous notebook the state is being overwritten by the nodes which means we are losing all the updates\n",
    "* If we want to preserve the previous data or make transformations on top of that data, we can use Anootations and reducer functions\n",
    "* The following example shows three ways updates can be done. Either through messages, math operations or string operations\n",
    "* As is shown in the example, state is not preserved between two seperate runs. Each run is isolated. The state updates are only applicable until the execution of the graph. After the execution, the state gets reset"
   ]
  },
  {
   "cell_type": "code",
   "execution_count": 1,
   "id": "3ed6febb",
   "metadata": {},
   "outputs": [],
   "source": [
    "from langgraph.graph import StateGraph, add_messages, START, END\n",
    "from typing_extensions import TypedDict, Annotated\n",
    "from operator import add"
   ]
  },
  {
   "cell_type": "code",
   "execution_count": 2,
   "id": "6fe510cb",
   "metadata": {},
   "outputs": [],
   "source": [
    "class State(TypedDict):\n",
    "    var1: Annotated[list[str], add_messages]\n",
    "    var2: Annotated[int, add]\n",
    "    var3: Annotated[str, add]"
   ]
  },
  {
   "cell_type": "code",
   "execution_count": 3,
   "id": "62f17d59",
   "metadata": {},
   "outputs": [],
   "source": [
    "builder1 = StateGraph(State)\n",
    "\n",
    "def node1(state: State):\n",
    "    return {\"var1\": [\"b\"], \"var2\": 2, \"var3\": \"b\"}\n",
    "\n",
    "def node2(state: State):\n",
    "    return {\"var1\": [\"c\"], \"var2\": 3, \"var3\": \"c\"}\n",
    "\n",
    "builder1.add_node(node1, \"node1\")\n",
    "builder1.add_node(node2, \"node2\")\n",
    "\n",
    "builder1.add_edge(START, \"node1\")\n",
    "builder1.add_edge(\"node1\", \"node2\")\n",
    "builder1.add_edge(\"node2\", END)\n",
    "\n",
    "graph1 =  builder1.compile()\n",
    "graph1.debug = True"
   ]
  },
  {
   "cell_type": "code",
   "execution_count": 4,
   "id": "177ec212",
   "metadata": {},
   "outputs": [
    {
     "name": "stdout",
     "output_type": "stream",
     "text": [
      "+-----------+  \n",
      "| __start__ |  \n",
      "+-----------+  \n",
      "      *        \n",
      "      *        \n",
      "      *        \n",
      "  +-------+    \n",
      "  | node1 |    \n",
      "  +-------+    \n",
      "      *        \n",
      "      *        \n",
      "      *        \n",
      "  +-------+    \n",
      "  | node2 |    \n",
      "  +-------+    \n",
      "      *        \n",
      "      *        \n",
      "      *        \n",
      " +---------+   \n",
      " | __end__ |   \n",
      " +---------+   \n",
      "None\n"
     ]
    }
   ],
   "source": [
    "print(graph1.get_graph().print_ascii())"
   ]
  },
  {
   "cell_type": "code",
   "execution_count": 5,
   "id": "5b3faa05",
   "metadata": {},
   "outputs": [
    {
     "data": {
      "image/png": "[encoded data removed]",
      "text/plain": [
       "<langgraph.graph.state.CompiledStateGraph object at 0x00000197BA6C2170>"
      ]
     },
     "execution_count": 5,
     "metadata": {},
     "output_type": "execute_result"
    }
   ],
   "source": [
    "graph1"
   ]
  },
  {
   "cell_type": "code",
   "execution_count": 6,
   "id": "b3e93e3f",
   "metadata": {},
   "outputs": [
    {
     "name": "stdout",
     "output_type": "stream",
     "text": [
      "\u001b[36;1m\u001b[1;3m[-1:checkpoint]\u001b[0m \u001b[1mState at the end of step -1:\n",
      "\u001b[0m{'var1': [], 'var2': 0, 'var3': ''}\n",
      "\u001b[36;1m\u001b[1;3m[0:tasks]\u001b[0m \u001b[1mStarting 1 task for step 0:\n",
      "\u001b[0m- \u001b[32;1m\u001b[1;3m__start__\u001b[0m -> {'var1': ['a'], 'var2': 1, 'var3': 'a'}\n",
      "\u001b[36;1m\u001b[1;3m[0:writes]\u001b[0m \u001b[1mFinished step 0 with writes to 3 channels:\n",
      "\u001b[0m- \u001b[33;1m\u001b[1;3mvar1\u001b[0m -> ['a']\n",
      "- \u001b[33;1m\u001b[1;3mvar2\u001b[0m -> 1\n",
      "- \u001b[33;1m\u001b[1;3mvar3\u001b[0m -> 'a'\n",
      "\u001b[36;1m\u001b[1;3m[0:checkpoint]\u001b[0m \u001b[1mState at the end of step 0:\n",
      "\u001b[0m{'var1': [HumanMessage(content='a', additional_kwargs={}, response_metadata={}, id='d494794b-815f-4799-9bff-d5e5bf8bfc89')],\n",
      " 'var2': 1,\n",
      " 'var3': 'a'}\n",
      "\u001b[36;1m\u001b[1;3m[1:tasks]\u001b[0m \u001b[1mStarting 1 task for step 1:\n",
      "\u001b[0m- \u001b[32;1m\u001b[1;3mnode1\u001b[0m -> {'var1': [HumanMessage(content='a', additional_kwargs={}, response_metadata={}, id='d494794b-815f-4799-9bff-d5e5bf8bfc89')],\n",
      " 'var2': 1,\n",
      " 'var3': 'a'}\n",
      "\u001b[36;1m\u001b[1;3m[1:writes]\u001b[0m \u001b[1mFinished step 1 with writes to 3 channels:\n",
      "\u001b[0m- \u001b[33;1m\u001b[1;3mvar1\u001b[0m -> ['b']\n",
      "- \u001b[33;1m\u001b[1;3mvar2\u001b[0m -> 2\n",
      "- \u001b[33;1m\u001b[1;3mvar3\u001b[0m -> 'b'\n",
      "\u001b[36;1m\u001b[1;3m[1:checkpoint]\u001b[0m \u001b[1mState at the end of step 1:\n",
      "\u001b[0m{'var1': [HumanMessage(content='a', additional_kwargs={}, response_metadata={}, id='d494794b-815f-4799-9bff-d5e5bf8bfc89'),\n",
      "          HumanMessage(content='b', additional_kwargs={}, response_metadata={}, id='55402d94-05c0-4074-b32f-f44a07ecf143')],\n",
      " 'var2': 3,\n",
      " 'var3': 'ab'}\n",
      "\u001b[36;1m\u001b[1;3m[2:tasks]\u001b[0m \u001b[1mStarting 1 task for step 2:\n",
      "\u001b[0m- \u001b[32;1m\u001b[1;3mnode2\u001b[0m -> {'var1': [HumanMessage(content='a', additional_kwargs={}, response_metadata={}, id='d494794b-815f-4799-9bff-d5e5bf8bfc89'),\n",
      "          HumanMessage(content='b', additional_kwargs={}, response_metadata={}, id='55402d94-05c0-4074-b32f-f44a07ecf143')],\n",
      " 'var2': 3,\n",
      " 'var3': 'ab'}\n",
      "\u001b[36;1m\u001b[1;3m[2:writes]\u001b[0m \u001b[1mFinished step 2 with writes to 3 channels:\n",
      "\u001b[0m- \u001b[33;1m\u001b[1;3mvar1\u001b[0m -> ['c']\n",
      "- \u001b[33;1m\u001b[1;3mvar2\u001b[0m -> 3\n",
      "- \u001b[33;1m\u001b[1;3mvar3\u001b[0m -> 'c'\n",
      "\u001b[36;1m\u001b[1;3m[2:checkpoint]\u001b[0m \u001b[1mState at the end of step 2:\n",
      "\u001b[0m{'var1': [HumanMessage(content='a', additional_kwargs={}, response_metadata={}, id='d494794b-815f-4799-9bff-d5e5bf8bfc89'),\n",
      "          HumanMessage(content='b', additional_kwargs={}, response_metadata={}, id='55402d94-05c0-4074-b32f-f44a07ecf143'),\n",
      "          HumanMessage(content='c', additional_kwargs={}, response_metadata={}, id='8c58a48c-1169-459f-9a05-d2075630790c')],\n",
      " 'var2': 6,\n",
      " 'var3': 'abc'}\n"
     ]
    },
    {
     "data": {
      "text/plain": [
       "{'var1': [HumanMessage(content='a', additional_kwargs={}, response_metadata={}, id='d494794b-815f-4799-9bff-d5e5bf8bfc89'),\n",
       "  HumanMessage(content='b', additional_kwargs={}, response_metadata={}, id='55402d94-05c0-4074-b32f-f44a07ecf143'),\n",
       "  HumanMessage(content='c', additional_kwargs={}, response_metadata={}, id='8c58a48c-1169-459f-9a05-d2075630790c')],\n",
       " 'var2': 6,\n",
       " 'var3': 'abc'}"
      ]
     },
     "execution_count": 6,
     "metadata": {},
     "output_type": "execute_result"
    }
   ],
   "source": [
    "graph1.invoke({\"var1\": [\"a\"], \"var2\": 1, \"var3\": \"a\"})"
   ]
  },
  {
   "cell_type": "code",
   "execution_count": 7,
   "id": "e28405c1",
   "metadata": {},
   "outputs": [
    {
     "name": "stdout",
     "output_type": "stream",
     "text": [
      "\u001b[36;1m\u001b[1;3m[-1:checkpoint]\u001b[0m \u001b[1mState at the end of step -1:\n",
      "\u001b[0m{'var1': [], 'var2': 0, 'var3': ''}\n",
      "\u001b[36;1m\u001b[1;3m[0:tasks]\u001b[0m \u001b[1mStarting 1 task for step 0:\n",
      "\u001b[0m- \u001b[32;1m\u001b[1;3m__start__\u001b[0m -> {'var1': ['c'], 'var2': 5, 'var3': 'c'}\n",
      "\u001b[36;1m\u001b[1;3m[0:writes]\u001b[0m \u001b[1mFinished step 0 with writes to 3 channels:\n",
      "\u001b[0m- \u001b[33;1m\u001b[1;3mvar1\u001b[0m -> ['c']\n",
      "- \u001b[33;1m\u001b[1;3mvar2\u001b[0m -> 5\n",
      "- \u001b[33;1m\u001b[1;3mvar3\u001b[0m -> 'c'\n",
      "\u001b[36;1m\u001b[1;3m[0:checkpoint]\u001b[0m \u001b[1mState at the end of step 0:\n",
      "\u001b[0m{'var1': [HumanMessage(content='c', additional_kwargs={}, response_metadata={}, id='a90d8633-a41a-4aa7-a437-ee509a5b6415')],\n",
      " 'var2': 5,\n",
      " 'var3': 'c'}\n",
      "\u001b[36;1m\u001b[1;3m[1:tasks]\u001b[0m \u001b[1mStarting 1 task for step 1:\n",
      "\u001b[0m- \u001b[32;1m\u001b[1;3mnode1\u001b[0m -> {'var1': [HumanMessage(content='c', additional_kwargs={}, response_metadata={}, id='a90d8633-a41a-4aa7-a437-ee509a5b6415')],\n",
      " 'var2': 5,\n",
      " 'var3': 'c'}\n",
      "\u001b[36;1m\u001b[1;3m[1:writes]\u001b[0m \u001b[1mFinished step 1 with writes to 3 channels:\n",
      "\u001b[0m- \u001b[33;1m\u001b[1;3mvar1\u001b[0m -> ['b']\n",
      "- \u001b[33;1m\u001b[1;3mvar2\u001b[0m -> 2\n",
      "- \u001b[33;1m\u001b[1;3mvar3\u001b[0m -> 'b'\n",
      "\u001b[36;1m\u001b[1;3m[1:checkpoint]\u001b[0m \u001b[1mState at the end of step 1:\n",
      "\u001b[0m{'var1': [HumanMessage(content='c', additional_kwargs={}, response_metadata={}, id='a90d8633-a41a-4aa7-a437-ee509a5b6415'),\n",
      "          HumanMessage(content='b', additional_kwargs={}, response_metadata={}, id='3ae163df-c8a3-4952-8923-71154fa6dae1')],\n",
      " 'var2': 7,\n",
      " 'var3': 'cb'}\n",
      "\u001b[36;1m\u001b[1;3m[2:tasks]\u001b[0m \u001b[1mStarting 1 task for step 2:\n",
      "\u001b[0m- \u001b[32;1m\u001b[1;3mnode2\u001b[0m -> {'var1': [HumanMessage(content='c', additional_kwargs={}, response_metadata={}, id='a90d8633-a41a-4aa7-a437-ee509a5b6415'),\n",
      "          HumanMessage(content='b', additional_kwargs={}, response_metadata={}, id='3ae163df-c8a3-4952-8923-71154fa6dae1')],\n",
      " 'var2': 7,\n",
      " 'var3': 'cb'}\n",
      "\u001b[36;1m\u001b[1;3m[2:writes]\u001b[0m \u001b[1mFinished step 2 with writes to 3 channels:\n",
      "\u001b[0m- \u001b[33;1m\u001b[1;3mvar1\u001b[0m -> ['c']\n",
      "- \u001b[33;1m\u001b[1;3mvar2\u001b[0m -> 3\n",
      "- \u001b[33;1m\u001b[1;3mvar3\u001b[0m -> 'c'\n",
      "\u001b[36;1m\u001b[1;3m[2:checkpoint]\u001b[0m \u001b[1mState at the end of step 2:\n",
      "\u001b[0m{'var1': [HumanMessage(content='c', additional_kwargs={}, response_metadata={}, id='a90d8633-a41a-4aa7-a437-ee509a5b6415'),\n",
      "          HumanMessage(content='b', additional_kwargs={}, response_metadata={}, id='3ae163df-c8a3-4952-8923-71154fa6dae1'),\n",
      "          HumanMessage(content='c', additional_kwargs={}, response_metadata={}, id='b5035ed7-7742-4e5b-a53b-b104aa516a60')],\n",
      " 'var2': 10,\n",
      " 'var3': 'cbc'}\n"
     ]
    },
    {
     "data": {
      "text/plain": [
       "{'var1': [HumanMessage(content='c', additional_kwargs={}, response_metadata={}, id='a90d8633-a41a-4aa7-a437-ee509a5b6415'),\n",
       "  HumanMessage(content='b', additional_kwargs={}, response_metadata={}, id='3ae163df-c8a3-4952-8923-71154fa6dae1'),\n",
       "  HumanMessage(content='c', additional_kwargs={}, response_metadata={}, id='b5035ed7-7742-4e5b-a53b-b104aa516a60')],\n",
       " 'var2': 10,\n",
       " 'var3': 'cbc'}"
      ]
     },
     "execution_count": 7,
     "metadata": {},
     "output_type": "execute_result"
    }
   ],
   "source": [
    "graph1.invoke({\"var1\": [\"c\"], \"var2\": 5, \"var3\": \"c\"})"
   ]
  },
  {
   "cell_type": "markdown",
   "id": "223e4b68",
   "metadata": {},
   "source": [
    "## **Multiple Annotated states**\n",
    "\n",
    "* Overall state uses add_messages as reducer and input and output states use add operator as reducer\n",
    "* As provided, the add_messages reducer adds Human message objects to the list\n",
    "* add operator simply extend the list with the new data\n",
    "* We can even update multiple states as needed in a single node"
   ]
  },
  {
   "cell_type": "code",
   "execution_count": 8,
   "id": "c6dfefef",
   "metadata": {},
   "outputs": [],
   "source": [
    "from operator import add\n",
    "\n",
    "class State1(TypedDict):\n",
    "    vara: Annotated[list[str], add]\n",
    "\n",
    "class State2(TypedDict):\n",
    "    varb: Annotated[list[str], add]"
   ]
  },
  {
   "cell_type": "code",
   "execution_count": 9,
   "id": "cde16d56",
   "metadata": {},
   "outputs": [],
   "source": [
    "builder2 = StateGraph(State, input = State1, output = State2)\n",
    "\n",
    "def node1(state: State1) -> State2:\n",
    "    data = \"\".join(state[\"vara\"]) + \"1\"\n",
    "    return {\"varb\": [data], \"var1\" : [data]}\n",
    "\n",
    "def node2(state: State2) -> State2:\n",
    "    data = \"\".join(state[\"varb\"]) + \"2\"\n",
    "    return {\"varb\": [data], \"var1\" : [data]}\n",
    "\n",
    "def node3(state: State2) -> State1:\n",
    "    data = \"\".join(state[\"varb\"]) + \"3\"\n",
    "    return {\"vara\": [data], \"var1\" : [data]}\n",
    "\n",
    "builder2.add_node(node1, \"node1\")\n",
    "builder2.add_node(node2, \"node2\")\n",
    "builder2.add_node(node3, \"node3\")\n",
    "\n",
    "builder2.add_edge(START, \"node1\")\n",
    "builder2.add_edge(\"node1\", \"node2\")\n",
    "builder2.add_edge(\"node2\", \"node3\")\n",
    "builder2.add_edge(\"node3\", END)\n",
    "\n",
    "graph2 = builder2.compile()\n",
    "graph2.debug = True"
   ]
  },
  {
   "cell_type": "code",
   "execution_count": 10,
   "id": "3a27ca5a",
   "metadata": {},
   "outputs": [
    {
     "data": {
      "image/png": "[encoded data removed]",
      "text/plain": [
       "<langgraph.graph.state.CompiledStateGraph object at 0x00000197D0AF0400>"
      ]
     },
     "execution_count": 10,
     "metadata": {},
     "output_type": "execute_result"
    }
   ],
   "source": [
    "graph2"
   ]
  },
  {
   "cell_type": "code",
   "execution_count": 13,
   "id": "dce21cfd",
   "metadata": {},
   "outputs": [
    {
     "name": "stdout",
     "output_type": "stream",
     "text": [
      "\u001b[36;1m\u001b[1;3m[-1:checkpoint]\u001b[0m \u001b[1mState at the end of step -1:\n",
      "\u001b[0m{'var1': [], 'var2': 0, 'var3': '', 'vara': [], 'varb': []}\n",
      "\u001b[36;1m\u001b[1;3m[0:tasks]\u001b[0m \u001b[1mStarting 1 task for step 0:\n",
      "\u001b[0m- \u001b[32;1m\u001b[1;3m__start__\u001b[0m -> {'vara': ['1']}\n",
      "\u001b[36;1m\u001b[1;3m[0:writes]\u001b[0m \u001b[1mFinished step 0 with writes to 1 channel:\n",
      "\u001b[0m- \u001b[33;1m\u001b[1;3mvara\u001b[0m -> ['1']\n",
      "\u001b[36;1m\u001b[1;3m[0:checkpoint]\u001b[0m \u001b[1mState at the end of step 0:\n",
      "\u001b[0m{'var1': [], 'var2': 0, 'var3': '', 'vara': ['1'], 'varb': []}\n",
      "\u001b[36;1m\u001b[1;3m[1:tasks]\u001b[0m \u001b[1mStarting 1 task for step 1:\n",
      "\u001b[0m- \u001b[32;1m\u001b[1;3mnode1\u001b[0m -> {'vara': ['1']}\n",
      "\u001b[36;1m\u001b[1;3m[1:writes]\u001b[0m \u001b[1mFinished step 1 with writes to 2 channels:\n",
      "\u001b[0m- \u001b[33;1m\u001b[1;3mvarb\u001b[0m -> ['11']\n",
      "- \u001b[33;1m\u001b[1;3mvar1\u001b[0m -> ['11']\n",
      "\u001b[36;1m\u001b[1;3m[1:checkpoint]\u001b[0m \u001b[1mState at the end of step 1:\n",
      "\u001b[0m{'var1': [HumanMessage(content='11', additional_kwargs={}, response_metadata={}, id='0381af6a-edd3-4ca5-a5a7-02ac416a0471')],\n",
      " 'var2': 0,\n",
      " 'var3': '',\n",
      " 'vara': ['1'],\n",
      " 'varb': ['11']}\n",
      "\u001b[36;1m\u001b[1;3m[2:tasks]\u001b[0m \u001b[1mStarting 1 task for step 2:\n",
      "\u001b[0m- \u001b[32;1m\u001b[1;3mnode2\u001b[0m -> {'varb': ['11']}\n",
      "\u001b[36;1m\u001b[1;3m[2:writes]\u001b[0m \u001b[1mFinished step 2 with writes to 2 channels:\n",
      "\u001b[0m- \u001b[33;1m\u001b[1;3mvarb\u001b[0m -> ['112']\n",
      "- \u001b[33;1m\u001b[1;3mvar1\u001b[0m -> ['112']\n",
      "\u001b[36;1m\u001b[1;3m[2:checkpoint]\u001b[0m \u001b[1mState at the end of step 2:\n",
      "\u001b[0m{'var1': [HumanMessage(content='11', additional_kwargs={}, response_metadata={}, id='0381af6a-edd3-4ca5-a5a7-02ac416a0471'),\n",
      "          HumanMessage(content='112', additional_kwargs={}, response_metadata={}, id='9697bd9c-7196-4042-91e8-3905715b3652')],\n",
      " 'var2': 0,\n",
      " 'var3': '',\n",
      " 'vara': ['1'],\n",
      " 'varb': ['11', '112']}\n",
      "\u001b[36;1m\u001b[1;3m[3:tasks]\u001b[0m \u001b[1mStarting 1 task for step 3:\n",
      "\u001b[0m- \u001b[32;1m\u001b[1;3mnode3\u001b[0m -> {'varb': ['11', '112']}\n",
      "\u001b[36;1m\u001b[1;3m[3:writes]\u001b[0m \u001b[1mFinished step 3 with writes to 2 channels:\n",
      "\u001b[0m- \u001b[33;1m\u001b[1;3mvara\u001b[0m -> ['111123']\n",
      "- \u001b[33;1m\u001b[1;3mvar1\u001b[0m -> ['111123']\n",
      "\u001b[36;1m\u001b[1;3m[3:checkpoint]\u001b[0m \u001b[1mState at the end of step 3:\n",
      "\u001b[0m{'var1': [HumanMessage(content='11', additional_kwargs={}, response_metadata={}, id='0381af6a-edd3-4ca5-a5a7-02ac416a0471'),\n",
      "          HumanMessage(content='112', additional_kwargs={}, response_metadata={}, id='9697bd9c-7196-4042-91e8-3905715b3652'),\n",
      "          HumanMessage(content='111123', additional_kwargs={}, response_metadata={}, id='2aacc6cb-a53d-4498-b2ec-b66a448e5f8c')],\n",
      " 'var2': 0,\n",
      " 'var3': '',\n",
      " 'vara': ['1', '111123'],\n",
      " 'varb': ['11', '112']}\n"
     ]
    },
    {
     "data": {
      "text/plain": [
       "{'varb': ['11', '112']}"
      ]
     },
     "execution_count": 13,
     "metadata": {},
     "output_type": "execute_result"
    }
   ],
   "source": [
    "graph2.invoke({\"vara\": [\"1\"]})"
   ]
  },
  {
   "cell_type": "code",
   "execution_count": 12,
   "id": "7152823b",
   "metadata": {},
   "outputs": [
    {
     "name": "stdout",
     "output_type": "stream",
     "text": [
      "\u001b[36;1m\u001b[1;3m[-1:checkpoint]\u001b[0m \u001b[1mState at the end of step -1:\n",
      "\u001b[0m{'var1': [], 'var2': 0, 'var3': '', 'vara': [], 'varb': []}\n",
      "\u001b[36;1m\u001b[1;3m[0:tasks]\u001b[0m \u001b[1mStarting 1 task for step 0:\n",
      "\u001b[0m- \u001b[32;1m\u001b[1;3m__start__\u001b[0m -> {'vara': ['0']}\n",
      "\u001b[36;1m\u001b[1;3m[0:writes]\u001b[0m \u001b[1mFinished step 0 with writes to 1 channel:\n",
      "\u001b[0m- \u001b[33;1m\u001b[1;3mvara\u001b[0m -> ['0']\n",
      "\u001b[36;1m\u001b[1;3m[0:checkpoint]\u001b[0m \u001b[1mState at the end of step 0:\n",
      "\u001b[0m{'var1': [], 'var2': 0, 'var3': '', 'vara': ['0'], 'varb': []}\n",
      "\u001b[36;1m\u001b[1;3m[1:tasks]\u001b[0m \u001b[1mStarting 1 task for step 1:\n",
      "\u001b[0m- \u001b[32;1m\u001b[1;3mnode1\u001b[0m -> {'vara': ['0']}\n",
      "\u001b[36;1m\u001b[1;3m[1:writes]\u001b[0m \u001b[1mFinished step 1 with writes to 2 channels:\n",
      "\u001b[0m- \u001b[33;1m\u001b[1;3mvarb\u001b[0m -> ['01']\n",
      "- \u001b[33;1m\u001b[1;3mvar1\u001b[0m -> ['01']\n",
      "\u001b[36;1m\u001b[1;3m[1:checkpoint]\u001b[0m \u001b[1mState at the end of step 1:\n",
      "\u001b[0m{'var1': [HumanMessage(content='01', additional_kwargs={}, response_metadata={}, id='1d4316ba-fdd7-4612-a270-7671c43a1a5e')],\n",
      " 'var2': 0,\n",
      " 'var3': '',\n",
      " 'vara': ['0'],\n",
      " 'varb': ['01']}\n",
      "\u001b[36;1m\u001b[1;3m[2:tasks]\u001b[0m \u001b[1mStarting 1 task for step 2:\n",
      "\u001b[0m- \u001b[32;1m\u001b[1;3mnode2\u001b[0m -> {'varb': ['01']}\n",
      "\u001b[36;1m\u001b[1;3m[2:writes]\u001b[0m \u001b[1mFinished step 2 with writes to 2 channels:\n",
      "\u001b[0m- \u001b[33;1m\u001b[1;3mvarb\u001b[0m -> ['012']\n",
      "- \u001b[33;1m\u001b[1;3mvar1\u001b[0m -> ['012']\n",
      "\u001b[36;1m\u001b[1;3m[2:checkpoint]\u001b[0m \u001b[1mState at the end of step 2:\n",
      "\u001b[0m{'var1': [HumanMessage(content='01', additional_kwargs={}, response_metadata={}, id='1d4316ba-fdd7-4612-a270-7671c43a1a5e'),\n",
      "          HumanMessage(content='012', additional_kwargs={}, response_metadata={}, id='bd7e2e5d-3db5-441e-8023-59902055c8ce')],\n",
      " 'var2': 0,\n",
      " 'var3': '',\n",
      " 'vara': ['0'],\n",
      " 'varb': ['01', '012']}\n",
      "\u001b[36;1m\u001b[1;3m[3:tasks]\u001b[0m \u001b[1mStarting 1 task for step 3:\n",
      "\u001b[0m- \u001b[32;1m\u001b[1;3mnode3\u001b[0m -> {'varb': ['01', '012']}\n",
      "\u001b[36;1m\u001b[1;3m[3:writes]\u001b[0m \u001b[1mFinished step 3 with writes to 2 channels:\n",
      "\u001b[0m- \u001b[33;1m\u001b[1;3mvara\u001b[0m -> ['010123']\n",
      "- \u001b[33;1m\u001b[1;3mvar1\u001b[0m -> ['010123']\n",
      "\u001b[36;1m\u001b[1;3m[3:checkpoint]\u001b[0m \u001b[1mState at the end of step 3:\n",
      "\u001b[0m{'var1': [HumanMessage(content='01', additional_kwargs={}, response_metadata={}, id='1d4316ba-fdd7-4612-a270-7671c43a1a5e'),\n",
      "          HumanMessage(content='012', additional_kwargs={}, response_metadata={}, id='bd7e2e5d-3db5-441e-8023-59902055c8ce'),\n",
      "          HumanMessage(content='010123', additional_kwargs={}, response_metadata={}, id='86e3988a-d151-45e6-bd24-54b17935e4a6')],\n",
      " 'var2': 0,\n",
      " 'var3': '',\n",
      " 'vara': ['0', '010123'],\n",
      " 'varb': ['01', '012']}\n"
     ]
    },
    {
     "data": {
      "text/plain": [
       "{'varb': ['01', '012']}"
      ]
     },
     "execution_count": 12,
     "metadata": {},
     "output_type": "execute_result"
    }
   ],
   "source": [
    "graph2.invoke({\"vara\": [\"0\"]})"
   ]
  },
  {
   "cell_type": "markdown",
   "id": "562340b4",
   "metadata": {},
   "source": [
    "## **Persistent Memory for the graph**\n",
    "\n",
    "* As we saw before, state is not being persisted between runs. So, we introduce memory to the graph\n",
    "* To invoke the graph with memory initialized, it needs a config parameter. We can use this config to identify the state of the graph"
   ]
  },
  {
   "cell_type": "code",
   "execution_count": 14,
   "id": "1fd5425b",
   "metadata": {},
   "outputs": [],
   "source": [
    "from langgraph.checkpoint.memory import MemorySaver"
   ]
  },
  {
   "cell_type": "code",
   "execution_count": 15,
   "id": "c850c456",
   "metadata": {},
   "outputs": [],
   "source": [
    "checkpointer = MemorySaver()\n",
    "\n",
    "graph3 = builder2.compile(checkpointer = checkpointer)\n",
    "graph3.debug = True"
   ]
  },
  {
   "cell_type": "code",
   "execution_count": 16,
   "id": "61cfc7f6",
   "metadata": {},
   "outputs": [
    {
     "ename": "ValueError",
     "evalue": "Checkpointer requires one or more of the following 'configurable' keys: ['thread_id', 'checkpoint_ns', 'checkpoint_id']",
     "output_type": "error",
     "traceback": [
      "\u001b[1;31m---------------------------------------------------------------------------\u001b[0m",
      "\u001b[1;31mValueError\u001b[0m                                Traceback (most recent call last)",
      "Cell \u001b[1;32mIn[16], line 1\u001b[0m\n\u001b[1;32m----> 1\u001b[0m \u001b[43mgraph3\u001b[49m\u001b[38;5;241;43m.\u001b[39;49m\u001b[43minvoke\u001b[49m\u001b[43m(\u001b[49m\u001b[43m{\u001b[49m\u001b[38;5;124;43m\"\u001b[39;49m\u001b[38;5;124;43mvar1\u001b[39;49m\u001b[38;5;124;43m\"\u001b[39;49m\u001b[43m \u001b[49m\u001b[43m:\u001b[49m\u001b[43m \u001b[49m\u001b[43m[\u001b[49m\u001b[38;5;124;43m\"\u001b[39;49m\u001b[38;5;124;43m0\u001b[39;49m\u001b[38;5;124;43m\"\u001b[39;49m\u001b[43m]\u001b[49m\u001b[43m}\u001b[49m\u001b[43m)\u001b[49m\n",
      "File \u001b[1;32md:\\GenAI\\Langchain\\Langchain\\lenv\\lib\\site-packages\\langgraph\\pregel\\__init__.py:2717\u001b[0m, in \u001b[0;36mPregel.invoke\u001b[1;34m(self, input, config, stream_mode, output_keys, interrupt_before, interrupt_after, checkpoint_during, debug, **kwargs)\u001b[0m\n\u001b[0;32m   2715\u001b[0m \u001b[38;5;28;01melse\u001b[39;00m:\n\u001b[0;32m   2716\u001b[0m     chunks \u001b[38;5;241m=\u001b[39m []\n\u001b[1;32m-> 2717\u001b[0m \u001b[38;5;28;01mfor\u001b[39;00m chunk \u001b[38;5;129;01min\u001b[39;00m \u001b[38;5;28mself\u001b[39m\u001b[38;5;241m.\u001b[39mstream(\n\u001b[0;32m   2718\u001b[0m     \u001b[38;5;28minput\u001b[39m,\n\u001b[0;32m   2719\u001b[0m     config,\n\u001b[0;32m   2720\u001b[0m     stream_mode\u001b[38;5;241m=\u001b[39mstream_mode,\n\u001b[0;32m   2721\u001b[0m     output_keys\u001b[38;5;241m=\u001b[39moutput_keys,\n\u001b[0;32m   2722\u001b[0m     interrupt_before\u001b[38;5;241m=\u001b[39minterrupt_before,\n\u001b[0;32m   2723\u001b[0m     interrupt_after\u001b[38;5;241m=\u001b[39minterrupt_after,\n\u001b[0;32m   2724\u001b[0m     checkpoint_during\u001b[38;5;241m=\u001b[39mcheckpoint_during,\n\u001b[0;32m   2725\u001b[0m     debug\u001b[38;5;241m=\u001b[39mdebug,\n\u001b[0;32m   2726\u001b[0m     \u001b[38;5;241m*\u001b[39m\u001b[38;5;241m*\u001b[39mkwargs,\n\u001b[0;32m   2727\u001b[0m ):\n\u001b[0;32m   2728\u001b[0m     \u001b[38;5;28;01mif\u001b[39;00m stream_mode \u001b[38;5;241m==\u001b[39m \u001b[38;5;124m\"\u001b[39m\u001b[38;5;124mvalues\u001b[39m\u001b[38;5;124m\"\u001b[39m:\n\u001b[0;32m   2729\u001b[0m         latest \u001b[38;5;241m=\u001b[39m chunk\n",
      "File \u001b[1;32md:\\GenAI\\Langchain\\Langchain\\lenv\\lib\\site-packages\\langgraph\\pregel\\__init__.py:2267\u001b[0m, in \u001b[0;36mPregel.stream\u001b[1;34m(self, input, config, stream_mode, output_keys, interrupt_before, interrupt_after, checkpoint_during, debug, subgraphs)\u001b[0m\n\u001b[0;32m   2251\u001b[0m run_manager \u001b[38;5;241m=\u001b[39m callback_manager\u001b[38;5;241m.\u001b[39mon_chain_start(\n\u001b[0;32m   2252\u001b[0m     \u001b[38;5;28;01mNone\u001b[39;00m,\n\u001b[0;32m   2253\u001b[0m     \u001b[38;5;28minput\u001b[39m,\n\u001b[0;32m   2254\u001b[0m     name\u001b[38;5;241m=\u001b[39mconfig\u001b[38;5;241m.\u001b[39mget(\u001b[38;5;124m\"\u001b[39m\u001b[38;5;124mrun_name\u001b[39m\u001b[38;5;124m\"\u001b[39m, \u001b[38;5;28mself\u001b[39m\u001b[38;5;241m.\u001b[39mget_name()),\n\u001b[0;32m   2255\u001b[0m     run_id\u001b[38;5;241m=\u001b[39mconfig\u001b[38;5;241m.\u001b[39mget(\u001b[38;5;124m\"\u001b[39m\u001b[38;5;124mrun_id\u001b[39m\u001b[38;5;124m\"\u001b[39m),\n\u001b[0;32m   2256\u001b[0m )\n\u001b[0;32m   2257\u001b[0m \u001b[38;5;28;01mtry\u001b[39;00m:\n\u001b[0;32m   2258\u001b[0m     \u001b[38;5;66;03m# assign defaults\u001b[39;00m\n\u001b[0;32m   2259\u001b[0m     (\n\u001b[0;32m   2260\u001b[0m         debug,\n\u001b[0;32m   2261\u001b[0m         stream_modes,\n\u001b[0;32m   2262\u001b[0m         output_keys,\n\u001b[0;32m   2263\u001b[0m         interrupt_before_,\n\u001b[0;32m   2264\u001b[0m         interrupt_after_,\n\u001b[0;32m   2265\u001b[0m         checkpointer,\n\u001b[0;32m   2266\u001b[0m         store,\n\u001b[1;32m-> 2267\u001b[0m     ) \u001b[38;5;241m=\u001b[39m \u001b[38;5;28;43mself\u001b[39;49m\u001b[38;5;241;43m.\u001b[39;49m\u001b[43m_defaults\u001b[49m\u001b[43m(\u001b[49m\n\u001b[0;32m   2268\u001b[0m \u001b[43m        \u001b[49m\u001b[43mconfig\u001b[49m\u001b[43m,\u001b[49m\n\u001b[0;32m   2269\u001b[0m \u001b[43m        \u001b[49m\u001b[43mstream_mode\u001b[49m\u001b[38;5;241;43m=\u001b[39;49m\u001b[43mstream_mode\u001b[49m\u001b[43m,\u001b[49m\n\u001b[0;32m   2270\u001b[0m \u001b[43m        \u001b[49m\u001b[43moutput_keys\u001b[49m\u001b[38;5;241;43m=\u001b[39;49m\u001b[43moutput_keys\u001b[49m\u001b[43m,\u001b[49m\n\u001b[0;32m   2271\u001b[0m \u001b[43m        \u001b[49m\u001b[43minterrupt_before\u001b[49m\u001b[38;5;241;43m=\u001b[39;49m\u001b[43minterrupt_before\u001b[49m\u001b[43m,\u001b[49m\n\u001b[0;32m   2272\u001b[0m \u001b[43m        \u001b[49m\u001b[43minterrupt_after\u001b[49m\u001b[38;5;241;43m=\u001b[39;49m\u001b[43minterrupt_after\u001b[49m\u001b[43m,\u001b[49m\n\u001b[0;32m   2273\u001b[0m \u001b[43m        \u001b[49m\u001b[43mdebug\u001b[49m\u001b[38;5;241;43m=\u001b[39;49m\u001b[43mdebug\u001b[49m\u001b[43m,\u001b[49m\n\u001b[0;32m   2274\u001b[0m \u001b[43m    \u001b[49m\u001b[43m)\u001b[49m\n\u001b[0;32m   2275\u001b[0m     \u001b[38;5;66;03m# set up subgraph checkpointing\u001b[39;00m\n\u001b[0;32m   2276\u001b[0m     \u001b[38;5;28;01mif\u001b[39;00m \u001b[38;5;28mself\u001b[39m\u001b[38;5;241m.\u001b[39mcheckpointer \u001b[38;5;129;01mis\u001b[39;00m \u001b[38;5;28;01mTrue\u001b[39;00m:\n",
      "File \u001b[1;32md:\\GenAI\\Langchain\\Langchain\\lenv\\lib\\site-packages\\langgraph\\pregel\\__init__.py:2079\u001b[0m, in \u001b[0;36mPregel._defaults\u001b[1;34m(self, config, stream_mode, output_keys, interrupt_before, interrupt_after, debug)\u001b[0m\n\u001b[0;32m   2077\u001b[0m     checkpointer \u001b[38;5;241m=\u001b[39m \u001b[38;5;28mself\u001b[39m\u001b[38;5;241m.\u001b[39mcheckpointer\n\u001b[0;32m   2078\u001b[0m \u001b[38;5;28;01mif\u001b[39;00m checkpointer \u001b[38;5;129;01mand\u001b[39;00m \u001b[38;5;129;01mnot\u001b[39;00m config\u001b[38;5;241m.\u001b[39mget(CONF):\n\u001b[1;32m-> 2079\u001b[0m     \u001b[38;5;28;01mraise\u001b[39;00m \u001b[38;5;167;01mValueError\u001b[39;00m(\n\u001b[0;32m   2080\u001b[0m         \u001b[38;5;124mf\u001b[39m\u001b[38;5;124m\"\u001b[39m\u001b[38;5;124mCheckpointer requires one or more of the following \u001b[39m\u001b[38;5;124m'\u001b[39m\u001b[38;5;124mconfigurable\u001b[39m\u001b[38;5;124m'\u001b[39m\u001b[38;5;124m keys: \u001b[39m\u001b[38;5;132;01m{\u001b[39;00m[s\u001b[38;5;241m.\u001b[39mid\u001b[38;5;250m \u001b[39m\u001b[38;5;28;01mfor\u001b[39;00m\u001b[38;5;250m \u001b[39ms\u001b[38;5;250m \u001b[39m\u001b[38;5;129;01min\u001b[39;00m\u001b[38;5;250m \u001b[39mcheckpointer\u001b[38;5;241m.\u001b[39mconfig_specs]\u001b[38;5;132;01m}\u001b[39;00m\u001b[38;5;124m\"\u001b[39m\n\u001b[0;32m   2081\u001b[0m     )\n\u001b[0;32m   2082\u001b[0m \u001b[38;5;28;01mif\u001b[39;00m CONFIG_KEY_STORE \u001b[38;5;129;01min\u001b[39;00m config\u001b[38;5;241m.\u001b[39mget(CONF, {}):\n\u001b[0;32m   2083\u001b[0m     store: Optional[BaseStore] \u001b[38;5;241m=\u001b[39m config[CONF][CONFIG_KEY_STORE]\n",
      "\u001b[1;31mValueError\u001b[0m: Checkpointer requires one or more of the following 'configurable' keys: ['thread_id', 'checkpoint_ns', 'checkpoint_id']"
     ]
    }
   ],
   "source": [
    "graph3.invoke({\"var1\" : [\"0\"]})"
   ]
  },
  {
   "cell_type": "code",
   "execution_count": 17,
   "id": "9ae079ac",
   "metadata": {},
   "outputs": [
    {
     "name": "stdout",
     "output_type": "stream",
     "text": [
      "\u001b[36;1m\u001b[1;3m[-1:checkpoint]\u001b[0m \u001b[1mState at the end of step -1:\n",
      "\u001b[0m{'var1': [], 'var2': 0, 'var3': '', 'vara': [], 'varb': []}\n",
      "\u001b[36;1m\u001b[1;3m[0:tasks]\u001b[0m \u001b[1mStarting 1 task for step 0:\n",
      "\u001b[0m- \u001b[32;1m\u001b[1;3m__start__\u001b[0m -> {'var1': ['0']}\n",
      "\u001b[36;1m\u001b[1;3m[0:writes]\u001b[0m \u001b[1mFinished step 0 with writes to 0 channels:\n",
      "\u001b[0m\n",
      "\u001b[36;1m\u001b[1;3m[0:checkpoint]\u001b[0m \u001b[1mState at the end of step 0:\n",
      "\u001b[0m{'var1': [], 'var2': 0, 'var3': '', 'vara': [], 'varb': []}\n",
      "\u001b[36;1m\u001b[1;3m[1:tasks]\u001b[0m \u001b[1mStarting 1 task for step 1:\n",
      "\u001b[0m- \u001b[32;1m\u001b[1;3mnode1\u001b[0m -> {'vara': []}\n",
      "\u001b[36;1m\u001b[1;3m[1:writes]\u001b[0m \u001b[1mFinished step 1 with writes to 2 channels:\n",
      "\u001b[0m- \u001b[33;1m\u001b[1;3mvarb\u001b[0m -> ['1']\n",
      "- \u001b[33;1m\u001b[1;3mvar1\u001b[0m -> ['1']\n",
      "\u001b[36;1m\u001b[1;3m[1:checkpoint]\u001b[0m \u001b[1mState at the end of step 1:\n",
      "\u001b[0m{'var1': [HumanMessage(content='1', additional_kwargs={}, response_metadata={}, id='f243f493-96dc-4875-9ef3-6ce178d8ed0a')],\n",
      " 'var2': 0,\n",
      " 'var3': '',\n",
      " 'vara': [],\n",
      " 'varb': ['1']}\n",
      "\u001b[36;1m\u001b[1;3m[2:tasks]\u001b[0m \u001b[1mStarting 1 task for step 2:\n",
      "\u001b[0m- \u001b[32;1m\u001b[1;3mnode2\u001b[0m -> {'varb': ['1']}\n",
      "\u001b[36;1m\u001b[1;3m[2:writes]\u001b[0m \u001b[1mFinished step 2 with writes to 2 channels:\n",
      "\u001b[0m- \u001b[33;1m\u001b[1;3mvarb\u001b[0m -> ['12']\n",
      "- \u001b[33;1m\u001b[1;3mvar1\u001b[0m -> ['12']\n",
      "\u001b[36;1m\u001b[1;3m[2:checkpoint]\u001b[0m \u001b[1mState at the end of step 2:\n",
      "\u001b[0m{'var1': [HumanMessage(content='1', additional_kwargs={}, response_metadata={}, id='f243f493-96dc-4875-9ef3-6ce178d8ed0a'),\n",
      "          HumanMessage(content='12', additional_kwargs={}, response_metadata={}, id='33b0126a-cb2c-487c-a376-7c5bc189efd8')],\n",
      " 'var2': 0,\n",
      " 'var3': '',\n",
      " 'vara': [],\n",
      " 'varb': ['1', '12']}\n",
      "\u001b[36;1m\u001b[1;3m[3:tasks]\u001b[0m \u001b[1mStarting 1 task for step 3:\n",
      "\u001b[0m- \u001b[32;1m\u001b[1;3mnode3\u001b[0m -> {'varb': ['1', '12']}\n",
      "\u001b[36;1m\u001b[1;3m[3:writes]\u001b[0m \u001b[1mFinished step 3 with writes to 2 channels:\n",
      "\u001b[0m- \u001b[33;1m\u001b[1;3mvara\u001b[0m -> ['1123']\n",
      "- \u001b[33;1m\u001b[1;3mvar1\u001b[0m -> ['1123']\n",
      "\u001b[36;1m\u001b[1;3m[3:checkpoint]\u001b[0m \u001b[1mState at the end of step 3:\n",
      "\u001b[0m{'var1': [HumanMessage(content='1', additional_kwargs={}, response_metadata={}, id='f243f493-96dc-4875-9ef3-6ce178d8ed0a'),\n",
      "          HumanMessage(content='12', additional_kwargs={}, response_metadata={}, id='33b0126a-cb2c-487c-a376-7c5bc189efd8'),\n",
      "          HumanMessage(content='1123', additional_kwargs={}, response_metadata={}, id='c32d2194-a103-492a-ba2a-88c5eff0c35a')],\n",
      " 'var2': 0,\n",
      " 'var3': '',\n",
      " 'vara': ['1123'],\n",
      " 'varb': ['1', '12']}\n"
     ]
    },
    {
     "data": {
      "text/plain": [
       "{'varb': ['1', '12']}"
      ]
     },
     "execution_count": 17,
     "metadata": {},
     "output_type": "execute_result"
    }
   ],
   "source": [
    "graph3.invoke({\"var1\" : [\"0\"]}, {\"configurable\" : {\"thread_id\" : \"1\"}})"
   ]
  },
  {
   "cell_type": "code",
   "execution_count": 18,
   "id": "fa2a7838",
   "metadata": {},
   "outputs": [
    {
     "data": {
      "text/plain": [
       "StateSnapshot(values={'var1': [HumanMessage(content='1', additional_kwargs={}, response_metadata={}, id='f243f493-96dc-4875-9ef3-6ce178d8ed0a'), HumanMessage(content='12', additional_kwargs={}, response_metadata={}, id='33b0126a-cb2c-487c-a376-7c5bc189efd8'), HumanMessage(content='1123', additional_kwargs={}, response_metadata={}, id='c32d2194-a103-492a-ba2a-88c5eff0c35a')], 'var2': 0, 'var3': '', 'vara': ['1123'], 'varb': ['1', '12']}, next=(), config={'configurable': {'thread_id': '1', 'checkpoint_ns': '', 'checkpoint_id': '1f0245c6-179b-613f-8003-ed1fe39ee952'}}, metadata={'source': 'loop', 'writes': {'node3': None}, 'step': 3, 'parents': {}, 'thread_id': '1'}, created_at='2025-04-28T18:12:43.944172+00:00', parent_config={'configurable': {'thread_id': '1', 'checkpoint_ns': '', 'checkpoint_id': '1f0245c6-1793-6528-8002-6ea4a8444884'}}, tasks=())"
      ]
     },
     "execution_count": 18,
     "metadata": {},
     "output_type": "execute_result"
    }
   ],
   "source": [
    "graph3.get_state({\"configurable\" : {\"thread_id\" : \"1\"}})"
   ]
  },
  {
   "cell_type": "code",
   "execution_count": 20,
   "id": "f52c70dd",
   "metadata": {},
   "outputs": [
    {
     "data": {
      "text/plain": [
       "[StateSnapshot(values={'var1': [HumanMessage(content='1', additional_kwargs={}, response_metadata={}, id='f243f493-96dc-4875-9ef3-6ce178d8ed0a'), HumanMessage(content='12', additional_kwargs={}, response_metadata={}, id='33b0126a-cb2c-487c-a376-7c5bc189efd8'), HumanMessage(content='1123', additional_kwargs={}, response_metadata={}, id='c32d2194-a103-492a-ba2a-88c5eff0c35a')], 'var2': 0, 'var3': '', 'vara': ['1123'], 'varb': ['1', '12']}, next=(), config={'configurable': {'thread_id': '1', 'checkpoint_ns': '', 'checkpoint_id': '1f0245c6-179b-613f-8003-ed1fe39ee952'}}, metadata={'source': 'loop', 'writes': {'node3': None}, 'step': 3, 'parents': {}, 'thread_id': '1'}, created_at='2025-04-28T18:12:43.944172+00:00', parent_config={'configurable': {'thread_id': '1', 'checkpoint_ns': '', 'checkpoint_id': '1f0245c6-1793-6528-8002-6ea4a8444884'}}, tasks=()),\n",
       " StateSnapshot(values={'var1': [HumanMessage(content='1', additional_kwargs={}, response_metadata={}, id='f243f493-96dc-4875-9ef3-6ce178d8ed0a'), HumanMessage(content='12', additional_kwargs={}, response_metadata={}, id='33b0126a-cb2c-487c-a376-7c5bc189efd8')], 'var2': 0, 'var3': '', 'vara': [], 'varb': ['1', '12']}, next=('node3',), config={'configurable': {'thread_id': '1', 'checkpoint_ns': '', 'checkpoint_id': '1f0245c6-1793-6528-8002-6ea4a8444884'}}, metadata={'source': 'loop', 'writes': {'node2': {'varb': ['12']}}, 'step': 2, 'parents': {}, 'thread_id': '1'}, created_at='2025-04-28T18:12:43.940996+00:00', parent_config={'configurable': {'thread_id': '1', 'checkpoint_ns': '', 'checkpoint_id': '1f0245c6-1786-62f5-8001-de3f21be5452'}}, tasks=(PregelTask(id='1eb159eb-b252-d255-bbbe-f9c4dcf529b9', name='node3', path=('__pregel_pull', 'node3'), error=None, interrupts=(), state=None, result={'vara': ['1123'], 'var1': ['1123']}),)),\n",
       " StateSnapshot(values={'var1': [HumanMessage(content='1', additional_kwargs={}, response_metadata={}, id='f243f493-96dc-4875-9ef3-6ce178d8ed0a')], 'var2': 0, 'var3': '', 'vara': [], 'varb': ['1']}, next=('node2',), config={'configurable': {'thread_id': '1', 'checkpoint_ns': '', 'checkpoint_id': '1f0245c6-1786-62f5-8001-de3f21be5452'}}, metadata={'source': 'loop', 'writes': {'node1': {'varb': ['1']}}, 'step': 1, 'parents': {}, 'thread_id': '1'}, created_at='2025-04-28T18:12:43.935614+00:00', parent_config={'configurable': {'thread_id': '1', 'checkpoint_ns': '', 'checkpoint_id': '1f0245c6-177f-6565-8000-bf54c8599ec6'}}, tasks=(PregelTask(id='37fd9094-6eaa-50a9-997a-32b3dee2c03c', name='node2', path=('__pregel_pull', 'node2'), error=None, interrupts=(), state=None, result={'varb': ['12'], 'var1': ['12']}),)),\n",
       " StateSnapshot(values={'var1': [], 'var2': 0, 'var3': '', 'vara': [], 'varb': []}, next=('node1',), config={'configurable': {'thread_id': '1', 'checkpoint_ns': '', 'checkpoint_id': '1f0245c6-177f-6565-8000-bf54c8599ec6'}}, metadata={'source': 'loop', 'writes': None, 'step': 0, 'parents': {}, 'thread_id': '1'}, created_at='2025-04-28T18:12:43.932810+00:00', parent_config={'configurable': {'thread_id': '1', 'checkpoint_ns': '', 'checkpoint_id': '1f0245c6-1775-68b8-bfff-3bb59d5bc777'}}, tasks=(PregelTask(id='82333114-5daa-3385-bc4d-ee3d0e517d2d', name='node1', path=('__pregel_pull', 'node1'), error=None, interrupts=(), state=None, result={'varb': ['1'], 'var1': ['1']}),)),\n",
       " StateSnapshot(values={'var1': [], 'var2': 0, 'var3': '', 'vara': [], 'varb': []}, next=('__start__',), config={'configurable': {'thread_id': '1', 'checkpoint_ns': '', 'checkpoint_id': '1f0245c6-1775-68b8-bfff-3bb59d5bc777'}}, metadata={'source': 'input', 'writes': {'__start__': {'var1': ['0']}}, 'step': -1, 'parents': {}, 'thread_id': '1'}, created_at='2025-04-28T18:12:43.928799+00:00', parent_config=None, tasks=(PregelTask(id='e318767f-7174-6b76-1e1e-8f8873c5bb07', name='__start__', path=('__pregel_pull', '__start__'), error=None, interrupts=(), state=None, result={}),))]"
      ]
     },
     "execution_count": 20,
     "metadata": {},
     "output_type": "execute_result"
    }
   ],
   "source": [
    "list(graph3.get_state_history({\"configurable\" : {\"thread_id\" : \"1\"}}))"
   ]
  },
  {
   "cell_type": "code",
   "execution_count": 21,
   "id": "380705cf",
   "metadata": {},
   "outputs": [
    {
     "name": "stdout",
     "output_type": "stream",
     "text": [
      "\u001b[36;1m\u001b[1;3m[4:checkpoint]\u001b[0m \u001b[1mState at the end of step 4:\n",
      "\u001b[0m{'var1': [HumanMessage(content='1', additional_kwargs={}, response_metadata={}, id='f243f493-96dc-4875-9ef3-6ce178d8ed0a'),\n",
      "          HumanMessage(content='12', additional_kwargs={}, response_metadata={}, id='33b0126a-cb2c-487c-a376-7c5bc189efd8'),\n",
      "          HumanMessage(content='1123', additional_kwargs={}, response_metadata={}, id='c32d2194-a103-492a-ba2a-88c5eff0c35a')],\n",
      " 'var2': 0,\n",
      " 'var3': '',\n",
      " 'vara': ['1123'],\n",
      " 'varb': ['1', '12']}\n",
      "\u001b[36;1m\u001b[1;3m[5:tasks]\u001b[0m \u001b[1mStarting 1 task for step 5:\n",
      "\u001b[0m- \u001b[32;1m\u001b[1;3m__start__\u001b[0m -> {'var1': ['1']}\n",
      "\u001b[36;1m\u001b[1;3m[5:writes]\u001b[0m \u001b[1mFinished step 5 with writes to 0 channels:\n",
      "\u001b[0m\n",
      "\u001b[36;1m\u001b[1;3m[5:checkpoint]\u001b[0m \u001b[1mState at the end of step 5:\n",
      "\u001b[0m{'var1': [HumanMessage(content='1', additional_kwargs={}, response_metadata={}, id='f243f493-96dc-4875-9ef3-6ce178d8ed0a'),\n",
      "          HumanMessage(content='12', additional_kwargs={}, response_metadata={}, id='33b0126a-cb2c-487c-a376-7c5bc189efd8'),\n",
      "          HumanMessage(content='1123', additional_kwargs={}, response_metadata={}, id='c32d2194-a103-492a-ba2a-88c5eff0c35a')],\n",
      " 'var2': 0,\n",
      " 'var3': '',\n",
      " 'vara': ['1123'],\n",
      " 'varb': ['1', '12']}\n",
      "\u001b[36;1m\u001b[1;3m[6:tasks]\u001b[0m \u001b[1mStarting 1 task for step 6:\n",
      "\u001b[0m- \u001b[32;1m\u001b[1;3mnode1\u001b[0m -> {'vara': ['1123']}\n",
      "\u001b[36;1m\u001b[1;3m[6:writes]\u001b[0m \u001b[1mFinished step 6 with writes to 2 channels:\n",
      "\u001b[0m- \u001b[33;1m\u001b[1;3mvarb\u001b[0m -> ['11231']\n",
      "- \u001b[33;1m\u001b[1;3mvar1\u001b[0m -> ['11231']\n",
      "\u001b[36;1m\u001b[1;3m[6:checkpoint]\u001b[0m \u001b[1mState at the end of step 6:\n",
      "\u001b[0m{'var1': [HumanMessage(content='1', additional_kwargs={}, response_metadata={}, id='f243f493-96dc-4875-9ef3-6ce178d8ed0a'),\n",
      "          HumanMessage(content='12', additional_kwargs={}, response_metadata={}, id='33b0126a-cb2c-487c-a376-7c5bc189efd8'),\n",
      "          HumanMessage(content='1123', additional_kwargs={}, response_metadata={}, id='c32d2194-a103-492a-ba2a-88c5eff0c35a'),\n",
      "          HumanMessage(content='11231', additional_kwargs={}, response_metadata={}, id='e3abffb0-6a20-40ac-a49d-e0e1283df993')],\n",
      " 'var2': 0,\n",
      " 'var3': '',\n",
      " 'vara': ['1123'],\n",
      " 'varb': ['1', '12', '11231']}\n",
      "\u001b[36;1m\u001b[1;3m[7:tasks]\u001b[0m \u001b[1mStarting 1 task for step 7:\n",
      "\u001b[0m- \u001b[32;1m\u001b[1;3mnode2\u001b[0m -> {'varb': ['1', '12', '11231']}\n",
      "\u001b[36;1m\u001b[1;3m[7:writes]\u001b[0m \u001b[1mFinished step 7 with writes to 2 channels:\n",
      "\u001b[0m- \u001b[33;1m\u001b[1;3mvarb\u001b[0m -> ['112112312']\n",
      "- \u001b[33;1m\u001b[1;3mvar1\u001b[0m -> ['112112312']\n",
      "\u001b[36;1m\u001b[1;3m[7:checkpoint]\u001b[0m \u001b[1mState at the end of step 7:\n",
      "\u001b[0m{'var1': [HumanMessage(content='1', additional_kwargs={}, response_metadata={}, id='f243f493-96dc-4875-9ef3-6ce178d8ed0a'),\n",
      "          HumanMessage(content='12', additional_kwargs={}, response_metadata={}, id='33b0126a-cb2c-487c-a376-7c5bc189efd8'),\n",
      "          HumanMessage(content='1123', additional_kwargs={}, response_metadata={}, id='c32d2194-a103-492a-ba2a-88c5eff0c35a'),\n",
      "          HumanMessage(content='11231', additional_kwargs={}, response_metadata={}, id='e3abffb0-6a20-40ac-a49d-e0e1283df993'),\n",
      "          HumanMessage(content='112112312', additional_kwargs={}, response_metadata={}, id='93bef08a-cf28-4923-a310-2687cbc77cb4')],\n",
      " 'var2': 0,\n",
      " 'var3': '',\n",
      " 'vara': ['1123'],\n",
      " 'varb': ['1', '12', '11231', '112112312']}\n",
      "\u001b[36;1m\u001b[1;3m[8:tasks]\u001b[0m \u001b[1mStarting 1 task for step 8:\n",
      "\u001b[0m- \u001b[32;1m\u001b[1;3mnode3\u001b[0m -> {'varb': ['1', '12', '11231', '112112312']}\n",
      "\u001b[36;1m\u001b[1;3m[8:writes]\u001b[0m \u001b[1mFinished step 8 with writes to 2 channels:\n",
      "\u001b[0m- \u001b[33;1m\u001b[1;3mvara\u001b[0m -> ['112112311121123123']\n",
      "- \u001b[33;1m\u001b[1;3mvar1\u001b[0m -> ['112112311121123123']\n",
      "\u001b[36;1m\u001b[1;3m[8:checkpoint]\u001b[0m \u001b[1mState at the end of step 8:\n",
      "\u001b[0m{'var1': [HumanMessage(content='1', additional_kwargs={}, response_metadata={}, id='f243f493-96dc-4875-9ef3-6ce178d8ed0a'),\n",
      "          HumanMessage(content='12', additional_kwargs={}, response_metadata={}, id='33b0126a-cb2c-487c-a376-7c5bc189efd8'),\n",
      "          HumanMessage(content='1123', additional_kwargs={}, response_metadata={}, id='c32d2194-a103-492a-ba2a-88c5eff0c35a'),\n",
      "          HumanMessage(content='11231', additional_kwargs={}, response_metadata={}, id='e3abffb0-6a20-40ac-a49d-e0e1283df993'),\n",
      "          HumanMessage(content='112112312', additional_kwargs={}, response_metadata={}, id='93bef08a-cf28-4923-a310-2687cbc77cb4'),\n",
      "          HumanMessage(content='112112311121123123', additional_kwargs={}, response_metadata={}, id='873ecc3c-587d-47c9-a8c6-0259e8e313a4')],\n",
      " 'var2': 0,\n",
      " 'var3': '',\n",
      " 'vara': ['1123', '112112311121123123'],\n",
      " 'varb': ['1', '12', '11231', '112112312']}\n"
     ]
    },
    {
     "data": {
      "text/plain": [
       "{'varb': ['1', '12', '11231', '112112312']}"
      ]
     },
     "execution_count": 21,
     "metadata": {},
     "output_type": "execute_result"
    }
   ],
   "source": [
    "graph3.invoke({\"var1\" : [\"1\"]}, {\"configurable\" : {\"thread_id\" : \"1\"}})"
   ]
  },
  {
   "cell_type": "code",
   "execution_count": 23,
   "id": "7e67060d",
   "metadata": {},
   "outputs": [],
   "source": [
    "state = graph3.get_state({\"configurable\" : {\"thread_id\" : \"1\"}})"
   ]
  },
  {
   "cell_type": "code",
   "execution_count": 24,
   "id": "ea776936",
   "metadata": {},
   "outputs": [
    {
     "data": {
      "text/plain": [
       "StateSnapshot(values={'var1': [HumanMessage(content='1', additional_kwargs={}, response_metadata={}, id='f243f493-96dc-4875-9ef3-6ce178d8ed0a'), HumanMessage(content='12', additional_kwargs={}, response_metadata={}, id='33b0126a-cb2c-487c-a376-7c5bc189efd8'), HumanMessage(content='1123', additional_kwargs={}, response_metadata={}, id='c32d2194-a103-492a-ba2a-88c5eff0c35a'), HumanMessage(content='11231', additional_kwargs={}, response_metadata={}, id='e3abffb0-6a20-40ac-a49d-e0e1283df993'), HumanMessage(content='112112312', additional_kwargs={}, response_metadata={}, id='93bef08a-cf28-4923-a310-2687cbc77cb4'), HumanMessage(content='112112311121123123', additional_kwargs={}, response_metadata={}, id='873ecc3c-587d-47c9-a8c6-0259e8e313a4')], 'var2': 0, 'var3': '', 'vara': ['1123', '112112311121123123'], 'varb': ['1', '12', '11231', '112112312']}, next=(), config={'configurable': {'thread_id': '1', 'checkpoint_ns': '', 'checkpoint_id': '1f0245cd-04c0-6a00-8008-f40bdeaea4ba'}}, metadata={'source': 'loop', 'writes': {'node3': None}, 'step': 8, 'parents': {}, 'thread_id': '1'}, created_at='2025-04-28T18:15:49.872076+00:00', parent_config={'configurable': {'thread_id': '1', 'checkpoint_ns': '', 'checkpoint_id': '1f0245cd-04be-61fd-8007-a5d66dacda1c'}}, tasks=())"
      ]
     },
     "execution_count": 24,
     "metadata": {},
     "output_type": "execute_result"
    }
   ],
   "source": [
    "state"
   ]
  },
  {
   "cell_type": "code",
   "execution_count": 25,
   "id": "4f20bf53",
   "metadata": {},
   "outputs": [
    {
     "data": {
      "text/plain": [
       "{'var1': [HumanMessage(content='1', additional_kwargs={}, response_metadata={}, id='f243f493-96dc-4875-9ef3-6ce178d8ed0a'),\n",
       "  HumanMessage(content='12', additional_kwargs={}, response_metadata={}, id='33b0126a-cb2c-487c-a376-7c5bc189efd8'),\n",
       "  HumanMessage(content='1123', additional_kwargs={}, response_metadata={}, id='c32d2194-a103-492a-ba2a-88c5eff0c35a'),\n",
       "  HumanMessage(content='11231', additional_kwargs={}, response_metadata={}, id='e3abffb0-6a20-40ac-a49d-e0e1283df993'),\n",
       "  HumanMessage(content='112112312', additional_kwargs={}, response_metadata={}, id='93bef08a-cf28-4923-a310-2687cbc77cb4'),\n",
       "  HumanMessage(content='112112311121123123', additional_kwargs={}, response_metadata={}, id='873ecc3c-587d-47c9-a8c6-0259e8e313a4')],\n",
       " 'var2': 0,\n",
       " 'var3': '',\n",
       " 'vara': ['1123', '112112311121123123'],\n",
       " 'varb': ['1', '12', '11231', '112112312']}"
      ]
     },
     "execution_count": 25,
     "metadata": {},
     "output_type": "execute_result"
    }
   ],
   "source": [
    "state.values"
   ]
  },
  {
   "cell_type": "code",
   "execution_count": 26,
   "id": "8061593e",
   "metadata": {},
   "outputs": [
    {
     "data": {
      "text/plain": [
       "{'configurable': {'thread_id': '1',\n",
       "  'checkpoint_ns': '',\n",
       "  'checkpoint_id': '1f0245cd-04c0-6a00-8008-f40bdeaea4ba'}}"
      ]
     },
     "execution_count": 26,
     "metadata": {},
     "output_type": "execute_result"
    }
   ],
   "source": [
    "state.config"
   ]
  },
  {
   "cell_type": "code",
   "execution_count": 27,
   "id": "cfda3fee",
   "metadata": {},
   "outputs": [
    {
     "data": {
      "text/plain": [
       "{'source': 'loop',\n",
       " 'writes': {'node3': None},\n",
       " 'step': 8,\n",
       " 'parents': {},\n",
       " 'thread_id': '1'}"
      ]
     },
     "execution_count": 27,
     "metadata": {},
     "output_type": "execute_result"
    }
   ],
   "source": [
    "state.metadata"
   ]
  },
  {
   "cell_type": "code",
   "execution_count": 28,
   "id": "877c96e3",
   "metadata": {},
   "outputs": [
    {
     "data": {
      "text/plain": [
       "[StateSnapshot(values={'var1': [HumanMessage(content='1', additional_kwargs={}, response_metadata={}, id='f243f493-96dc-4875-9ef3-6ce178d8ed0a'), HumanMessage(content='12', additional_kwargs={}, response_metadata={}, id='33b0126a-cb2c-487c-a376-7c5bc189efd8'), HumanMessage(content='1123', additional_kwargs={}, response_metadata={}, id='c32d2194-a103-492a-ba2a-88c5eff0c35a'), HumanMessage(content='11231', additional_kwargs={}, response_metadata={}, id='e3abffb0-6a20-40ac-a49d-e0e1283df993'), HumanMessage(content='112112312', additional_kwargs={}, response_metadata={}, id='93bef08a-cf28-4923-a310-2687cbc77cb4'), HumanMessage(content='112112311121123123', additional_kwargs={}, response_metadata={}, id='873ecc3c-587d-47c9-a8c6-0259e8e313a4')], 'var2': 0, 'var3': '', 'vara': ['1123', '112112311121123123'], 'varb': ['1', '12', '11231', '112112312']}, next=(), config={'configurable': {'thread_id': '1', 'checkpoint_ns': '', 'checkpoint_id': '1f0245cd-04c0-6a00-8008-f40bdeaea4ba'}}, metadata={'source': 'loop', 'writes': {'node3': None}, 'step': 8, 'parents': {}, 'thread_id': '1'}, created_at='2025-04-28T18:15:49.872076+00:00', parent_config={'configurable': {'thread_id': '1', 'checkpoint_ns': '', 'checkpoint_id': '1f0245cd-04be-61fd-8007-a5d66dacda1c'}}, tasks=()),\n",
       " StateSnapshot(values={'var1': [HumanMessage(content='1', additional_kwargs={}, response_metadata={}, id='f243f493-96dc-4875-9ef3-6ce178d8ed0a'), HumanMessage(content='12', additional_kwargs={}, response_metadata={}, id='33b0126a-cb2c-487c-a376-7c5bc189efd8'), HumanMessage(content='1123', additional_kwargs={}, response_metadata={}, id='c32d2194-a103-492a-ba2a-88c5eff0c35a'), HumanMessage(content='11231', additional_kwargs={}, response_metadata={}, id='e3abffb0-6a20-40ac-a49d-e0e1283df993'), HumanMessage(content='112112312', additional_kwargs={}, response_metadata={}, id='93bef08a-cf28-4923-a310-2687cbc77cb4')], 'var2': 0, 'var3': '', 'vara': ['1123'], 'varb': ['1', '12', '11231', '112112312']}, next=('node3',), config={'configurable': {'thread_id': '1', 'checkpoint_ns': '', 'checkpoint_id': '1f0245cd-04be-61fd-8007-a5d66dacda1c'}}, metadata={'source': 'loop', 'writes': {'node2': {'varb': ['112112312']}}, 'step': 7, 'parents': {}, 'thread_id': '1'}, created_at='2025-04-28T18:15:49.871052+00:00', parent_config={'configurable': {'thread_id': '1', 'checkpoint_ns': '', 'checkpoint_id': '1f0245cd-04b7-6aac-8006-326004b18a75'}}, tasks=(PregelTask(id='fb081871-f8e2-f126-6bae-9cd855a9f10c', name='node3', path=('__pregel_pull', 'node3'), error=None, interrupts=(), state=None, result={'vara': ['112112311121123123'], 'var1': ['112112311121123123']}),)),\n",
       " StateSnapshot(values={'var1': [HumanMessage(content='1', additional_kwargs={}, response_metadata={}, id='f243f493-96dc-4875-9ef3-6ce178d8ed0a'), HumanMessage(content='12', additional_kwargs={}, response_metadata={}, id='33b0126a-cb2c-487c-a376-7c5bc189efd8'), HumanMessage(content='1123', additional_kwargs={}, response_metadata={}, id='c32d2194-a103-492a-ba2a-88c5eff0c35a'), HumanMessage(content='11231', additional_kwargs={}, response_metadata={}, id='e3abffb0-6a20-40ac-a49d-e0e1283df993')], 'var2': 0, 'var3': '', 'vara': ['1123'], 'varb': ['1', '12', '11231']}, next=('node2',), config={'configurable': {'thread_id': '1', 'checkpoint_ns': '', 'checkpoint_id': '1f0245cd-04b7-6aac-8006-326004b18a75'}}, metadata={'source': 'loop', 'writes': {'node1': {'varb': ['11231']}}, 'step': 6, 'parents': {}, 'thread_id': '1'}, created_at='2025-04-28T18:15:49.868407+00:00', parent_config={'configurable': {'thread_id': '1', 'checkpoint_ns': '', 'checkpoint_id': '1f0245cd-04b0-659b-8005-0da2e168bad7'}}, tasks=(PregelTask(id='2558c65e-5935-abb9-0fcc-9cb5acafc462', name='node2', path=('__pregel_pull', 'node2'), error=None, interrupts=(), state=None, result={'varb': ['112112312'], 'var1': ['112112312']}),)),\n",
       " StateSnapshot(values={'var1': [HumanMessage(content='1', additional_kwargs={}, response_metadata={}, id='f243f493-96dc-4875-9ef3-6ce178d8ed0a'), HumanMessage(content='12', additional_kwargs={}, response_metadata={}, id='33b0126a-cb2c-487c-a376-7c5bc189efd8'), HumanMessage(content='1123', additional_kwargs={}, response_metadata={}, id='c32d2194-a103-492a-ba2a-88c5eff0c35a')], 'var2': 0, 'var3': '', 'vara': ['1123'], 'varb': ['1', '12']}, next=('node1',), config={'configurable': {'thread_id': '1', 'checkpoint_ns': '', 'checkpoint_id': '1f0245cd-04b0-659b-8005-0da2e168bad7'}}, metadata={'source': 'loop', 'writes': None, 'step': 5, 'parents': {}, 'thread_id': '1'}, created_at='2025-04-28T18:15:49.865410+00:00', parent_config={'configurable': {'thread_id': '1', 'checkpoint_ns': '', 'checkpoint_id': '1f0245cd-04ab-66d4-8004-9f46b90b0466'}}, tasks=(PregelTask(id='6139ed56-069b-043c-c974-5949202ec83f', name='node1', path=('__pregel_pull', 'node1'), error=None, interrupts=(), state=None, result={'varb': ['11231'], 'var1': ['11231']}),)),\n",
       " StateSnapshot(values={'var1': [HumanMessage(content='1', additional_kwargs={}, response_metadata={}, id='f243f493-96dc-4875-9ef3-6ce178d8ed0a'), HumanMessage(content='12', additional_kwargs={}, response_metadata={}, id='33b0126a-cb2c-487c-a376-7c5bc189efd8'), HumanMessage(content='1123', additional_kwargs={}, response_metadata={}, id='c32d2194-a103-492a-ba2a-88c5eff0c35a')], 'var2': 0, 'var3': '', 'vara': ['1123'], 'varb': ['1', '12']}, next=('__start__',), config={'configurable': {'thread_id': '1', 'checkpoint_ns': '', 'checkpoint_id': '1f0245cd-04ab-66d4-8004-9f46b90b0466'}}, metadata={'source': 'input', 'writes': {'__start__': {'var1': ['1']}}, 'step': 4, 'parents': {}, 'thread_id': '1'}, created_at='2025-04-28T18:15:49.863394+00:00', parent_config={'configurable': {'thread_id': '1', 'checkpoint_ns': '', 'checkpoint_id': '1f0245c6-179b-613f-8003-ed1fe39ee952'}}, tasks=(PregelTask(id='ac83aff2-71ba-1d1d-3cf4-cdae91babd1b', name='__start__', path=('__pregel_pull', '__start__'), error=None, interrupts=(), state=None, result={}),)),\n",
       " StateSnapshot(values={'var1': [HumanMessage(content='1', additional_kwargs={}, response_metadata={}, id='f243f493-96dc-4875-9ef3-6ce178d8ed0a'), HumanMessage(content='12', additional_kwargs={}, response_metadata={}, id='33b0126a-cb2c-487c-a376-7c5bc189efd8'), HumanMessage(content='1123', additional_kwargs={}, response_metadata={}, id='c32d2194-a103-492a-ba2a-88c5eff0c35a')], 'var2': 0, 'var3': '', 'vara': ['1123'], 'varb': ['1', '12']}, next=(), config={'configurable': {'thread_id': '1', 'checkpoint_ns': '', 'checkpoint_id': '1f0245c6-179b-613f-8003-ed1fe39ee952'}}, metadata={'source': 'loop', 'writes': {'node3': None}, 'step': 3, 'parents': {}, 'thread_id': '1'}, created_at='2025-04-28T18:12:43.944172+00:00', parent_config={'configurable': {'thread_id': '1', 'checkpoint_ns': '', 'checkpoint_id': '1f0245c6-1793-6528-8002-6ea4a8444884'}}, tasks=()),\n",
       " StateSnapshot(values={'var1': [HumanMessage(content='1', additional_kwargs={}, response_metadata={}, id='f243f493-96dc-4875-9ef3-6ce178d8ed0a'), HumanMessage(content='12', additional_kwargs={}, response_metadata={}, id='33b0126a-cb2c-487c-a376-7c5bc189efd8')], 'var2': 0, 'var3': '', 'vara': [], 'varb': ['1', '12']}, next=('node3',), config={'configurable': {'thread_id': '1', 'checkpoint_ns': '', 'checkpoint_id': '1f0245c6-1793-6528-8002-6ea4a8444884'}}, metadata={'source': 'loop', 'writes': {'node2': {'varb': ['12']}}, 'step': 2, 'parents': {}, 'thread_id': '1'}, created_at='2025-04-28T18:12:43.940996+00:00', parent_config={'configurable': {'thread_id': '1', 'checkpoint_ns': '', 'checkpoint_id': '1f0245c6-1786-62f5-8001-de3f21be5452'}}, tasks=(PregelTask(id='1eb159eb-b252-d255-bbbe-f9c4dcf529b9', name='node3', path=('__pregel_pull', 'node3'), error=None, interrupts=(), state=None, result={'vara': ['1123'], 'var1': ['1123']}),)),\n",
       " StateSnapshot(values={'var1': [HumanMessage(content='1', additional_kwargs={}, response_metadata={}, id='f243f493-96dc-4875-9ef3-6ce178d8ed0a')], 'var2': 0, 'var3': '', 'vara': [], 'varb': ['1']}, next=('node2',), config={'configurable': {'thread_id': '1', 'checkpoint_ns': '', 'checkpoint_id': '1f0245c6-1786-62f5-8001-de3f21be5452'}}, metadata={'source': 'loop', 'writes': {'node1': {'varb': ['1']}}, 'step': 1, 'parents': {}, 'thread_id': '1'}, created_at='2025-04-28T18:12:43.935614+00:00', parent_config={'configurable': {'thread_id': '1', 'checkpoint_ns': '', 'checkpoint_id': '1f0245c6-177f-6565-8000-bf54c8599ec6'}}, tasks=(PregelTask(id='37fd9094-6eaa-50a9-997a-32b3dee2c03c', name='node2', path=('__pregel_pull', 'node2'), error=None, interrupts=(), state=None, result={'varb': ['12'], 'var1': ['12']}),)),\n",
       " StateSnapshot(values={'var1': [], 'var2': 0, 'var3': '', 'vara': [], 'varb': []}, next=('node1',), config={'configurable': {'thread_id': '1', 'checkpoint_ns': '', 'checkpoint_id': '1f0245c6-177f-6565-8000-bf54c8599ec6'}}, metadata={'source': 'loop', 'writes': None, 'step': 0, 'parents': {}, 'thread_id': '1'}, created_at='2025-04-28T18:12:43.932810+00:00', parent_config={'configurable': {'thread_id': '1', 'checkpoint_ns': '', 'checkpoint_id': '1f0245c6-1775-68b8-bfff-3bb59d5bc777'}}, tasks=(PregelTask(id='82333114-5daa-3385-bc4d-ee3d0e517d2d', name='node1', path=('__pregel_pull', 'node1'), error=None, interrupts=(), state=None, result={'varb': ['1'], 'var1': ['1']}),)),\n",
       " StateSnapshot(values={'var1': [], 'var2': 0, 'var3': '', 'vara': [], 'varb': []}, next=('__start__',), config={'configurable': {'thread_id': '1', 'checkpoint_ns': '', 'checkpoint_id': '1f0245c6-1775-68b8-bfff-3bb59d5bc777'}}, metadata={'source': 'input', 'writes': {'__start__': {'var1': ['0']}}, 'step': -1, 'parents': {}, 'thread_id': '1'}, created_at='2025-04-28T18:12:43.928799+00:00', parent_config=None, tasks=(PregelTask(id='e318767f-7174-6b76-1e1e-8f8873c5bb07', name='__start__', path=('__pregel_pull', '__start__'), error=None, interrupts=(), state=None, result={}),))]"
      ]
     },
     "execution_count": 28,
     "metadata": {},
     "output_type": "execute_result"
    }
   ],
   "source": [
    "list(graph3.get_state_history({\"configurable\" : {\"thread_id\" : \"1\"}}))"
   ]
  },
  {
   "cell_type": "markdown",
   "id": "57796509",
   "metadata": {},
   "source": [
    "## **Memory Store for Graphs**\n",
    "\n",
    "* Persistent memory or memory savers preserve states between runs. Stores preserve state between threads\n",
    "* We can think of memory savers segregating chats through threads and store segregate chats through users\n",
    "* So, we need thread_id for each run using memory saver and user_id for each run using store"
   ]
  },
  {
   "cell_type": "code",
   "execution_count": 30,
   "id": "6fcd444f",
   "metadata": {},
   "outputs": [],
   "source": [
    "from langgraph.checkpoint.memory import InMemorySaver\n",
    "from langgraph.store.memory import InMemoryStore"
   ]
  },
  {
   "cell_type": "code",
   "execution_count": 33,
   "id": "af4b415c",
   "metadata": {},
   "outputs": [],
   "source": [
    "checkpointer = InMemorySaver()\n",
    "store = InMemoryStore()\n",
    "\n",
    "graph4 = builder2.compile(checkpointer = checkpointer, store = store)\n",
    "graph4.debug = True"
   ]
  },
  {
   "cell_type": "code",
   "execution_count": 34,
   "id": "4eed4869",
   "metadata": {},
   "outputs": [
    {
     "name": "stdout",
     "output_type": "stream",
     "text": [
      "\u001b[36;1m\u001b[1;3m[-1:checkpoint]\u001b[0m \u001b[1mState at the end of step -1:\n",
      "\u001b[0m{'var1': [], 'var2': 0, 'var3': '', 'vara': [], 'varb': []}\n",
      "\u001b[36;1m\u001b[1;3m[0:tasks]\u001b[0m \u001b[1mStarting 1 task for step 0:\n",
      "\u001b[0m- \u001b[32;1m\u001b[1;3m__start__\u001b[0m -> {'var1': ['0']}\n",
      "\u001b[36;1m\u001b[1;3m[0:writes]\u001b[0m \u001b[1mFinished step 0 with writes to 0 channels:\n",
      "\u001b[0m\n",
      "\u001b[36;1m\u001b[1;3m[0:checkpoint]\u001b[0m \u001b[1mState at the end of step 0:\n",
      "\u001b[0m{'var1': [], 'var2': 0, 'var3': '', 'vara': [], 'varb': []}\n",
      "\u001b[36;1m\u001b[1;3m[1:tasks]\u001b[0m \u001b[1mStarting 1 task for step 1:\n",
      "\u001b[0m- \u001b[32;1m\u001b[1;3mnode1\u001b[0m -> {'vara': []}\n",
      "\u001b[36;1m\u001b[1;3m[1:writes]\u001b[0m \u001b[1mFinished step 1 with writes to 2 channels:\n",
      "\u001b[0m- \u001b[33;1m\u001b[1;3mvarb\u001b[0m -> ['1']\n",
      "- \u001b[33;1m\u001b[1;3mvar1\u001b[0m -> ['1']\n",
      "\u001b[36;1m\u001b[1;3m[1:checkpoint]\u001b[0m \u001b[1mState at the end of step 1:\n",
      "\u001b[0m{'var1': [HumanMessage(content='1', additional_kwargs={}, response_metadata={}, id='a4348a6d-4f33-4ea5-84c3-e3d62c4b0888')],\n",
      " 'var2': 0,\n",
      " 'var3': '',\n",
      " 'vara': [],\n",
      " 'varb': ['1']}\n",
      "\u001b[36;1m\u001b[1;3m[2:tasks]\u001b[0m \u001b[1mStarting 1 task for step 2:\n",
      "\u001b[0m- \u001b[32;1m\u001b[1;3mnode2\u001b[0m -> {'varb': ['1']}\n",
      "\u001b[36;1m\u001b[1;3m[2:writes]\u001b[0m \u001b[1mFinished step 2 with writes to 2 channels:\n",
      "\u001b[0m- \u001b[33;1m\u001b[1;3mvarb\u001b[0m -> ['12']\n",
      "- \u001b[33;1m\u001b[1;3mvar1\u001b[0m -> ['12']\n",
      "\u001b[36;1m\u001b[1;3m[2:checkpoint]\u001b[0m \u001b[1mState at the end of step 2:\n",
      "\u001b[0m{'var1': [HumanMessage(content='1', additional_kwargs={}, response_metadata={}, id='a4348a6d-4f33-4ea5-84c3-e3d62c4b0888'),\n",
      "          HumanMessage(content='12', additional_kwargs={}, response_metadata={}, id='3ce1ed1c-2a9a-480e-99cf-8b84c84ebaec')],\n",
      " 'var2': 0,\n",
      " 'var3': '',\n",
      " 'vara': [],\n",
      " 'varb': ['1', '12']}\n",
      "\u001b[36;1m\u001b[1;3m[3:tasks]\u001b[0m \u001b[1mStarting 1 task for step 3:\n",
      "\u001b[0m- \u001b[32;1m\u001b[1;3mnode3\u001b[0m -> {'varb': ['1', '12']}\n",
      "\u001b[36;1m\u001b[1;3m[3:writes]\u001b[0m \u001b[1mFinished step 3 with writes to 2 channels:\n",
      "\u001b[0m- \u001b[33;1m\u001b[1;3mvara\u001b[0m -> ['1123']\n",
      "- \u001b[33;1m\u001b[1;3mvar1\u001b[0m -> ['1123']\n",
      "\u001b[36;1m\u001b[1;3m[3:checkpoint]\u001b[0m \u001b[1mState at the end of step 3:\n",
      "\u001b[0m{'var1': [HumanMessage(content='1', additional_kwargs={}, response_metadata={}, id='a4348a6d-4f33-4ea5-84c3-e3d62c4b0888'),\n",
      "          HumanMessage(content='12', additional_kwargs={}, response_metadata={}, id='3ce1ed1c-2a9a-480e-99cf-8b84c84ebaec'),\n",
      "          HumanMessage(content='1123', additional_kwargs={}, response_metadata={}, id='72f4de6f-761c-4e04-aa1f-8a107dd1880a')],\n",
      " 'var2': 0,\n",
      " 'var3': '',\n",
      " 'vara': ['1123'],\n",
      " 'varb': ['1', '12']}\n"
     ]
    },
    {
     "data": {
      "text/plain": [
       "{'varb': ['1', '12']}"
      ]
     },
     "execution_count": 34,
     "metadata": {},
     "output_type": "execute_result"
    }
   ],
   "source": [
    "graph4.invoke({\"var1\" : [\"0\"]}, {\"configurable\" : {\"thread_id\" : \"1\", \"user_id\" : \"1\"}})"
   ]
  },
  {
   "cell_type": "code",
   "execution_count": 35,
   "id": "97add9cd",
   "metadata": {},
   "outputs": [
    {
     "data": {
      "text/plain": [
       "[StateSnapshot(values={'var1': [HumanMessage(content='1', additional_kwargs={}, response_metadata={}, id='a4348a6d-4f33-4ea5-84c3-e3d62c4b0888'), HumanMessage(content='12', additional_kwargs={}, response_metadata={}, id='3ce1ed1c-2a9a-480e-99cf-8b84c84ebaec'), HumanMessage(content='1123', additional_kwargs={}, response_metadata={}, id='72f4de6f-761c-4e04-aa1f-8a107dd1880a')], 'var2': 0, 'var3': '', 'vara': ['1123'], 'varb': ['1', '12']}, next=(), config={'configurable': {'thread_id': '1', 'checkpoint_ns': '', 'checkpoint_id': '1f024603-3398-69c6-8003-595e57a12089'}}, metadata={'source': 'loop', 'writes': {'node3': None}, 'step': 3, 'parents': {}, 'thread_id': '1', 'user_id': '1'}, created_at='2025-04-28T18:40:04.335456+00:00', parent_config={'configurable': {'thread_id': '1', 'checkpoint_ns': '', 'checkpoint_id': '1f024603-3391-6f2f-8002-e9cf8171baa0'}}, tasks=()),\n",
       " StateSnapshot(values={'var1': [HumanMessage(content='1', additional_kwargs={}, response_metadata={}, id='a4348a6d-4f33-4ea5-84c3-e3d62c4b0888'), HumanMessage(content='12', additional_kwargs={}, response_metadata={}, id='3ce1ed1c-2a9a-480e-99cf-8b84c84ebaec')], 'var2': 0, 'var3': '', 'vara': [], 'varb': ['1', '12']}, next=('node3',), config={'configurable': {'thread_id': '1', 'checkpoint_ns': '', 'checkpoint_id': '1f024603-3391-6f2f-8002-e9cf8171baa0'}}, metadata={'source': 'loop', 'writes': {'node2': {'varb': ['12']}}, 'step': 2, 'parents': {}, 'thread_id': '1', 'user_id': '1'}, created_at='2025-04-28T18:40:04.332727+00:00', parent_config={'configurable': {'thread_id': '1', 'checkpoint_ns': '', 'checkpoint_id': '1f024603-338a-6957-8001-b7256e915704'}}, tasks=(PregelTask(id='c80ebe02-11e5-9eff-3a12-f84cfdd083dd', name='node3', path=('__pregel_pull', 'node3'), error=None, interrupts=(), state=None, result={'vara': ['1123'], 'var1': ['1123']}),)),\n",
       " StateSnapshot(values={'var1': [HumanMessage(content='1', additional_kwargs={}, response_metadata={}, id='a4348a6d-4f33-4ea5-84c3-e3d62c4b0888')], 'var2': 0, 'var3': '', 'vara': [], 'varb': ['1']}, next=('node2',), config={'configurable': {'thread_id': '1', 'checkpoint_ns': '', 'checkpoint_id': '1f024603-338a-6957-8001-b7256e915704'}}, metadata={'source': 'loop', 'writes': {'node1': {'varb': ['1']}}, 'step': 1, 'parents': {}, 'thread_id': '1', 'user_id': '1'}, created_at='2025-04-28T18:40:04.329711+00:00', parent_config={'configurable': {'thread_id': '1', 'checkpoint_ns': '', 'checkpoint_id': '1f024603-3387-642a-8000-5f2113985e52'}}, tasks=(PregelTask(id='d2715600-2d7f-411a-28a1-24ee0faf9136', name='node2', path=('__pregel_pull', 'node2'), error=None, interrupts=(), state=None, result={'varb': ['12'], 'var1': ['12']}),)),\n",
       " StateSnapshot(values={'var1': [], 'var2': 0, 'var3': '', 'vara': [], 'varb': []}, next=('node1',), config={'configurable': {'thread_id': '1', 'checkpoint_ns': '', 'checkpoint_id': '1f024603-3387-642a-8000-5f2113985e52'}}, metadata={'source': 'loop', 'writes': None, 'step': 0, 'parents': {}, 'thread_id': '1', 'user_id': '1'}, created_at='2025-04-28T18:40:04.328349+00:00', parent_config={'configurable': {'thread_id': '1', 'checkpoint_ns': '', 'checkpoint_id': '1f024603-337d-6d44-bfff-97de82bf3427'}}, tasks=(PregelTask(id='a5fcae5e-bacc-72a5-fa9f-fc40d1007cff', name='node1', path=('__pregel_pull', 'node1'), error=None, interrupts=(), state=None, result={'varb': ['1'], 'var1': ['1']}),)),\n",
       " StateSnapshot(values={'var1': [], 'var2': 0, 'var3': '', 'vara': [], 'varb': []}, next=('__start__',), config={'configurable': {'thread_id': '1', 'checkpoint_ns': '', 'checkpoint_id': '1f024603-337d-6d44-bfff-97de82bf3427'}}, metadata={'source': 'input', 'writes': {'__start__': {'var1': ['0']}}, 'step': -1, 'parents': {}, 'thread_id': '1', 'user_id': '1'}, created_at='2025-04-28T18:40:04.324486+00:00', parent_config=None, tasks=(PregelTask(id='d5b9f9bc-920b-7687-cce6-0275535524e5', name='__start__', path=('__pregel_pull', '__start__'), error=None, interrupts=(), state=None, result={}),))]"
      ]
     },
     "execution_count": 35,
     "metadata": {},
     "output_type": "execute_result"
    }
   ],
   "source": [
    "list(graph4.get_state_history({\"configurable\" : {\"thread_id\" : \"1\", \"user_id\" : \"1\"}}))"
   ]
  },
  {
   "cell_type": "code",
   "execution_count": 36,
   "id": "473c71c8",
   "metadata": {},
   "outputs": [
    {
     "name": "stdout",
     "output_type": "stream",
     "text": [
      "\u001b[36;1m\u001b[1;3m[4:checkpoint]\u001b[0m \u001b[1mState at the end of step 4:\n",
      "\u001b[0m{'var1': [HumanMessage(content='1', additional_kwargs={}, response_metadata={}, id='a4348a6d-4f33-4ea5-84c3-e3d62c4b0888'),\n",
      "          HumanMessage(content='12', additional_kwargs={}, response_metadata={}, id='3ce1ed1c-2a9a-480e-99cf-8b84c84ebaec'),\n",
      "          HumanMessage(content='1123', additional_kwargs={}, response_metadata={}, id='72f4de6f-761c-4e04-aa1f-8a107dd1880a')],\n",
      " 'var2': 0,\n",
      " 'var3': '',\n",
      " 'vara': ['1123'],\n",
      " 'varb': ['1', '12']}\n",
      "\u001b[36;1m\u001b[1;3m[5:tasks]\u001b[0m \u001b[1mStarting 1 task for step 5:\n",
      "\u001b[0m- \u001b[32;1m\u001b[1;3m__start__\u001b[0m -> {'var1': ['0']}\n",
      "\u001b[36;1m\u001b[1;3m[5:writes]\u001b[0m \u001b[1mFinished step 5 with writes to 0 channels:\n",
      "\u001b[0m\n",
      "\u001b[36;1m\u001b[1;3m[5:checkpoint]\u001b[0m \u001b[1mState at the end of step 5:\n",
      "\u001b[0m{'var1': [HumanMessage(content='1', additional_kwargs={}, response_metadata={}, id='a4348a6d-4f33-4ea5-84c3-e3d62c4b0888'),\n",
      "          HumanMessage(content='12', additional_kwargs={}, response_metadata={}, id='3ce1ed1c-2a9a-480e-99cf-8b84c84ebaec'),\n",
      "          HumanMessage(content='1123', additional_kwargs={}, response_metadata={}, id='72f4de6f-761c-4e04-aa1f-8a107dd1880a')],\n",
      " 'var2': 0,\n",
      " 'var3': '',\n",
      " 'vara': ['1123'],\n",
      " 'varb': ['1', '12']}\n",
      "\u001b[36;1m\u001b[1;3m[6:tasks]\u001b[0m \u001b[1mStarting 1 task for step 6:\n",
      "\u001b[0m- \u001b[32;1m\u001b[1;3mnode1\u001b[0m -> {'vara': ['1123']}\n",
      "\u001b[36;1m\u001b[1;3m[6:writes]\u001b[0m \u001b[1mFinished step 6 with writes to 2 channels:\n",
      "\u001b[0m- \u001b[33;1m\u001b[1;3mvarb\u001b[0m -> ['11231']\n",
      "- \u001b[33;1m\u001b[1;3mvar1\u001b[0m -> ['11231']\n",
      "\u001b[36;1m\u001b[1;3m[6:checkpoint]\u001b[0m \u001b[1mState at the end of step 6:\n",
      "\u001b[0m{'var1': [HumanMessage(content='1', additional_kwargs={}, response_metadata={}, id='a4348a6d-4f33-4ea5-84c3-e3d62c4b0888'),\n",
      "          HumanMessage(content='12', additional_kwargs={}, response_metadata={}, id='3ce1ed1c-2a9a-480e-99cf-8b84c84ebaec'),\n",
      "          HumanMessage(content='1123', additional_kwargs={}, response_metadata={}, id='72f4de6f-761c-4e04-aa1f-8a107dd1880a'),\n",
      "          HumanMessage(content='11231', additional_kwargs={}, response_metadata={}, id='027d8fe1-d34e-48a2-837f-56a2cc280ff4')],\n",
      " 'var2': 0,\n",
      " 'var3': '',\n",
      " 'vara': ['1123'],\n",
      " 'varb': ['1', '12', '11231']}\n",
      "\u001b[36;1m\u001b[1;3m[7:tasks]\u001b[0m \u001b[1mStarting 1 task for step 7:\n",
      "\u001b[0m- \u001b[32;1m\u001b[1;3mnode2\u001b[0m -> {'varb': ['1', '12', '11231']}\n",
      "\u001b[36;1m\u001b[1;3m[7:writes]\u001b[0m \u001b[1mFinished step 7 with writes to 2 channels:\n",
      "\u001b[0m- \u001b[33;1m\u001b[1;3mvarb\u001b[0m -> ['112112312']\n",
      "- \u001b[33;1m\u001b[1;3mvar1\u001b[0m -> ['112112312']\n",
      "\u001b[36;1m\u001b[1;3m[7:checkpoint]\u001b[0m \u001b[1mState at the end of step 7:\n",
      "\u001b[0m{'var1': [HumanMessage(content='1', additional_kwargs={}, response_metadata={}, id='a4348a6d-4f33-4ea5-84c3-e3d62c4b0888'),\n",
      "          HumanMessage(content='12', additional_kwargs={}, response_metadata={}, id='3ce1ed1c-2a9a-480e-99cf-8b84c84ebaec'),\n",
      "          HumanMessage(content='1123', additional_kwargs={}, response_metadata={}, id='72f4de6f-761c-4e04-aa1f-8a107dd1880a'),\n",
      "          HumanMessage(content='11231', additional_kwargs={}, response_metadata={}, id='027d8fe1-d34e-48a2-837f-56a2cc280ff4'),\n",
      "          HumanMessage(content='112112312', additional_kwargs={}, response_metadata={}, id='af3a6246-cd4d-4b4c-9960-ecff653b973a')],\n",
      " 'var2': 0,\n",
      " 'var3': '',\n",
      " 'vara': ['1123'],\n",
      " 'varb': ['1', '12', '11231', '112112312']}\n",
      "\u001b[36;1m\u001b[1;3m[8:tasks]\u001b[0m \u001b[1mStarting 1 task for step 8:\n",
      "\u001b[0m- \u001b[32;1m\u001b[1;3mnode3\u001b[0m -> {'varb': ['1', '12', '11231', '112112312']}\n",
      "\u001b[36;1m\u001b[1;3m[8:writes]\u001b[0m \u001b[1mFinished step 8 with writes to 2 channels:\n",
      "\u001b[0m- \u001b[33;1m\u001b[1;3mvara\u001b[0m -> ['112112311121123123']\n",
      "- \u001b[33;1m\u001b[1;3mvar1\u001b[0m -> ['112112311121123123']\n",
      "\u001b[36;1m\u001b[1;3m[8:checkpoint]\u001b[0m \u001b[1mState at the end of step 8:\n",
      "\u001b[0m{'var1': [HumanMessage(content='1', additional_kwargs={}, response_metadata={}, id='a4348a6d-4f33-4ea5-84c3-e3d62c4b0888'),\n",
      "          HumanMessage(content='12', additional_kwargs={}, response_metadata={}, id='3ce1ed1c-2a9a-480e-99cf-8b84c84ebaec'),\n",
      "          HumanMessage(content='1123', additional_kwargs={}, response_metadata={}, id='72f4de6f-761c-4e04-aa1f-8a107dd1880a'),\n",
      "          HumanMessage(content='11231', additional_kwargs={}, response_metadata={}, id='027d8fe1-d34e-48a2-837f-56a2cc280ff4'),\n",
      "          HumanMessage(content='112112312', additional_kwargs={}, response_metadata={}, id='af3a6246-cd4d-4b4c-9960-ecff653b973a'),\n",
      "          HumanMessage(content='112112311121123123', additional_kwargs={}, response_metadata={}, id='0862d64e-eec7-4093-9f71-980d9842f142')],\n",
      " 'var2': 0,\n",
      " 'var3': '',\n",
      " 'vara': ['1123', '112112311121123123'],\n",
      " 'varb': ['1', '12', '11231', '112112312']}\n"
     ]
    },
    {
     "data": {
      "text/plain": [
       "{'varb': ['1', '12', '11231', '112112312']}"
      ]
     },
     "execution_count": 36,
     "metadata": {},
     "output_type": "execute_result"
    }
   ],
   "source": [
    "graph4.invoke({\"var1\" : [\"0\"]}, {\"configurable\" : {\"thread_id\" : \"1\", \"user_id\" : \"1\"}})"
   ]
  },
  {
   "cell_type": "code",
   "execution_count": 37,
   "id": "f3b6836a",
   "metadata": {},
   "outputs": [
    {
     "data": {
      "text/plain": [
       "[StateSnapshot(values={'var1': [HumanMessage(content='1', additional_kwargs={}, response_metadata={}, id='a4348a6d-4f33-4ea5-84c3-e3d62c4b0888'), HumanMessage(content='12', additional_kwargs={}, response_metadata={}, id='3ce1ed1c-2a9a-480e-99cf-8b84c84ebaec'), HumanMessage(content='1123', additional_kwargs={}, response_metadata={}, id='72f4de6f-761c-4e04-aa1f-8a107dd1880a'), HumanMessage(content='11231', additional_kwargs={}, response_metadata={}, id='027d8fe1-d34e-48a2-837f-56a2cc280ff4'), HumanMessage(content='112112312', additional_kwargs={}, response_metadata={}, id='af3a6246-cd4d-4b4c-9960-ecff653b973a'), HumanMessage(content='112112311121123123', additional_kwargs={}, response_metadata={}, id='0862d64e-eec7-4093-9f71-980d9842f142')], 'var2': 0, 'var3': '', 'vara': ['1123', '112112311121123123'], 'varb': ['1', '12', '11231', '112112312']}, next=(), config={'configurable': {'thread_id': '1', 'checkpoint_ns': '', 'checkpoint_id': '1f024605-66d0-6b96-8008-95b787e35fcb'}}, metadata={'source': 'loop', 'writes': {'node3': None}, 'step': 8, 'parents': {}, 'thread_id': '1', 'user_id': '1'}, created_at='2025-04-28T18:41:03.393269+00:00', parent_config={'configurable': {'thread_id': '1', 'checkpoint_ns': '', 'checkpoint_id': '1f024605-66ce-6495-8007-89c6ebd29251'}}, tasks=()),\n",
       " StateSnapshot(values={'var1': [HumanMessage(content='1', additional_kwargs={}, response_metadata={}, id='a4348a6d-4f33-4ea5-84c3-e3d62c4b0888'), HumanMessage(content='12', additional_kwargs={}, response_metadata={}, id='3ce1ed1c-2a9a-480e-99cf-8b84c84ebaec'), HumanMessage(content='1123', additional_kwargs={}, response_metadata={}, id='72f4de6f-761c-4e04-aa1f-8a107dd1880a'), HumanMessage(content='11231', additional_kwargs={}, response_metadata={}, id='027d8fe1-d34e-48a2-837f-56a2cc280ff4'), HumanMessage(content='112112312', additional_kwargs={}, response_metadata={}, id='af3a6246-cd4d-4b4c-9960-ecff653b973a')], 'var2': 0, 'var3': '', 'vara': ['1123'], 'varb': ['1', '12', '11231', '112112312']}, next=('node3',), config={'configurable': {'thread_id': '1', 'checkpoint_ns': '', 'checkpoint_id': '1f024605-66ce-6495-8007-89c6ebd29251'}}, metadata={'source': 'loop', 'writes': {'node2': {'varb': ['112112312']}}, 'step': 7, 'parents': {}, 'thread_id': '1', 'user_id': '1'}, created_at='2025-04-28T18:41:03.392270+00:00', parent_config={'configurable': {'thread_id': '1', 'checkpoint_ns': '', 'checkpoint_id': '1f024605-66c6-6f43-8006-7314608c9cc7'}}, tasks=(PregelTask(id='d0b3cbfc-8186-6c67-fcc3-a9eaf09b1f58', name='node3', path=('__pregel_pull', 'node3'), error=None, interrupts=(), state=None, result={'vara': ['112112311121123123'], 'var1': ['112112311121123123']}),)),\n",
       " StateSnapshot(values={'var1': [HumanMessage(content='1', additional_kwargs={}, response_metadata={}, id='a4348a6d-4f33-4ea5-84c3-e3d62c4b0888'), HumanMessage(content='12', additional_kwargs={}, response_metadata={}, id='3ce1ed1c-2a9a-480e-99cf-8b84c84ebaec'), HumanMessage(content='1123', additional_kwargs={}, response_metadata={}, id='72f4de6f-761c-4e04-aa1f-8a107dd1880a'), HumanMessage(content='11231', additional_kwargs={}, response_metadata={}, id='027d8fe1-d34e-48a2-837f-56a2cc280ff4')], 'var2': 0, 'var3': '', 'vara': ['1123'], 'varb': ['1', '12', '11231']}, next=('node2',), config={'configurable': {'thread_id': '1', 'checkpoint_ns': '', 'checkpoint_id': '1f024605-66c6-6f43-8006-7314608c9cc7'}}, metadata={'source': 'loop', 'writes': {'node1': {'varb': ['11231']}}, 'step': 6, 'parents': {}, 'thread_id': '1', 'user_id': '1'}, created_at='2025-04-28T18:41:03.388265+00:00', parent_config={'configurable': {'thread_id': '1', 'checkpoint_ns': '', 'checkpoint_id': '1f024605-66bf-69f5-8005-35b52175ca4b'}}, tasks=(PregelTask(id='8f7bcfab-c0d3-04be-a4dd-d931fc659229', name='node2', path=('__pregel_pull', 'node2'), error=None, interrupts=(), state=None, result={'varb': ['112112312'], 'var1': ['112112312']}),)),\n",
       " StateSnapshot(values={'var1': [HumanMessage(content='1', additional_kwargs={}, response_metadata={}, id='a4348a6d-4f33-4ea5-84c3-e3d62c4b0888'), HumanMessage(content='12', additional_kwargs={}, response_metadata={}, id='3ce1ed1c-2a9a-480e-99cf-8b84c84ebaec'), HumanMessage(content='1123', additional_kwargs={}, response_metadata={}, id='72f4de6f-761c-4e04-aa1f-8a107dd1880a')], 'var2': 0, 'var3': '', 'vara': ['1123'], 'varb': ['1', '12']}, next=('node1',), config={'configurable': {'thread_id': '1', 'checkpoint_ns': '', 'checkpoint_id': '1f024605-66bf-69f5-8005-35b52175ca4b'}}, metadata={'source': 'loop', 'writes': None, 'step': 5, 'parents': {}, 'thread_id': '1', 'user_id': '1'}, created_at='2025-04-28T18:41:03.386264+00:00', parent_config={'configurable': {'thread_id': '1', 'checkpoint_ns': '', 'checkpoint_id': '1f024605-66ba-6bee-8004-3f158db5cf66'}}, tasks=(PregelTask(id='0c481672-47b8-3946-2ce8-42090e888ad8', name='node1', path=('__pregel_pull', 'node1'), error=None, interrupts=(), state=None, result={'varb': ['11231'], 'var1': ['11231']}),)),\n",
       " StateSnapshot(values={'var1': [HumanMessage(content='1', additional_kwargs={}, response_metadata={}, id='a4348a6d-4f33-4ea5-84c3-e3d62c4b0888'), HumanMessage(content='12', additional_kwargs={}, response_metadata={}, id='3ce1ed1c-2a9a-480e-99cf-8b84c84ebaec'), HumanMessage(content='1123', additional_kwargs={}, response_metadata={}, id='72f4de6f-761c-4e04-aa1f-8a107dd1880a')], 'var2': 0, 'var3': '', 'vara': ['1123'], 'varb': ['1', '12']}, next=('__start__',), config={'configurable': {'thread_id': '1', 'checkpoint_ns': '', 'checkpoint_id': '1f024605-66ba-6bee-8004-3f158db5cf66'}}, metadata={'source': 'input', 'writes': {'__start__': {'var1': ['0']}}, 'step': 4, 'parents': {}, 'thread_id': '1', 'user_id': '1'}, created_at='2025-04-28T18:41:03.384267+00:00', parent_config={'configurable': {'thread_id': '1', 'checkpoint_ns': '', 'checkpoint_id': '1f024603-3398-69c6-8003-595e57a12089'}}, tasks=(PregelTask(id='2c96a3af-d44e-2d16-ac65-4547a6a0145a', name='__start__', path=('__pregel_pull', '__start__'), error=None, interrupts=(), state=None, result={}),)),\n",
       " StateSnapshot(values={'var1': [HumanMessage(content='1', additional_kwargs={}, response_metadata={}, id='a4348a6d-4f33-4ea5-84c3-e3d62c4b0888'), HumanMessage(content='12', additional_kwargs={}, response_metadata={}, id='3ce1ed1c-2a9a-480e-99cf-8b84c84ebaec'), HumanMessage(content='1123', additional_kwargs={}, response_metadata={}, id='72f4de6f-761c-4e04-aa1f-8a107dd1880a')], 'var2': 0, 'var3': '', 'vara': ['1123'], 'varb': ['1', '12']}, next=(), config={'configurable': {'thread_id': '1', 'checkpoint_ns': '', 'checkpoint_id': '1f024603-3398-69c6-8003-595e57a12089'}}, metadata={'source': 'loop', 'writes': {'node3': None}, 'step': 3, 'parents': {}, 'thread_id': '1', 'user_id': '1'}, created_at='2025-04-28T18:40:04.335456+00:00', parent_config={'configurable': {'thread_id': '1', 'checkpoint_ns': '', 'checkpoint_id': '1f024603-3391-6f2f-8002-e9cf8171baa0'}}, tasks=()),\n",
       " StateSnapshot(values={'var1': [HumanMessage(content='1', additional_kwargs={}, response_metadata={}, id='a4348a6d-4f33-4ea5-84c3-e3d62c4b0888'), HumanMessage(content='12', additional_kwargs={}, response_metadata={}, id='3ce1ed1c-2a9a-480e-99cf-8b84c84ebaec')], 'var2': 0, 'var3': '', 'vara': [], 'varb': ['1', '12']}, next=('node3',), config={'configurable': {'thread_id': '1', 'checkpoint_ns': '', 'checkpoint_id': '1f024603-3391-6f2f-8002-e9cf8171baa0'}}, metadata={'source': 'loop', 'writes': {'node2': {'varb': ['12']}}, 'step': 2, 'parents': {}, 'thread_id': '1', 'user_id': '1'}, created_at='2025-04-28T18:40:04.332727+00:00', parent_config={'configurable': {'thread_id': '1', 'checkpoint_ns': '', 'checkpoint_id': '1f024603-338a-6957-8001-b7256e915704'}}, tasks=(PregelTask(id='c80ebe02-11e5-9eff-3a12-f84cfdd083dd', name='node3', path=('__pregel_pull', 'node3'), error=None, interrupts=(), state=None, result={'vara': ['1123'], 'var1': ['1123']}),)),\n",
       " StateSnapshot(values={'var1': [HumanMessage(content='1', additional_kwargs={}, response_metadata={}, id='a4348a6d-4f33-4ea5-84c3-e3d62c4b0888')], 'var2': 0, 'var3': '', 'vara': [], 'varb': ['1']}, next=('node2',), config={'configurable': {'thread_id': '1', 'checkpoint_ns': '', 'checkpoint_id': '1f024603-338a-6957-8001-b7256e915704'}}, metadata={'source': 'loop', 'writes': {'node1': {'varb': ['1']}}, 'step': 1, 'parents': {}, 'thread_id': '1', 'user_id': '1'}, created_at='2025-04-28T18:40:04.329711+00:00', parent_config={'configurable': {'thread_id': '1', 'checkpoint_ns': '', 'checkpoint_id': '1f024603-3387-642a-8000-5f2113985e52'}}, tasks=(PregelTask(id='d2715600-2d7f-411a-28a1-24ee0faf9136', name='node2', path=('__pregel_pull', 'node2'), error=None, interrupts=(), state=None, result={'varb': ['12'], 'var1': ['12']}),)),\n",
       " StateSnapshot(values={'var1': [], 'var2': 0, 'var3': '', 'vara': [], 'varb': []}, next=('node1',), config={'configurable': {'thread_id': '1', 'checkpoint_ns': '', 'checkpoint_id': '1f024603-3387-642a-8000-5f2113985e52'}}, metadata={'source': 'loop', 'writes': None, 'step': 0, 'parents': {}, 'thread_id': '1', 'user_id': '1'}, created_at='2025-04-28T18:40:04.328349+00:00', parent_config={'configurable': {'thread_id': '1', 'checkpoint_ns': '', 'checkpoint_id': '1f024603-337d-6d44-bfff-97de82bf3427'}}, tasks=(PregelTask(id='a5fcae5e-bacc-72a5-fa9f-fc40d1007cff', name='node1', path=('__pregel_pull', 'node1'), error=None, interrupts=(), state=None, result={'varb': ['1'], 'var1': ['1']}),)),\n",
       " StateSnapshot(values={'var1': [], 'var2': 0, 'var3': '', 'vara': [], 'varb': []}, next=('__start__',), config={'configurable': {'thread_id': '1', 'checkpoint_ns': '', 'checkpoint_id': '1f024603-337d-6d44-bfff-97de82bf3427'}}, metadata={'source': 'input', 'writes': {'__start__': {'var1': ['0']}}, 'step': -1, 'parents': {}, 'thread_id': '1', 'user_id': '1'}, created_at='2025-04-28T18:40:04.324486+00:00', parent_config=None, tasks=(PregelTask(id='d5b9f9bc-920b-7687-cce6-0275535524e5', name='__start__', path=('__pregel_pull', '__start__'), error=None, interrupts=(), state=None, result={}),))]"
      ]
     },
     "execution_count": 37,
     "metadata": {},
     "output_type": "execute_result"
    }
   ],
   "source": [
    "list(graph4.get_state_history({\"configurable\" : {\"thread_id\" : \"1\", \"user_id\" : \"1\"}}))"
   ]
  },
  {
   "cell_type": "code",
   "execution_count": 38,
   "id": "369648c0",
   "metadata": {},
   "outputs": [
    {
     "data": {
      "text/plain": [
       "[]"
      ]
     },
     "execution_count": 38,
     "metadata": {},
     "output_type": "execute_result"
    }
   ],
   "source": [
    "store.list_namespaces()"
   ]
  },
  {
   "cell_type": "markdown",
   "id": "158db60a",
   "metadata": {},
   "source": [
    "## **Experimenting on store**\n",
    "\n",
    "* As provided, the memory store takes in a namespace, key and value as parameters\n",
    "* Namespace is a tuple with values which can be thought of as a table name and the user ID in a database\n",
    "* The key is the ID for each record in the table and the value is the data for each record\n",
    "* The store is basically a NoSQL key-value database containing a hierarchical key of user ID and table name\n",
    "* It can contain as many users and as many tables for each users as needed\n",
    "* Based on the logic of the flow, we can store required memory for each user through the configurable parameters\n",
    "* As thread ID is not a field in the store, this store can be thought of as a memory across threads"
   ]
  },
  {
   "cell_type": "code",
   "execution_count": 40,
   "id": "5e33a6a7",
   "metadata": {},
   "outputs": [],
   "source": [
    "memory_store = InMemoryStore()"
   ]
  },
  {
   "cell_type": "code",
   "execution_count": 41,
   "id": "eb1ccddc",
   "metadata": {},
   "outputs": [
    {
     "data": {
      "text/plain": [
       "[]"
      ]
     },
     "execution_count": 41,
     "metadata": {},
     "output_type": "execute_result"
    }
   ],
   "source": [
    "memory_store.list_namespaces()"
   ]
  },
  {
   "cell_type": "code",
   "execution_count": 42,
   "id": "6f278d44",
   "metadata": {},
   "outputs": [],
   "source": [
    "table = \"memories\"\n",
    "user_id = \"1\"\n",
    "\n",
    "namespace = (table, user_id)\n",
    "\n",
    "memory_id = \"1\"\n",
    "data = {\"Food\" : \"Dosa\"}\n",
    "\n",
    "memory_store.put(namespace = namespace, key = memory_id, value = data)"
   ]
  },
  {
   "cell_type": "code",
   "execution_count": 43,
   "id": "921c8199",
   "metadata": {},
   "outputs": [
    {
     "data": {
      "text/plain": [
       "[Item(namespace=['memories', '1'], key='1', value={'Food': 'Dosa'}, created_at='2025-04-28T18:51:48.220833+00:00', updated_at='2025-04-28T18:51:48.220833+00:00', score=None)]"
      ]
     },
     "execution_count": 43,
     "metadata": {},
     "output_type": "execute_result"
    }
   ],
   "source": [
    "memory_store.search(namespace)"
   ]
  },
  {
   "cell_type": "code",
   "execution_count": 44,
   "id": "b5089117",
   "metadata": {},
   "outputs": [],
   "source": [
    "memory_store.put(namespace = namespace, key = \"2\", value = {\"Drink\" : \"Water\"})"
   ]
  },
  {
   "cell_type": "code",
   "execution_count": 45,
   "id": "f033d2a0",
   "metadata": {},
   "outputs": [
    {
     "data": {
      "text/plain": [
       "[Item(namespace=['memories', '1'], key='1', value={'Food': 'Dosa'}, created_at='2025-04-28T18:51:48.220833+00:00', updated_at='2025-04-28T18:51:48.220833+00:00', score=None),\n",
       " Item(namespace=['memories', '1'], key='2', value={'Drink': 'Water'}, created_at='2025-04-28T18:53:17.759920+00:00', updated_at='2025-04-28T18:53:17.759920+00:00', score=None)]"
      ]
     },
     "execution_count": 45,
     "metadata": {},
     "output_type": "execute_result"
    }
   ],
   "source": [
    "memory_store.search(namespace)"
   ]
  },
  {
   "cell_type": "code",
   "execution_count": 46,
   "id": "a3ec0159",
   "metadata": {},
   "outputs": [
    {
     "data": {
      "text/plain": [
       "{'namespace': ['memories', '1'],\n",
       " 'key': '2',\n",
       " 'value': {'Drink': 'Water'},\n",
       " 'created_at': '2025-04-28T18:53:17.759920+00:00',\n",
       " 'updated_at': '2025-04-28T18:53:17.759920+00:00',\n",
       " 'score': None}"
      ]
     },
     "execution_count": 46,
     "metadata": {},
     "output_type": "execute_result"
    }
   ],
   "source": [
    "memory_store.search(namespace)[-1].dict()"
   ]
  },
  {
   "cell_type": "code",
   "execution_count": 47,
   "id": "3a09fe33",
   "metadata": {},
   "outputs": [],
   "source": [
    "memory_store.put(namespace = (\"memories\", \"2\"), key = \"1\", value = {\"Food\" : \"Idly\"})"
   ]
  },
  {
   "cell_type": "code",
   "execution_count": 48,
   "id": "e1afb2d4",
   "metadata": {},
   "outputs": [],
   "source": [
    "memory_store.put(namespace = (\"memories\", \"2\"), key = \"2\", value = {\"Drink\" : \"Water\"})"
   ]
  },
  {
   "cell_type": "code",
   "execution_count": 51,
   "id": "e39a7a9e",
   "metadata": {},
   "outputs": [
    {
     "data": {
      "text/plain": [
       "[Item(namespace=['memories', '1'], key='1', value={'Food': 'Dosa'}, created_at='2025-04-28T18:51:48.220833+00:00', updated_at='2025-04-28T18:51:48.220833+00:00', score=None),\n",
       " Item(namespace=['memories', '1'], key='2', value={'Drink': 'Water'}, created_at='2025-04-28T18:53:17.759920+00:00', updated_at='2025-04-28T18:53:17.759920+00:00', score=None)]"
      ]
     },
     "execution_count": 51,
     "metadata": {},
     "output_type": "execute_result"
    }
   ],
   "source": [
    "memory_store.search(namespace)"
   ]
  },
  {
   "cell_type": "code",
   "execution_count": 52,
   "id": "a94308c5",
   "metadata": {},
   "outputs": [
    {
     "data": {
      "text/plain": [
       "[Item(namespace=['memories', '2'], key='1', value={'Food': 'Idly'}, created_at='2025-04-28T18:55:15.020403+00:00', updated_at='2025-04-28T18:55:15.020403+00:00', score=None),\n",
       " Item(namespace=['memories', '2'], key='2', value={'Drink': 'Water'}, created_at='2025-04-28T18:55:31.581105+00:00', updated_at='2025-04-28T18:55:31.581105+00:00', score=None)]"
      ]
     },
     "execution_count": 52,
     "metadata": {},
     "output_type": "execute_result"
    }
   ],
   "source": [
    "memory_store.search((\"memories\", \"2\"))"
   ]
  },
  {
   "cell_type": "code",
   "execution_count": 53,
   "id": "3578a741",
   "metadata": {},
   "outputs": [
    {
     "data": {
      "text/plain": [
       "[('memories', '1'), ('memories', '2')]"
      ]
     },
     "execution_count": 53,
     "metadata": {},
     "output_type": "execute_result"
    }
   ],
   "source": [
    "memory_store.list_namespaces()"
   ]
  },
  {
   "cell_type": "code",
   "execution_count": 54,
   "id": "cdeccbe3",
   "metadata": {},
   "outputs": [],
   "source": [
    "memory_store.put(namespace = (\"docs\", \"1\"), key = \"1\", value = {\"name\" : \"1.pdf\", \"size\" : 100})"
   ]
  },
  {
   "cell_type": "code",
   "execution_count": 55,
   "id": "3d201672",
   "metadata": {},
   "outputs": [
    {
     "data": {
      "text/plain": [
       "[('docs', '1'), ('memories', '1'), ('memories', '2')]"
      ]
     },
     "execution_count": 55,
     "metadata": {},
     "output_type": "execute_result"
    }
   ],
   "source": [
    "memory_store.list_namespaces()"
   ]
  },
  {
   "cell_type": "code",
   "execution_count": 56,
   "id": "9d51f69f",
   "metadata": {},
   "outputs": [
    {
     "data": {
      "text/plain": [
       "[Item(namespace=['docs', '1'], key='1', value={'name': '1.pdf', 'size': 100}, created_at='2025-04-28T18:58:11.220076+00:00', updated_at='2025-04-28T18:58:11.220076+00:00', score=None)]"
      ]
     },
     "execution_count": 56,
     "metadata": {},
     "output_type": "execute_result"
    }
   ],
   "source": [
    "memory_store.search((\"docs\", \"1\"))"
   ]
  },
  {
   "cell_type": "code",
   "execution_count": 57,
   "id": "2ed04c08",
   "metadata": {},
   "outputs": [
    {
     "data": {
      "text/plain": [
       "[]"
      ]
     },
     "execution_count": 57,
     "metadata": {},
     "output_type": "execute_result"
    }
   ],
   "source": [
    "memory_store.search((\"docs\", \"2\"))"
   ]
  },
  {
   "cell_type": "code",
   "execution_count": 61,
   "id": "c0618631",
   "metadata": {},
   "outputs": [
    {
     "data": {
      "text/plain": [
       "Item(namespace=['memories', '1'], key='2', value={'Drink': 'Water'}, created_at='2025-04-28T18:53:17.759920+00:00', updated_at='2025-04-28T18:53:17.759920+00:00')"
      ]
     },
     "execution_count": 61,
     "metadata": {},
     "output_type": "execute_result"
    }
   ],
   "source": [
    "memory_store.get(namespace = (\"memories\", \"1\"), key = \"2\")"
   ]
  },
  {
   "cell_type": "code",
   "execution_count": null,
   "id": "61322ca3",
   "metadata": {},
   "outputs": [],
   "source": []
  }
 ],
 "metadata": {
  "kernelspec": {
   "display_name": "lenv",
   "language": "python",
   "name": "python3"
  },
  "language_info": {
   "codemirror_mode": {
    "name": "ipython",
    "version": 3
   },
   "file_extension": ".py",
   "mimetype": "text/x-python",
   "name": "python",
   "nbconvert_exporter": "python",
   "pygments_lexer": "ipython3",
   "version": "3.10.11"
  }
 },
 "nbformat": 4,
 "nbformat_minor": 5
}
