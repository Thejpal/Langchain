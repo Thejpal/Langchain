{
 "cells": [
  {
   "cell_type": "markdown",
   "id": "b6f3487f",
   "metadata": {},
   "source": [
    "## **Langgraph node connections and states**\n",
    "\n",
    "* Nodes accesses and returns states (Message passing technique)\n",
    "* As long as a state is updated in any of the nodes, that state can be accessed in any of the subsequent nodes. No need to get the state from the return value of the previous node\n",
    "* All states can be accessed from any of the nodes as long as the state is updated previously regardless of the previous node's return value\n",
    "* Each node can return any state as long as it is defined (Not required for the state to be passed as a parameter in the node definition)"
   ]
  },
  {
   "cell_type": "code",
   "execution_count": 1,
   "id": "c78396ef",
   "metadata": {},
   "outputs": [],
   "source": [
    "from langgraph.graph import StateGraph, START, END\n",
    "from typing_extensions import TypedDict"
   ]
  },
  {
   "cell_type": "code",
   "execution_count": 2,
   "id": "a28c17a8",
   "metadata": {},
   "outputs": [],
   "source": [
    "class InputState(TypedDict):\n",
    "    input: str\n",
    "\n",
    "class IntermediateState(TypedDict):\n",
    "    need_human_input: bool\n",
    "    inquiry: str\n",
    "\n",
    "class OverallState(TypedDict):\n",
    "    input: str\n",
    "    output: str\n",
    "\n",
    "class OutputState(TypedDict):\n",
    "    output: str"
   ]
  },
  {
   "cell_type": "code",
   "execution_count": 3,
   "id": "4b03fbc0",
   "metadata": {},
   "outputs": [],
   "source": [
    "builder = StateGraph(OverallState, input=InputState, output=OutputState)"
   ]
  },
  {
   "cell_type": "code",
   "execution_count": 4,
   "id": "f2a03d77",
   "metadata": {},
   "outputs": [],
   "source": [
    "import random\n",
    "\n",
    "def node1(state: InputState) -> OverallState:\n",
    "    return {\"input\": state[\"input\"] + \" updated\", \"output\" : \"Start\"}\n",
    "\n",
    "def intermediate_update(state: OverallState) -> IntermediateState:\n",
    "    human_input_needed = random.choice([True, False])\n",
    "    inquiry = state[\"input\"] + \" \" + state[\"output\"]\n",
    "\n",
    "    return {\"need_human_input\": human_input_needed, \"inquiry\": inquiry}\n",
    "\n",
    "def node2(state: IntermediateState) -> OutputState:\n",
    "    return {\"output\": state[\"inquiry\"] + \" Human input needed\"}\n",
    "\n",
    "def output_update(state: IntermediateState) -> OutputState:\n",
    "    output = state[\"inquiry\"] + \" Human input not needed\"\n",
    "    \n",
    "    return {\"output\": output}\n",
    "\n",
    "def decide(state: IntermediateState):\n",
    "    if state[\"need_human_input\"]:\n",
    "        return \"node2\"\n",
    "    else:\n",
    "        return \"output_node\"\n",
    "\n",
    "builder.add_node(\"node1\", node1)\n",
    "builder.add_node(\"decision_node\", intermediate_update)\n",
    "builder.add_node(\"node2\", node2)\n",
    "builder.add_node(\"output_node\", output_update)\n",
    "\n",
    "builder.add_edge(START, \"node1\")\n",
    "builder.add_edge(\"node1\", \"decision_node\")\n",
    "builder.add_edge([\"output_node\", \"node2\"], END)\n",
    "\n",
    "builder.add_conditional_edges(\"decision_node\", decide)\n",
    "\n",
    "graph = builder.compile()"
   ]
  },
  {
   "cell_type": "code",
   "execution_count": 5,
   "id": "ec6464f8",
   "metadata": {},
   "outputs": [
    {
     "name": "stdout",
     "output_type": "stream",
     "text": [
      "                    +-----------+                 \n",
      "                    | __start__ |                 \n",
      "                    +-----------+                 \n",
      "                          *                       \n",
      "                          *                       \n",
      "                          *                       \n",
      "                      +-------+                   \n",
      "                      | node1 |                   \n",
      "                      +-------+                   \n",
      "                          .                       \n",
      "                          .                       \n",
      "                          .                       \n",
      "                  +---------------+               \n",
      "                  | decision_node |               \n",
      "                  +---------------+.              \n",
      "              ....        .         ....          \n",
      "          ....            .             ...       \n",
      "        ..                .                ....   \n",
      "+-------+         +-------------+              .. \n",
      "| node2 |*        | output_node |          ....   \n",
      "+-------+ ****    +-------------+       ...       \n",
      "              ****        *         ....          \n",
      "                  ****    *     ....              \n",
      "                      **  *   ..                  \n",
      "                     +---------+                  \n",
      "                     | __end__ |                  \n",
      "                     +---------+                  \n"
     ]
    }
   ],
   "source": [
    "print(graph.get_graph().draw_ascii())"
   ]
  },
  {
   "cell_type": "code",
   "execution_count": 6,
   "id": "bd1b2b80",
   "metadata": {},
   "outputs": [
    {
     "data": {
      "image/png": "[encoded data removed]",
      "text/plain": [
       "<IPython.core.display.Image object>"
      ]
     },
     "execution_count": 6,
     "metadata": {},
     "output_type": "execute_result"
    }
   ],
   "source": [
    "from IPython.display import Image\n",
    "\n",
    "Image(graph.get_graph().draw_mermaid_png())"
   ]
  },
  {
   "cell_type": "code",
   "execution_count": 7,
   "id": "07d5262b",
   "metadata": {},
   "outputs": [
    {
     "data": {
      "text/plain": [
       "{'output': 'Hi updated Start Human input not needed'}"
      ]
     },
     "execution_count": 7,
     "metadata": {},
     "output_type": "execute_result"
    }
   ],
   "source": [
    "graph.invoke({\"input\" : \"Hi\"})"
   ]
  },
  {
   "cell_type": "code",
   "execution_count": 8,
   "id": "5d91c348",
   "metadata": {},
   "outputs": [
    {
     "data": {
      "text/plain": [
       "{'output': 'Hello updated Start Human input needed'}"
      ]
     },
     "execution_count": 8,
     "metadata": {},
     "output_type": "execute_result"
    }
   ],
   "source": [
    "graph.invoke({\"input\": \"Hello\"})"
   ]
  },
  {
   "cell_type": "code",
   "execution_count": 9,
   "id": "4642e57d",
   "metadata": {},
   "outputs": [
    {
     "data": {
      "text/plain": [
       "{'output': 'Hello updated Start Human input needed'}"
      ]
     },
     "execution_count": 9,
     "metadata": {},
     "output_type": "execute_result"
    }
   ],
   "source": [
    "graph.invoke({\"input\": \"Hello\"})"
   ]
  },
  {
   "cell_type": "code",
   "execution_count": 10,
   "id": "dff7b5d5",
   "metadata": {},
   "outputs": [
    {
     "data": {
      "text/plain": [
       "{'output': 'Hello updated Start Human input needed'}"
      ]
     },
     "execution_count": 10,
     "metadata": {},
     "output_type": "execute_result"
    }
   ],
   "source": [
    "graph.invoke({\"input\": \"Hello\"})"
   ]
  },
  {
   "cell_type": "code",
   "execution_count": 11,
   "id": "786d284e",
   "metadata": {},
   "outputs": [
    {
     "data": {
      "text/plain": [
       "{'output': 'Hello updated Start Human input not needed'}"
      ]
     },
     "execution_count": 11,
     "metadata": {},
     "output_type": "execute_result"
    }
   ],
   "source": [
    "graph.invoke({\"input\": \"Hello\"})"
   ]
  },
  {
   "cell_type": "markdown",
   "id": "1a42be0e",
   "metadata": {},
   "source": [
    "## **Langgraph stray node testing for background task**\n",
    "\n",
    "* End node will only get executed after the stray node execution is done. Not possible to use it for background tasks"
   ]
  },
  {
   "cell_type": "code",
   "execution_count": 12,
   "id": "aafe090a",
   "metadata": {},
   "outputs": [],
   "source": [
    "class TempState(TypedDict):\n",
    "    temp: str"
   ]
  },
  {
   "cell_type": "code",
   "execution_count": 38,
   "id": "ebd41995",
   "metadata": {},
   "outputs": [],
   "source": [
    "builder2 = StateGraph(OverallState, input = InputState, output = OutputState)"
   ]
  },
  {
   "cell_type": "code",
   "execution_count": 39,
   "id": "8d6dd446",
   "metadata": {},
   "outputs": [],
   "source": [
    "import time\n",
    "\n",
    "def nodex(state: InputState) -> OverallState:\n",
    "    print(\"x\")\n",
    "    return {\"input\": state[\"input\"] + \" updated\", \"output\": \"Start\"}\n",
    "\n",
    "def nodey(state: OverallState) -> OverallState:\n",
    "    print(\"y\")\n",
    "    return {\"input\": state[\"input\"] + \" updated\", \"output\": state[\"output\"] + \" updated\"}\n",
    "\n",
    "def stray_node(state: OverallState):\n",
    "    time.sleep(2)\n",
    "    print(\"stray\")\n",
    "\n",
    "def nodez(state: OverallState) -> OutputState:\n",
    "    print(\"z\")\n",
    "    return {\"output\": state[\"output\"] + \" End\"}\n",
    "\n",
    "builder2.add_node(\"nodex\", nodex)\n",
    "builder2.add_node(\"nodey\", nodey)\n",
    "builder2.add_node(\"stray_node\", stray_node)\n",
    "builder2.add_node(\"nodez\", nodez)\n",
    "\n",
    "builder2.add_edge(START, \"nodex\")\n",
    "builder2.add_edge(\"nodex\", \"nodey\")\n",
    "builder2.add_edge(\"nodex\", \"stray_node\")\n",
    "builder2.add_edge(\"nodey\", \"nodez\")\n",
    "builder2.add_edge(\"nodez\", END)\n",
    "\n",
    "graph2 = builder2.compile()"
   ]
  },
  {
   "cell_type": "code",
   "execution_count": 40,
   "id": "61190c73",
   "metadata": {},
   "outputs": [
    {
     "name": "stdout",
     "output_type": "stream",
     "text": [
      "           +-----------+           \n",
      "           | __start__ |           \n",
      "           +-----------+           \n",
      "                 *                 \n",
      "                 *                 \n",
      "                 *                 \n",
      "             +-------+             \n",
      "             | nodex |             \n",
      "             +-------+             \n",
      "            **        **           \n",
      "          **            **         \n",
      "         *                *        \n",
      "+------------+         +-------+   \n",
      "| stray_node |         | nodey |   \n",
      "+------------+         +-------+   \n",
      "                            *      \n",
      "                            *      \n",
      "                            *      \n",
      "                       +-------+   \n",
      "                       | nodez |   \n",
      "                       +-------+   \n",
      "                            *      \n",
      "                            *      \n",
      "                            *      \n",
      "                      +---------+  \n",
      "                      | __end__ |  \n",
      "                      +---------+  \n"
     ]
    }
   ],
   "source": [
    "print(graph2.get_graph().draw_ascii())"
   ]
  },
  {
   "cell_type": "code",
   "execution_count": 41,
   "id": "81c2930b",
   "metadata": {},
   "outputs": [
    {
     "name": "stdout",
     "output_type": "stream",
     "text": [
      "x\n",
      "y\n",
      "stray\n",
      "z\n"
     ]
    },
    {
     "data": {
      "text/plain": [
       "{'output': 'Start updated End'}"
      ]
     },
     "execution_count": 41,
     "metadata": {},
     "output_type": "execute_result"
    }
   ],
   "source": [
    "graph2.invoke({\"input\" : \"Hi\"})"
   ]
  },
  {
   "cell_type": "markdown",
   "id": "20ac9c99",
   "metadata": {},
   "source": [
    "## **Updating and returning multiple states**\n",
    "\n",
    "* Return value of each node is expected to be a dict. Not possible to return multiple dicts as a list\n",
    "* To update or return multiple dicts from one node, need to define an intermediate state that has those multiple states as parameters"
   ]
  },
  {
   "cell_type": "code",
   "execution_count": 74,
   "id": "a72c10d9",
   "metadata": {},
   "outputs": [],
   "source": [
    "class Input(TypedDict):\n",
    "    input: str\n",
    "\n",
    "class State1(TypedDict):\n",
    "    var1: str\n",
    "\n",
    "class State2(TypedDict):\n",
    "    var2: str\n",
    "\n",
    "class State12(TypedDict):\n",
    "    state1: State1\n",
    "    state2: State2\n",
    "\n",
    "class State3(TypedDict):\n",
    "    var3: str\n",
    "\n",
    "class State4(TypedDict):\n",
    "    var4: str\n",
    "\n",
    "class Output(TypedDict):\n",
    "    output: str\n",
    "\n",
    "class State34O(TypedDict):\n",
    "    state3: State3\n",
    "    state4: State4\n",
    "    output: Output\n",
    "\n",
    "class Overall(TypedDict):\n",
    "    temp: str"
   ]
  },
  {
   "cell_type": "code",
   "execution_count": 78,
   "id": "f72322e6",
   "metadata": {},
   "outputs": [],
   "source": [
    "builder3 = StateGraph(Overall, input = Input, output = State34O)"
   ]
  },
  {
   "cell_type": "code",
   "execution_count": 79,
   "id": "b9dbf2b1",
   "metadata": {},
   "outputs": [],
   "source": [
    "def nodep(state: Input) -> State12:\n",
    "    state1 = State1(var1 = state[\"input\"] + \" 1\")\n",
    "    state2 = State2(var2 = state[\"input\"] + \" 2\")\n",
    "\n",
    "    return {\"state1\": state1, \"state2\": state2}\n",
    "\n",
    "def nodeq(state: State12) -> State34O:\n",
    "    state3 = state[\"state1\"][\"var1\"] + \" 3\"\n",
    "    state4 = state[\"state2\"][\"var2\"] + \" 4\"\n",
    "    output = {\"output\" : \"output\"}\n",
    "    \n",
    "    return {\"state3\": state3, \"state4\": state4, \"output\": output}\n",
    "\n",
    "builder3.add_node(\"nodep\", nodep)\n",
    "builder3.add_node(\"nodeq\", nodeq)\n",
    "\n",
    "builder3.add_edge(START, \"nodep\")\n",
    "builder3.add_edge(\"nodep\", \"nodeq\")\n",
    "builder3.add_edge(\"nodeq\", END)\n",
    "\n",
    "graph3 = builder3.compile()"
   ]
  },
  {
   "cell_type": "code",
   "execution_count": 80,
   "id": "5a4a2c2d",
   "metadata": {},
   "outputs": [
    {
     "data": {
      "text/plain": [
       "{'state3': 'Hi 1 3', 'state4': 'Hi 2 4', 'output': {'output': 'output'}}"
      ]
     },
     "execution_count": 80,
     "metadata": {},
     "output_type": "execute_result"
    }
   ],
   "source": [
    "graph3.invoke({\"input\" : \"Hi\"})"
   ]
  },
  {
   "cell_type": "markdown",
   "id": "2e2d2a75",
   "metadata": {},
   "source": [
    "* Error specifying that the return state is expected to be a dict and not a list"
   ]
  },
  {
   "cell_type": "code",
   "execution_count": 110,
   "id": "f66ac53d",
   "metadata": {},
   "outputs": [],
   "source": [
    "builder4 = StateGraph(Overall, input = Input, output = list[State3, State4, Output])"
   ]
  },
  {
   "cell_type": "code",
   "execution_count": 111,
   "id": "17ad2c72",
   "metadata": {},
   "outputs": [],
   "source": [
    "def noder(state: Input) -> State12:\n",
    "    print(\"r\")\n",
    "    state1 = State1(var1 = state[\"input\"] + \" 1\")\n",
    "    state2 = State2(var2 = state[\"input\"] + \" 2\")\n",
    "\n",
    "    return {\"state1\": state1, \"state2\": state2}\n",
    "\n",
    "def nodes(state: State12) -> list[State3, State4, Output]:\n",
    "    print(\"s\")\n",
    "    state3 = {\"var3\": state[\"state1\"][\"var1\"] + \" 3\"}\n",
    "    state4 = {\"var4\": state[\"state2\"][\"var2\"] + \" 4\"}\n",
    "    output = {\"output\" : \"output\"}\n",
    "    \n",
    "    return [state3, state4, output]\n",
    "\n",
    "builder4.add_node(\"noder\", noder)\n",
    "builder4.add_node(\"nodes\", nodes)\n",
    "\n",
    "builder4.add_edge(START, \"noder\")\n",
    "builder4.add_edge(\"noder\", \"nodes\")\n",
    "builder4.add_edge(\"nodes\", END)\n",
    "\n",
    "graph4 = builder4.compile()"
   ]
  },
  {
   "cell_type": "code",
   "execution_count": 112,
   "id": "72840bee",
   "metadata": {},
   "outputs": [
    {
     "name": "stdout",
     "output_type": "stream",
     "text": [
      "r\n",
      "s\n"
     ]
    },
    {
     "ename": "InvalidUpdateError",
     "evalue": "Expected dict, got [{'var3': 'Hi 1 3'}, {'var4': 'Hi 2 4'}, {'output': 'output'}]\nFor troubleshooting, visit: https://python.langchain.com/docs/troubleshooting/errors/INVALID_GRAPH_NODE_RETURN_VALUE",
     "output_type": "error",
     "traceback": [
      "\u001b[1;31m---------------------------------------------------------------------------\u001b[0m",
      "\u001b[1;31mInvalidUpdateError\u001b[0m                        Traceback (most recent call last)",
      "Cell \u001b[1;32mIn[112], line 1\u001b[0m\n\u001b[1;32m----> 1\u001b[0m \u001b[43mgraph4\u001b[49m\u001b[38;5;241;43m.\u001b[39;49m\u001b[43minvoke\u001b[49m\u001b[43m(\u001b[49m\u001b[43m{\u001b[49m\u001b[38;5;124;43m\"\u001b[39;49m\u001b[38;5;124;43minput\u001b[39;49m\u001b[38;5;124;43m\"\u001b[39;49m\u001b[43m \u001b[49m\u001b[43m:\u001b[49m\u001b[43m \u001b[49m\u001b[38;5;124;43m\"\u001b[39;49m\u001b[38;5;124;43mHi\u001b[39;49m\u001b[38;5;124;43m\"\u001b[39;49m\u001b[43m}\u001b[49m\u001b[43m)\u001b[49m\n",
      "File \u001b[1;32md:\\GenAI\\Langchain\\Langchain\\lenv\\lib\\site-packages\\langgraph\\pregel\\__init__.py:2717\u001b[0m, in \u001b[0;36mPregel.invoke\u001b[1;34m(self, input, config, stream_mode, output_keys, interrupt_before, interrupt_after, checkpoint_during, debug, **kwargs)\u001b[0m\n\u001b[0;32m   2715\u001b[0m \u001b[38;5;28;01melse\u001b[39;00m:\n\u001b[0;32m   2716\u001b[0m     chunks \u001b[38;5;241m=\u001b[39m []\n\u001b[1;32m-> 2717\u001b[0m \u001b[38;5;28;01mfor\u001b[39;00m chunk \u001b[38;5;129;01min\u001b[39;00m \u001b[38;5;28mself\u001b[39m\u001b[38;5;241m.\u001b[39mstream(\n\u001b[0;32m   2718\u001b[0m     \u001b[38;5;28minput\u001b[39m,\n\u001b[0;32m   2719\u001b[0m     config,\n\u001b[0;32m   2720\u001b[0m     stream_mode\u001b[38;5;241m=\u001b[39mstream_mode,\n\u001b[0;32m   2721\u001b[0m     output_keys\u001b[38;5;241m=\u001b[39moutput_keys,\n\u001b[0;32m   2722\u001b[0m     interrupt_before\u001b[38;5;241m=\u001b[39minterrupt_before,\n\u001b[0;32m   2723\u001b[0m     interrupt_after\u001b[38;5;241m=\u001b[39minterrupt_after,\n\u001b[0;32m   2724\u001b[0m     checkpoint_during\u001b[38;5;241m=\u001b[39mcheckpoint_during,\n\u001b[0;32m   2725\u001b[0m     debug\u001b[38;5;241m=\u001b[39mdebug,\n\u001b[0;32m   2726\u001b[0m     \u001b[38;5;241m*\u001b[39m\u001b[38;5;241m*\u001b[39mkwargs,\n\u001b[0;32m   2727\u001b[0m ):\n\u001b[0;32m   2728\u001b[0m     \u001b[38;5;28;01mif\u001b[39;00m stream_mode \u001b[38;5;241m==\u001b[39m \u001b[38;5;124m\"\u001b[39m\u001b[38;5;124mvalues\u001b[39m\u001b[38;5;124m\"\u001b[39m:\n\u001b[0;32m   2729\u001b[0m         latest \u001b[38;5;241m=\u001b[39m chunk\n",
      "File \u001b[1;32md:\\GenAI\\Langchain\\Langchain\\lenv\\lib\\site-packages\\langgraph\\pregel\\__init__.py:2356\u001b[0m, in \u001b[0;36mPregel.stream\u001b[1;34m(self, input, config, stream_mode, output_keys, interrupt_before, interrupt_after, checkpoint_during, debug, subgraphs)\u001b[0m\n\u001b[0;32m   2350\u001b[0m     \u001b[38;5;66;03m# Similarly to Bulk Synchronous Parallel / Pregel model\u001b[39;00m\n\u001b[0;32m   2351\u001b[0m     \u001b[38;5;66;03m# computation proceeds in steps, while there are channel updates.\u001b[39;00m\n\u001b[0;32m   2352\u001b[0m     \u001b[38;5;66;03m# Channel updates from step N are only visible in step N+1\u001b[39;00m\n\u001b[0;32m   2353\u001b[0m     \u001b[38;5;66;03m# channels are guaranteed to be immutable for the duration of the step,\u001b[39;00m\n\u001b[0;32m   2354\u001b[0m     \u001b[38;5;66;03m# with channel updates applied only at the transition between steps.\u001b[39;00m\n\u001b[0;32m   2355\u001b[0m     \u001b[38;5;28;01mwhile\u001b[39;00m loop\u001b[38;5;241m.\u001b[39mtick(input_keys\u001b[38;5;241m=\u001b[39m\u001b[38;5;28mself\u001b[39m\u001b[38;5;241m.\u001b[39minput_channels):\n\u001b[1;32m-> 2356\u001b[0m         \u001b[38;5;28;01mfor\u001b[39;00m _ \u001b[38;5;129;01min\u001b[39;00m runner\u001b[38;5;241m.\u001b[39mtick(\n\u001b[0;32m   2357\u001b[0m             loop\u001b[38;5;241m.\u001b[39mtasks\u001b[38;5;241m.\u001b[39mvalues(),\n\u001b[0;32m   2358\u001b[0m             timeout\u001b[38;5;241m=\u001b[39m\u001b[38;5;28mself\u001b[39m\u001b[38;5;241m.\u001b[39mstep_timeout,\n\u001b[0;32m   2359\u001b[0m             retry_policy\u001b[38;5;241m=\u001b[39m\u001b[38;5;28mself\u001b[39m\u001b[38;5;241m.\u001b[39mretry_policy,\n\u001b[0;32m   2360\u001b[0m             get_waiter\u001b[38;5;241m=\u001b[39mget_waiter,\n\u001b[0;32m   2361\u001b[0m         ):\n\u001b[0;32m   2362\u001b[0m             \u001b[38;5;66;03m# emit output\u001b[39;00m\n\u001b[0;32m   2363\u001b[0m             \u001b[38;5;28;01myield from\u001b[39;00m output()\n\u001b[0;32m   2364\u001b[0m \u001b[38;5;66;03m# emit output\u001b[39;00m\n",
      "File \u001b[1;32md:\\GenAI\\Langchain\\Langchain\\lenv\\lib\\site-packages\\langgraph\\pregel\\runner.py:158\u001b[0m, in \u001b[0;36mPregelRunner.tick\u001b[1;34m(self, tasks, reraise, timeout, retry_policy, get_waiter)\u001b[0m\n\u001b[0;32m    156\u001b[0m t \u001b[38;5;241m=\u001b[39m tasks[\u001b[38;5;241m0\u001b[39m]\n\u001b[0;32m    157\u001b[0m \u001b[38;5;28;01mtry\u001b[39;00m:\n\u001b[1;32m--> 158\u001b[0m     \u001b[43mrun_with_retry\u001b[49m\u001b[43m(\u001b[49m\n\u001b[0;32m    159\u001b[0m \u001b[43m        \u001b[49m\u001b[43mt\u001b[49m\u001b[43m,\u001b[49m\n\u001b[0;32m    160\u001b[0m \u001b[43m        \u001b[49m\u001b[43mretry_policy\u001b[49m\u001b[43m,\u001b[49m\n\u001b[0;32m    161\u001b[0m \u001b[43m        \u001b[49m\u001b[43mconfigurable\u001b[49m\u001b[38;5;241;43m=\u001b[39;49m\u001b[43m{\u001b[49m\n\u001b[0;32m    162\u001b[0m \u001b[43m            \u001b[49m\u001b[43mCONFIG_KEY_CALL\u001b[49m\u001b[43m:\u001b[49m\u001b[43m \u001b[49m\u001b[43mpartial\u001b[49m\u001b[43m(\u001b[49m\n\u001b[0;32m    163\u001b[0m \u001b[43m                \u001b[49m\u001b[43m_call\u001b[49m\u001b[43m,\u001b[49m\n\u001b[0;32m    164\u001b[0m \u001b[43m                \u001b[49m\u001b[43mweakref\u001b[49m\u001b[38;5;241;43m.\u001b[39;49m\u001b[43mref\u001b[49m\u001b[43m(\u001b[49m\u001b[43mt\u001b[49m\u001b[43m)\u001b[49m\u001b[43m,\u001b[49m\n\u001b[0;32m    165\u001b[0m \u001b[43m                \u001b[49m\u001b[43mretry\u001b[49m\u001b[38;5;241;43m=\u001b[39;49m\u001b[43mretry_policy\u001b[49m\u001b[43m,\u001b[49m\n\u001b[0;32m    166\u001b[0m \u001b[43m                \u001b[49m\u001b[43mfutures\u001b[49m\u001b[38;5;241;43m=\u001b[39;49m\u001b[43mweakref\u001b[49m\u001b[38;5;241;43m.\u001b[39;49m\u001b[43mref\u001b[49m\u001b[43m(\u001b[49m\u001b[43mfutures\u001b[49m\u001b[43m)\u001b[49m\u001b[43m,\u001b[49m\n\u001b[0;32m    167\u001b[0m \u001b[43m                \u001b[49m\u001b[43mschedule_task\u001b[49m\u001b[38;5;241;43m=\u001b[39;49m\u001b[38;5;28;43mself\u001b[39;49m\u001b[38;5;241;43m.\u001b[39;49m\u001b[43mschedule_task\u001b[49m\u001b[43m,\u001b[49m\n\u001b[0;32m    168\u001b[0m \u001b[43m                \u001b[49m\u001b[43msubmit\u001b[49m\u001b[38;5;241;43m=\u001b[39;49m\u001b[38;5;28;43mself\u001b[39;49m\u001b[38;5;241;43m.\u001b[39;49m\u001b[43msubmit\u001b[49m\u001b[43m,\u001b[49m\n\u001b[0;32m    169\u001b[0m \u001b[43m                \u001b[49m\u001b[43mreraise\u001b[49m\u001b[38;5;241;43m=\u001b[39;49m\u001b[43mreraise\u001b[49m\u001b[43m,\u001b[49m\n\u001b[0;32m    170\u001b[0m \u001b[43m            \u001b[49m\u001b[43m)\u001b[49m\u001b[43m,\u001b[49m\n\u001b[0;32m    171\u001b[0m \u001b[43m        \u001b[49m\u001b[43m}\u001b[49m\u001b[43m,\u001b[49m\n\u001b[0;32m    172\u001b[0m \u001b[43m    \u001b[49m\u001b[43m)\u001b[49m\n\u001b[0;32m    173\u001b[0m     \u001b[38;5;28mself\u001b[39m\u001b[38;5;241m.\u001b[39mcommit(t, \u001b[38;5;28;01mNone\u001b[39;00m)\n\u001b[0;32m    174\u001b[0m \u001b[38;5;28;01mexcept\u001b[39;00m \u001b[38;5;167;01mException\u001b[39;00m \u001b[38;5;28;01mas\u001b[39;00m exc:\n",
      "File \u001b[1;32md:\\GenAI\\Langchain\\Langchain\\lenv\\lib\\site-packages\\langgraph\\pregel\\retry.py:39\u001b[0m, in \u001b[0;36mrun_with_retry\u001b[1;34m(task, retry_policy, configurable)\u001b[0m\n\u001b[0;32m     37\u001b[0m     task\u001b[38;5;241m.\u001b[39mwrites\u001b[38;5;241m.\u001b[39mclear()\n\u001b[0;32m     38\u001b[0m     \u001b[38;5;66;03m# run the task\u001b[39;00m\n\u001b[1;32m---> 39\u001b[0m     \u001b[38;5;28;01mreturn\u001b[39;00m \u001b[43mtask\u001b[49m\u001b[38;5;241;43m.\u001b[39;49m\u001b[43mproc\u001b[49m\u001b[38;5;241;43m.\u001b[39;49m\u001b[43minvoke\u001b[49m\u001b[43m(\u001b[49m\u001b[43mtask\u001b[49m\u001b[38;5;241;43m.\u001b[39;49m\u001b[43minput\u001b[49m\u001b[43m,\u001b[49m\u001b[43m \u001b[49m\u001b[43mconfig\u001b[49m\u001b[43m)\u001b[49m\n\u001b[0;32m     40\u001b[0m \u001b[38;5;28;01mexcept\u001b[39;00m ParentCommand \u001b[38;5;28;01mas\u001b[39;00m exc:\n\u001b[0;32m     41\u001b[0m     ns: \u001b[38;5;28mstr\u001b[39m \u001b[38;5;241m=\u001b[39m config[CONF][CONFIG_KEY_CHECKPOINT_NS]\n",
      "File \u001b[1;32md:\\GenAI\\Langchain\\Langchain\\lenv\\lib\\site-packages\\langgraph\\utils\\runnable.py:612\u001b[0m, in \u001b[0;36mRunnableSeq.invoke\u001b[1;34m(self, input, config, **kwargs)\u001b[0m\n\u001b[0;32m    610\u001b[0m             \u001b[38;5;28minput\u001b[39m \u001b[38;5;241m=\u001b[39m step\u001b[38;5;241m.\u001b[39minvoke(\u001b[38;5;28minput\u001b[39m, config, \u001b[38;5;241m*\u001b[39m\u001b[38;5;241m*\u001b[39mkwargs)\n\u001b[0;32m    611\u001b[0m         \u001b[38;5;28;01melse\u001b[39;00m:\n\u001b[1;32m--> 612\u001b[0m             \u001b[38;5;28minput\u001b[39m \u001b[38;5;241m=\u001b[39m \u001b[43mstep\u001b[49m\u001b[38;5;241;43m.\u001b[39;49m\u001b[43minvoke\u001b[49m\u001b[43m(\u001b[49m\u001b[38;5;28;43minput\u001b[39;49m\u001b[43m,\u001b[49m\u001b[43m \u001b[49m\u001b[43mconfig\u001b[49m\u001b[43m)\u001b[49m\n\u001b[0;32m    613\u001b[0m \u001b[38;5;66;03m# finish the root run\u001b[39;00m\n\u001b[0;32m    614\u001b[0m \u001b[38;5;28;01mexcept\u001b[39;00m \u001b[38;5;167;01mBaseException\u001b[39;00m \u001b[38;5;28;01mas\u001b[39;00m e:\n",
      "File \u001b[1;32md:\\GenAI\\Langchain\\Langchain\\lenv\\lib\\site-packages\\langgraph\\utils\\runnable.py:367\u001b[0m, in \u001b[0;36mRunnableCallable.invoke\u001b[1;34m(self, input, config, **kwargs)\u001b[0m\n\u001b[0;32m    365\u001b[0m     child_config \u001b[38;5;241m=\u001b[39m patch_config(config, callbacks\u001b[38;5;241m=\u001b[39mrun_manager\u001b[38;5;241m.\u001b[39mget_child())\n\u001b[0;32m    366\u001b[0m     \u001b[38;5;28;01mwith\u001b[39;00m set_config_context(child_config) \u001b[38;5;28;01mas\u001b[39;00m context:\n\u001b[1;32m--> 367\u001b[0m         ret \u001b[38;5;241m=\u001b[39m context\u001b[38;5;241m.\u001b[39mrun(\u001b[38;5;28mself\u001b[39m\u001b[38;5;241m.\u001b[39mfunc, \u001b[38;5;241m*\u001b[39margs, \u001b[38;5;241m*\u001b[39m\u001b[38;5;241m*\u001b[39mkwargs)\n\u001b[0;32m    368\u001b[0m \u001b[38;5;28;01mexcept\u001b[39;00m \u001b[38;5;167;01mBaseException\u001b[39;00m \u001b[38;5;28;01mas\u001b[39;00m e:\n\u001b[0;32m    369\u001b[0m     run_manager\u001b[38;5;241m.\u001b[39mon_chain_error(e)\n",
      "File \u001b[1;32md:\\GenAI\\Langchain\\Langchain\\lenv\\lib\\site-packages\\langgraph\\pregel\\write.py:99\u001b[0m, in \u001b[0;36mChannelWrite._write\u001b[1;34m(self, input, config)\u001b[0m\n\u001b[0;32m     90\u001b[0m \u001b[38;5;28;01mdef\u001b[39;00m\u001b[38;5;250m \u001b[39m\u001b[38;5;21m_write\u001b[39m(\u001b[38;5;28mself\u001b[39m, \u001b[38;5;28minput\u001b[39m: Any, config: RunnableConfig) \u001b[38;5;241m-\u001b[39m\u001b[38;5;241m>\u001b[39m \u001b[38;5;28;01mNone\u001b[39;00m:\n\u001b[0;32m     91\u001b[0m     writes \u001b[38;5;241m=\u001b[39m [\n\u001b[0;32m     92\u001b[0m         ChannelWriteEntry(write\u001b[38;5;241m.\u001b[39mchannel, \u001b[38;5;28minput\u001b[39m, write\u001b[38;5;241m.\u001b[39mskip_none, write\u001b[38;5;241m.\u001b[39mmapper)\n\u001b[0;32m     93\u001b[0m         \u001b[38;5;28;01mif\u001b[39;00m \u001b[38;5;28misinstance\u001b[39m(write, ChannelWriteEntry) \u001b[38;5;129;01mand\u001b[39;00m write\u001b[38;5;241m.\u001b[39mvalue \u001b[38;5;129;01mis\u001b[39;00m PASSTHROUGH\n\u001b[1;32m   (...)\u001b[0m\n\u001b[0;32m     97\u001b[0m         \u001b[38;5;28;01mfor\u001b[39;00m write \u001b[38;5;129;01min\u001b[39;00m \u001b[38;5;28mself\u001b[39m\u001b[38;5;241m.\u001b[39mwrites\n\u001b[0;32m     98\u001b[0m     ]\n\u001b[1;32m---> 99\u001b[0m     \u001b[38;5;28;43mself\u001b[39;49m\u001b[38;5;241;43m.\u001b[39;49m\u001b[43mdo_write\u001b[49m\u001b[43m(\u001b[49m\n\u001b[0;32m    100\u001b[0m \u001b[43m        \u001b[49m\u001b[43mconfig\u001b[49m\u001b[43m,\u001b[49m\n\u001b[0;32m    101\u001b[0m \u001b[43m        \u001b[49m\u001b[43mwrites\u001b[49m\u001b[43m,\u001b[49m\n\u001b[0;32m    102\u001b[0m \u001b[43m    \u001b[49m\u001b[43m)\u001b[49m\n\u001b[0;32m    103\u001b[0m     \u001b[38;5;28;01mreturn\u001b[39;00m \u001b[38;5;28minput\u001b[39m\n",
      "File \u001b[1;32md:\\GenAI\\Langchain\\Langchain\\lenv\\lib\\site-packages\\langgraph\\pregel\\write.py:144\u001b[0m, in \u001b[0;36mChannelWrite.do_write\u001b[1;34m(config, writes, require_at_least_one_of)\u001b[0m\n\u001b[0;32m    142\u001b[0m     tuples\u001b[38;5;241m.\u001b[39mappend((TASKS, w))\n\u001b[0;32m    143\u001b[0m \u001b[38;5;28;01melif\u001b[39;00m \u001b[38;5;28misinstance\u001b[39m(w, ChannelWriteTupleEntry):\n\u001b[1;32m--> 144\u001b[0m     \u001b[38;5;28;01mif\u001b[39;00m ww \u001b[38;5;241m:=\u001b[39m \u001b[43mw\u001b[49m\u001b[38;5;241;43m.\u001b[39;49m\u001b[43mmapper\u001b[49m\u001b[43m(\u001b[49m\u001b[43mw\u001b[49m\u001b[38;5;241;43m.\u001b[39;49m\u001b[43mvalue\u001b[49m\u001b[43m)\u001b[49m:\n\u001b[0;32m    145\u001b[0m         tuples\u001b[38;5;241m.\u001b[39mextend(ww)\n\u001b[0;32m    146\u001b[0m \u001b[38;5;28;01melif\u001b[39;00m \u001b[38;5;28misinstance\u001b[39m(w, ChannelWriteEntry):\n",
      "File \u001b[1;32md:\\GenAI\\Langchain\\Langchain\\lenv\\lib\\site-packages\\langgraph\\graph\\state.py:810\u001b[0m, in \u001b[0;36mCompiledStateGraph.attach_node.<locals>._get_updates\u001b[1;34m(input)\u001b[0m\n\u001b[0;32m    805\u001b[0m \u001b[38;5;28;01melse\u001b[39;00m:\n\u001b[0;32m    806\u001b[0m     msg \u001b[38;5;241m=\u001b[39m create_error_message(\n\u001b[0;32m    807\u001b[0m         message\u001b[38;5;241m=\u001b[39m\u001b[38;5;124mf\u001b[39m\u001b[38;5;124m\"\u001b[39m\u001b[38;5;124mExpected dict, got \u001b[39m\u001b[38;5;132;01m{\u001b[39;00m\u001b[38;5;28minput\u001b[39m\u001b[38;5;132;01m}\u001b[39;00m\u001b[38;5;124m\"\u001b[39m,\n\u001b[0;32m    808\u001b[0m         error_code\u001b[38;5;241m=\u001b[39mErrorCode\u001b[38;5;241m.\u001b[39mINVALID_GRAPH_NODE_RETURN_VALUE,\n\u001b[0;32m    809\u001b[0m     )\n\u001b[1;32m--> 810\u001b[0m     \u001b[38;5;28;01mraise\u001b[39;00m InvalidUpdateError(msg)\n",
      "\u001b[1;31mInvalidUpdateError\u001b[0m: Expected dict, got [{'var3': 'Hi 1 3'}, {'var4': 'Hi 2 4'}, {'output': 'output'}]\nFor troubleshooting, visit: https://python.langchain.com/docs/troubleshooting/errors/INVALID_GRAPH_NODE_RETURN_VALUE"
     ]
    }
   ],
   "source": [
    "graph4.invoke({\"input\" : \"Hi\"})"
   ]
  },
  {
   "cell_type": "markdown",
   "id": "30776dbe",
   "metadata": {},
   "source": [
    "## **State passing through nodes**\n",
    "\n",
    "* Here, node a is connected to node b which is connected to node c\n",
    "* node a expects Input and returns State1; nodeb expects State1 and returns Overall, nodec expects State1 returns Output\n",
    "* Even though node b is connected to node c, node b returns Overall and nodec expects State1; we don't run into an error\n",
    "* State1 is already updated by node a. So, even though node c is not getting that state from it's connected node (node b) it is still able to access it\n",
    "* No matter how many nodes are connected after node c, all of them can access State 1 regardless of whether their previous connected nodes are returning that state\n",
    "* Similarly any other state which was not updated (State2, State3, ...) cannot be accessed in their subsequent nodes"
   ]
  },
  {
   "cell_type": "code",
   "execution_count": 130,
   "id": "d5b1ef9d",
   "metadata": {},
   "outputs": [],
   "source": [
    "builder5 = StateGraph(Overall, input = Input, output = Output)"
   ]
  },
  {
   "cell_type": "code",
   "execution_count": 131,
   "id": "fb495915",
   "metadata": {},
   "outputs": [],
   "source": [
    "def nodea(state: Input) -> State1:\n",
    "    print(\"a\")\n",
    "    return {\"var1\": state[\"input\"] + \" a\"}\n",
    "\n",
    "def nodeb(state: State1) -> Overall:\n",
    "    print(\"b\")\n",
    "    return {\"temp\": state[\"var1\"] + \" b\"}\n",
    "\n",
    "def nodec(state: State1) -> Output:\n",
    "    print(\"c\")\n",
    "    return {\"output\": state[\"var1\"] + \" c\"}\n",
    "\n",
    "builder5.add_node(\"nodea\", nodea)\n",
    "builder5.add_node(\"nodeb\", nodeb)\n",
    "builder5.add_node(\"nodec\", nodec)\n",
    "\n",
    "builder5.add_edge(START, \"nodea\")\n",
    "builder5.add_edge(\"nodea\", \"nodeb\")\n",
    "builder5.add_edge(\"nodeb\", \"nodec\")\n",
    "builder5.add_edge(\"nodec\", END)\n",
    "\n",
    "graph5 = builder5.compile()"
   ]
  },
  {
   "cell_type": "code",
   "execution_count": 132,
   "id": "24ee6612",
   "metadata": {},
   "outputs": [
    {
     "data": {
      "image/png": "[encoded data removed]",
      "text/plain": [
       "<IPython.core.display.Image object>"
      ]
     },
     "execution_count": 132,
     "metadata": {},
     "output_type": "execute_result"
    }
   ],
   "source": [
    "Image(graph5.get_graph().draw_mermaid_png())"
   ]
  },
  {
   "cell_type": "code",
   "execution_count": 144,
   "id": "ccdf1aa7",
   "metadata": {},
   "outputs": [
    {
     "name": "stdout",
     "output_type": "stream",
     "text": [
      "a\n",
      "b\n",
      "c\n"
     ]
    },
    {
     "data": {
      "text/plain": [
       "{'output': 'Hi a c'}"
      ]
     },
     "execution_count": 144,
     "metadata": {},
     "output_type": "execute_result"
    }
   ],
   "source": [
    "graph5.invoke({\"input\": \"Hi\"})"
   ]
  },
  {
   "cell_type": "markdown",
   "id": "e220c4c0",
   "metadata": {},
   "source": [
    "## **Conditional Edge**\n",
    "\n",
    "* Previously in graph, even though the conditional edge is connected to only node2 and output node, we got the image with the conditional edge connecting to all nodes\n",
    "* Below, with the exact same implementation, the conditional edge is connected to only node2 and output node exactly as it should be\n",
    "* The only difference is that, here, we specified the return values for the conditional edge function which returned the correct image"
   ]
  },
  {
   "cell_type": "code",
   "execution_count": 150,
   "id": "7c3a6303",
   "metadata": {},
   "outputs": [],
   "source": [
    "builder6 = StateGraph(OverallState, input=InputState, output=OutputState)"
   ]
  },
  {
   "cell_type": "code",
   "execution_count": 151,
   "id": "471d49e6",
   "metadata": {},
   "outputs": [],
   "source": [
    "import random\n",
    "from typing import Literal\n",
    "\n",
    "def node1(state: InputState) -> OverallState:\n",
    "    return {\"input\": state[\"input\"] + \" updated\", \"output\" : \"Start\"}\n",
    "\n",
    "def intermediate_update(state: OverallState) -> IntermediateState:\n",
    "    human_input_needed = random.choice([True, False])\n",
    "    inquiry = state[\"input\"] + \" \" + state[\"output\"]\n",
    "\n",
    "    return {\"need_human_input\": human_input_needed, \"inquiry\": inquiry}\n",
    "\n",
    "def node2(state: IntermediateState) -> OutputState:\n",
    "    return {\"output\": state[\"inquiry\"] + \" Human input needed\"}\n",
    "\n",
    "def output_update(state: IntermediateState) -> OutputState:\n",
    "    output = state[\"inquiry\"] + \" Human input not needed\"\n",
    "    \n",
    "    return {\"output\": output}\n",
    "\n",
    "def decide(state: IntermediateState) -> Literal[\"node2\", \"output_node\"]:\n",
    "    if state[\"need_human_input\"]:\n",
    "        return \"node2\"\n",
    "    else:\n",
    "        return \"output_node\"\n",
    "\n",
    "builder6.add_node(\"node1\", node1)\n",
    "builder6.add_node(\"decision_node\", intermediate_update)\n",
    "builder6.add_node(\"node2\", node2)\n",
    "builder6.add_node(\"output_node\", output_update)\n",
    "\n",
    "builder6.add_edge(START, \"node1\")\n",
    "builder6.add_edge(\"node1\", \"decision_node\")\n",
    "builder6.add_edge([\"output_node\", \"node2\"], END)\n",
    "\n",
    "builder6.add_conditional_edges(\"decision_node\", decide)\n",
    "\n",
    "graph6 = builder6.compile()"
   ]
  },
  {
   "cell_type": "code",
   "execution_count": 152,
   "id": "79128ad9",
   "metadata": {},
   "outputs": [
    {
     "data": {
      "image/png": "[encoded data removed]",
      "text/plain": [
       "<IPython.core.display.Image object>"
      ]
     },
     "execution_count": 152,
     "metadata": {},
     "output_type": "execute_result"
    }
   ],
   "source": [
    "Image(graph6.get_graph().draw_mermaid_png())"
   ]
  },
  {
   "cell_type": "code",
   "execution_count": 153,
   "id": "c19dcd96",
   "metadata": {},
   "outputs": [
    {
     "name": "stdout",
     "output_type": "stream",
     "text": [
      "        +-----------+             \n",
      "        | __start__ |             \n",
      "        +-----------+             \n",
      "               *                  \n",
      "               *                  \n",
      "               *                  \n",
      "          +-------+               \n",
      "          | node1 |               \n",
      "          +-------+               \n",
      "               *                  \n",
      "               *                  \n",
      "               *                  \n",
      "      +---------------+           \n",
      "      | decision_node |           \n",
      "      +---------------+           \n",
      "         ..         ..            \n",
      "       ..             ..          \n",
      "      .                 .         \n",
      "+-------+         +-------------+ \n",
      "| node2 |         | output_node | \n",
      "+-------+         +-------------+ \n",
      "         **         **            \n",
      "           **     **              \n",
      "             *   *                \n",
      "          +---------+             \n",
      "          | __end__ |             \n",
      "          +---------+             \n"
     ]
    }
   ],
   "source": [
    "print(graph6.get_graph().draw_ascii())"
   ]
  },
  {
   "cell_type": "code",
   "execution_count": 154,
   "id": "65bd2a84",
   "metadata": {},
   "outputs": [
    {
     "data": {
      "text/plain": [
       "{'output': 'Hi updated Start Human input needed'}"
      ]
     },
     "execution_count": 154,
     "metadata": {},
     "output_type": "execute_result"
    }
   ],
   "source": [
    "graph6.invoke({\"input\" : \"Hi\"})"
   ]
  },
  {
   "cell_type": "code",
   "execution_count": 155,
   "id": "8a5d2b07",
   "metadata": {},
   "outputs": [
    {
     "data": {
      "text/plain": [
       "{'output': 'Hi updated Start Human input not needed'}"
      ]
     },
     "execution_count": 155,
     "metadata": {},
     "output_type": "execute_result"
    }
   ],
   "source": [
    "graph6.invoke({\"input\" : \"Hi\"})"
   ]
  },
  {
   "cell_type": "code",
   "execution_count": 156,
   "id": "4a9cb6cf",
   "metadata": {},
   "outputs": [
    {
     "data": {
      "text/plain": [
       "{'output': 'Hi updated Start Human input needed'}"
      ]
     },
     "execution_count": 156,
     "metadata": {},
     "output_type": "execute_result"
    }
   ],
   "source": [
    "graph6.invoke({\"input\" : \"Hi\"})"
   ]
  },
  {
   "cell_type": "code",
   "execution_count": 157,
   "id": "78f1a6d1",
   "metadata": {},
   "outputs": [
    {
     "data": {
      "text/plain": [
       "{'output': 'Hi updated Start Human input not needed'}"
      ]
     },
     "execution_count": 157,
     "metadata": {},
     "output_type": "execute_result"
    }
   ],
   "source": [
    "graph6.invoke({\"input\" : \"Hi\"})"
   ]
  },
  {
   "cell_type": "markdown",
   "id": "32b30b86",
   "metadata": {},
   "source": [
    "## **Multiple state parameters**\n",
    "\n",
    "* Each node can only take one state as parameter. We can't pass multiple state parameters.\n",
    "* If we want to be able to access multiple states in one node, we have to define and update a combined state and use that state everywhere as needed."
   ]
  },
  {
   "cell_type": "code",
   "execution_count": 164,
   "id": "b0d60bd9",
   "metadata": {},
   "outputs": [],
   "source": [
    "class State(TypedDict):\n",
    "    var1: str\n",
    "    var2: str\n",
    "    var3: str"
   ]
  },
  {
   "cell_type": "code",
   "execution_count": 185,
   "id": "f8da9b8b",
   "metadata": {},
   "outputs": [],
   "source": [
    "builder7 = StateGraph(State, input=InputState, output=OutputState)"
   ]
  },
  {
   "cell_type": "code",
   "execution_count": 186,
   "id": "4621cdf4",
   "metadata": {},
   "outputs": [],
   "source": [
    "def node1(state: InputState) -> State1:\n",
    "    return {\"var1\": state[\"input\"] + \" 1\"}\n",
    "\n",
    "def node2(state: State1) -> State2:\n",
    "    return {\"var2\": state[\"var1\"] + \" 2\"}\n",
    "\n",
    "def node3(state1: State1, state2: State2, input: InputState) -> OutputState:\n",
    "    return {\"output\" : input[\"input\"] + \" \" + state1[\"var1\"] + \" \" + state2[\"var2\"]}\n",
    "\n",
    "builder7.add_node(\"node1\", node1)\n",
    "builder7.add_node(\"node2\", node2)\n",
    "builder7.add_node(\"node3\", node3)\n",
    "\n",
    "builder7.add_edge(START, \"node1\")\n",
    "builder7.add_edge(\"node1\", \"node2\")\n",
    "builder7.add_edge(\"node2\", \"node3\")\n",
    "builder7.add_edge(\"node3\", END)\n",
    "\n",
    "graph7 = builder7.compile()"
   ]
  },
  {
   "cell_type": "code",
   "execution_count": 187,
   "id": "518cbdf4",
   "metadata": {},
   "outputs": [
    {
     "name": "stdout",
     "output_type": "stream",
     "text": [
      "+-----------+  \n",
      "| __start__ |  \n",
      "+-----------+  \n",
      "      *        \n",
      "      *        \n",
      "      *        \n",
      "  +-------+    \n",
      "  | node1 |    \n",
      "  +-------+    \n",
      "      *        \n",
      "      *        \n",
      "      *        \n",
      "  +-------+    \n",
      "  | node2 |    \n",
      "  +-------+    \n",
      "      *        \n",
      "      *        \n",
      "      *        \n",
      "  +-------+    \n",
      "  | node3 |    \n",
      "  +-------+    \n",
      "      *        \n",
      "      *        \n",
      "      *        \n",
      " +---------+   \n",
      " | __end__ |   \n",
      " +---------+   \n"
     ]
    }
   ],
   "source": [
    "print(graph7.get_graph().draw_ascii())"
   ]
  },
  {
   "cell_type": "code",
   "execution_count": 188,
   "id": "4d5ec869",
   "metadata": {},
   "outputs": [
    {
     "data": {
      "image/png": "[encoded data removed]",
      "text/plain": [
       "<IPython.core.display.Image object>"
      ]
     },
     "execution_count": 188,
     "metadata": {},
     "output_type": "execute_result"
    }
   ],
   "source": [
    "Image(graph7.get_graph().draw_mermaid_png())"
   ]
  },
  {
   "cell_type": "code",
   "execution_count": 189,
   "id": "effd7d9b",
   "metadata": {},
   "outputs": [
    {
     "ename": "TypeError",
     "evalue": "node3() missing 2 required positional arguments: 'state2' and 'input'",
     "output_type": "error",
     "traceback": [
      "\u001b[1;31m---------------------------------------------------------------------------\u001b[0m",
      "\u001b[1;31mTypeError\u001b[0m                                 Traceback (most recent call last)",
      "Cell \u001b[1;32mIn[189], line 1\u001b[0m\n\u001b[1;32m----> 1\u001b[0m \u001b[43mgraph7\u001b[49m\u001b[38;5;241;43m.\u001b[39;49m\u001b[43minvoke\u001b[49m\u001b[43m(\u001b[49m\u001b[43m{\u001b[49m\u001b[38;5;124;43m\"\u001b[39;49m\u001b[38;5;124;43minput\u001b[39;49m\u001b[38;5;124;43m\"\u001b[39;49m\u001b[43m:\u001b[49m\u001b[43m \u001b[49m\u001b[38;5;124;43m\"\u001b[39;49m\u001b[38;5;124;43mHi\u001b[39;49m\u001b[38;5;124;43m\"\u001b[39;49m\u001b[43m}\u001b[49m\u001b[43m)\u001b[49m\n",
      "File \u001b[1;32md:\\GenAI\\Langchain\\Langchain\\lenv\\lib\\site-packages\\langgraph\\pregel\\__init__.py:2717\u001b[0m, in \u001b[0;36mPregel.invoke\u001b[1;34m(self, input, config, stream_mode, output_keys, interrupt_before, interrupt_after, checkpoint_during, debug, **kwargs)\u001b[0m\n\u001b[0;32m   2715\u001b[0m \u001b[38;5;28;01melse\u001b[39;00m:\n\u001b[0;32m   2716\u001b[0m     chunks \u001b[38;5;241m=\u001b[39m []\n\u001b[1;32m-> 2717\u001b[0m \u001b[38;5;28;01mfor\u001b[39;00m chunk \u001b[38;5;129;01min\u001b[39;00m \u001b[38;5;28mself\u001b[39m\u001b[38;5;241m.\u001b[39mstream(\n\u001b[0;32m   2718\u001b[0m     \u001b[38;5;28minput\u001b[39m,\n\u001b[0;32m   2719\u001b[0m     config,\n\u001b[0;32m   2720\u001b[0m     stream_mode\u001b[38;5;241m=\u001b[39mstream_mode,\n\u001b[0;32m   2721\u001b[0m     output_keys\u001b[38;5;241m=\u001b[39moutput_keys,\n\u001b[0;32m   2722\u001b[0m     interrupt_before\u001b[38;5;241m=\u001b[39minterrupt_before,\n\u001b[0;32m   2723\u001b[0m     interrupt_after\u001b[38;5;241m=\u001b[39minterrupt_after,\n\u001b[0;32m   2724\u001b[0m     checkpoint_during\u001b[38;5;241m=\u001b[39mcheckpoint_during,\n\u001b[0;32m   2725\u001b[0m     debug\u001b[38;5;241m=\u001b[39mdebug,\n\u001b[0;32m   2726\u001b[0m     \u001b[38;5;241m*\u001b[39m\u001b[38;5;241m*\u001b[39mkwargs,\n\u001b[0;32m   2727\u001b[0m ):\n\u001b[0;32m   2728\u001b[0m     \u001b[38;5;28;01mif\u001b[39;00m stream_mode \u001b[38;5;241m==\u001b[39m \u001b[38;5;124m\"\u001b[39m\u001b[38;5;124mvalues\u001b[39m\u001b[38;5;124m\"\u001b[39m:\n\u001b[0;32m   2729\u001b[0m         latest \u001b[38;5;241m=\u001b[39m chunk\n",
      "File \u001b[1;32md:\\GenAI\\Langchain\\Langchain\\lenv\\lib\\site-packages\\langgraph\\pregel\\__init__.py:2356\u001b[0m, in \u001b[0;36mPregel.stream\u001b[1;34m(self, input, config, stream_mode, output_keys, interrupt_before, interrupt_after, checkpoint_during, debug, subgraphs)\u001b[0m\n\u001b[0;32m   2350\u001b[0m     \u001b[38;5;66;03m# Similarly to Bulk Synchronous Parallel / Pregel model\u001b[39;00m\n\u001b[0;32m   2351\u001b[0m     \u001b[38;5;66;03m# computation proceeds in steps, while there are channel updates.\u001b[39;00m\n\u001b[0;32m   2352\u001b[0m     \u001b[38;5;66;03m# Channel updates from step N are only visible in step N+1\u001b[39;00m\n\u001b[0;32m   2353\u001b[0m     \u001b[38;5;66;03m# channels are guaranteed to be immutable for the duration of the step,\u001b[39;00m\n\u001b[0;32m   2354\u001b[0m     \u001b[38;5;66;03m# with channel updates applied only at the transition between steps.\u001b[39;00m\n\u001b[0;32m   2355\u001b[0m     \u001b[38;5;28;01mwhile\u001b[39;00m loop\u001b[38;5;241m.\u001b[39mtick(input_keys\u001b[38;5;241m=\u001b[39m\u001b[38;5;28mself\u001b[39m\u001b[38;5;241m.\u001b[39minput_channels):\n\u001b[1;32m-> 2356\u001b[0m         \u001b[38;5;28;01mfor\u001b[39;00m _ \u001b[38;5;129;01min\u001b[39;00m runner\u001b[38;5;241m.\u001b[39mtick(\n\u001b[0;32m   2357\u001b[0m             loop\u001b[38;5;241m.\u001b[39mtasks\u001b[38;5;241m.\u001b[39mvalues(),\n\u001b[0;32m   2358\u001b[0m             timeout\u001b[38;5;241m=\u001b[39m\u001b[38;5;28mself\u001b[39m\u001b[38;5;241m.\u001b[39mstep_timeout,\n\u001b[0;32m   2359\u001b[0m             retry_policy\u001b[38;5;241m=\u001b[39m\u001b[38;5;28mself\u001b[39m\u001b[38;5;241m.\u001b[39mretry_policy,\n\u001b[0;32m   2360\u001b[0m             get_waiter\u001b[38;5;241m=\u001b[39mget_waiter,\n\u001b[0;32m   2361\u001b[0m         ):\n\u001b[0;32m   2362\u001b[0m             \u001b[38;5;66;03m# emit output\u001b[39;00m\n\u001b[0;32m   2363\u001b[0m             \u001b[38;5;28;01myield from\u001b[39;00m output()\n\u001b[0;32m   2364\u001b[0m \u001b[38;5;66;03m# emit output\u001b[39;00m\n",
      "File \u001b[1;32md:\\GenAI\\Langchain\\Langchain\\lenv\\lib\\site-packages\\langgraph\\pregel\\runner.py:158\u001b[0m, in \u001b[0;36mPregelRunner.tick\u001b[1;34m(self, tasks, reraise, timeout, retry_policy, get_waiter)\u001b[0m\n\u001b[0;32m    156\u001b[0m t \u001b[38;5;241m=\u001b[39m tasks[\u001b[38;5;241m0\u001b[39m]\n\u001b[0;32m    157\u001b[0m \u001b[38;5;28;01mtry\u001b[39;00m:\n\u001b[1;32m--> 158\u001b[0m     \u001b[43mrun_with_retry\u001b[49m\u001b[43m(\u001b[49m\n\u001b[0;32m    159\u001b[0m \u001b[43m        \u001b[49m\u001b[43mt\u001b[49m\u001b[43m,\u001b[49m\n\u001b[0;32m    160\u001b[0m \u001b[43m        \u001b[49m\u001b[43mretry_policy\u001b[49m\u001b[43m,\u001b[49m\n\u001b[0;32m    161\u001b[0m \u001b[43m        \u001b[49m\u001b[43mconfigurable\u001b[49m\u001b[38;5;241;43m=\u001b[39;49m\u001b[43m{\u001b[49m\n\u001b[0;32m    162\u001b[0m \u001b[43m            \u001b[49m\u001b[43mCONFIG_KEY_CALL\u001b[49m\u001b[43m:\u001b[49m\u001b[43m \u001b[49m\u001b[43mpartial\u001b[49m\u001b[43m(\u001b[49m\n\u001b[0;32m    163\u001b[0m \u001b[43m                \u001b[49m\u001b[43m_call\u001b[49m\u001b[43m,\u001b[49m\n\u001b[0;32m    164\u001b[0m \u001b[43m                \u001b[49m\u001b[43mweakref\u001b[49m\u001b[38;5;241;43m.\u001b[39;49m\u001b[43mref\u001b[49m\u001b[43m(\u001b[49m\u001b[43mt\u001b[49m\u001b[43m)\u001b[49m\u001b[43m,\u001b[49m\n\u001b[0;32m    165\u001b[0m \u001b[43m                \u001b[49m\u001b[43mretry\u001b[49m\u001b[38;5;241;43m=\u001b[39;49m\u001b[43mretry_policy\u001b[49m\u001b[43m,\u001b[49m\n\u001b[0;32m    166\u001b[0m \u001b[43m                \u001b[49m\u001b[43mfutures\u001b[49m\u001b[38;5;241;43m=\u001b[39;49m\u001b[43mweakref\u001b[49m\u001b[38;5;241;43m.\u001b[39;49m\u001b[43mref\u001b[49m\u001b[43m(\u001b[49m\u001b[43mfutures\u001b[49m\u001b[43m)\u001b[49m\u001b[43m,\u001b[49m\n\u001b[0;32m    167\u001b[0m \u001b[43m                \u001b[49m\u001b[43mschedule_task\u001b[49m\u001b[38;5;241;43m=\u001b[39;49m\u001b[38;5;28;43mself\u001b[39;49m\u001b[38;5;241;43m.\u001b[39;49m\u001b[43mschedule_task\u001b[49m\u001b[43m,\u001b[49m\n\u001b[0;32m    168\u001b[0m \u001b[43m                \u001b[49m\u001b[43msubmit\u001b[49m\u001b[38;5;241;43m=\u001b[39;49m\u001b[38;5;28;43mself\u001b[39;49m\u001b[38;5;241;43m.\u001b[39;49m\u001b[43msubmit\u001b[49m\u001b[43m,\u001b[49m\n\u001b[0;32m    169\u001b[0m \u001b[43m                \u001b[49m\u001b[43mreraise\u001b[49m\u001b[38;5;241;43m=\u001b[39;49m\u001b[43mreraise\u001b[49m\u001b[43m,\u001b[49m\n\u001b[0;32m    170\u001b[0m \u001b[43m            \u001b[49m\u001b[43m)\u001b[49m\u001b[43m,\u001b[49m\n\u001b[0;32m    171\u001b[0m \u001b[43m        \u001b[49m\u001b[43m}\u001b[49m\u001b[43m,\u001b[49m\n\u001b[0;32m    172\u001b[0m \u001b[43m    \u001b[49m\u001b[43m)\u001b[49m\n\u001b[0;32m    173\u001b[0m     \u001b[38;5;28mself\u001b[39m\u001b[38;5;241m.\u001b[39mcommit(t, \u001b[38;5;28;01mNone\u001b[39;00m)\n\u001b[0;32m    174\u001b[0m \u001b[38;5;28;01mexcept\u001b[39;00m \u001b[38;5;167;01mException\u001b[39;00m \u001b[38;5;28;01mas\u001b[39;00m exc:\n",
      "File \u001b[1;32md:\\GenAI\\Langchain\\Langchain\\lenv\\lib\\site-packages\\langgraph\\pregel\\retry.py:39\u001b[0m, in \u001b[0;36mrun_with_retry\u001b[1;34m(task, retry_policy, configurable)\u001b[0m\n\u001b[0;32m     37\u001b[0m     task\u001b[38;5;241m.\u001b[39mwrites\u001b[38;5;241m.\u001b[39mclear()\n\u001b[0;32m     38\u001b[0m     \u001b[38;5;66;03m# run the task\u001b[39;00m\n\u001b[1;32m---> 39\u001b[0m     \u001b[38;5;28;01mreturn\u001b[39;00m \u001b[43mtask\u001b[49m\u001b[38;5;241;43m.\u001b[39;49m\u001b[43mproc\u001b[49m\u001b[38;5;241;43m.\u001b[39;49m\u001b[43minvoke\u001b[49m\u001b[43m(\u001b[49m\u001b[43mtask\u001b[49m\u001b[38;5;241;43m.\u001b[39;49m\u001b[43minput\u001b[49m\u001b[43m,\u001b[49m\u001b[43m \u001b[49m\u001b[43mconfig\u001b[49m\u001b[43m)\u001b[49m\n\u001b[0;32m     40\u001b[0m \u001b[38;5;28;01mexcept\u001b[39;00m ParentCommand \u001b[38;5;28;01mas\u001b[39;00m exc:\n\u001b[0;32m     41\u001b[0m     ns: \u001b[38;5;28mstr\u001b[39m \u001b[38;5;241m=\u001b[39m config[CONF][CONFIG_KEY_CHECKPOINT_NS]\n",
      "File \u001b[1;32md:\\GenAI\\Langchain\\Langchain\\lenv\\lib\\site-packages\\langgraph\\utils\\runnable.py:610\u001b[0m, in \u001b[0;36mRunnableSeq.invoke\u001b[1;34m(self, input, config, **kwargs)\u001b[0m\n\u001b[0;32m    606\u001b[0m config \u001b[38;5;241m=\u001b[39m patch_config(\n\u001b[0;32m    607\u001b[0m     config, callbacks\u001b[38;5;241m=\u001b[39mrun_manager\u001b[38;5;241m.\u001b[39mget_child(\u001b[38;5;124mf\u001b[39m\u001b[38;5;124m\"\u001b[39m\u001b[38;5;124mseq:step:\u001b[39m\u001b[38;5;132;01m{\u001b[39;00mi\u001b[38;5;250m \u001b[39m\u001b[38;5;241m+\u001b[39m\u001b[38;5;250m \u001b[39m\u001b[38;5;241m1\u001b[39m\u001b[38;5;132;01m}\u001b[39;00m\u001b[38;5;124m\"\u001b[39m)\n\u001b[0;32m    608\u001b[0m )\n\u001b[0;32m    609\u001b[0m \u001b[38;5;28;01mif\u001b[39;00m i \u001b[38;5;241m==\u001b[39m \u001b[38;5;241m0\u001b[39m:\n\u001b[1;32m--> 610\u001b[0m     \u001b[38;5;28minput\u001b[39m \u001b[38;5;241m=\u001b[39m step\u001b[38;5;241m.\u001b[39minvoke(\u001b[38;5;28minput\u001b[39m, config, \u001b[38;5;241m*\u001b[39m\u001b[38;5;241m*\u001b[39mkwargs)\n\u001b[0;32m    611\u001b[0m \u001b[38;5;28;01melse\u001b[39;00m:\n\u001b[0;32m    612\u001b[0m     \u001b[38;5;28minput\u001b[39m \u001b[38;5;241m=\u001b[39m step\u001b[38;5;241m.\u001b[39minvoke(\u001b[38;5;28minput\u001b[39m, config)\n",
      "File \u001b[1;32md:\\GenAI\\Langchain\\Langchain\\lenv\\lib\\site-packages\\langgraph\\utils\\runnable.py:375\u001b[0m, in \u001b[0;36mRunnableCallable.invoke\u001b[1;34m(self, input, config, **kwargs)\u001b[0m\n\u001b[0;32m    373\u001b[0m \u001b[38;5;28;01melse\u001b[39;00m:\n\u001b[0;32m    374\u001b[0m     \u001b[38;5;28;01mwith\u001b[39;00m set_config_context(config) \u001b[38;5;28;01mas\u001b[39;00m context:\n\u001b[1;32m--> 375\u001b[0m         ret \u001b[38;5;241m=\u001b[39m context\u001b[38;5;241m.\u001b[39mrun(\u001b[38;5;28mself\u001b[39m\u001b[38;5;241m.\u001b[39mfunc, \u001b[38;5;241m*\u001b[39margs, \u001b[38;5;241m*\u001b[39m\u001b[38;5;241m*\u001b[39mkwargs)\n\u001b[0;32m    376\u001b[0m \u001b[38;5;28;01mif\u001b[39;00m \u001b[38;5;28misinstance\u001b[39m(ret, Runnable) \u001b[38;5;129;01mand\u001b[39;00m \u001b[38;5;28mself\u001b[39m\u001b[38;5;241m.\u001b[39mrecurse:\n\u001b[0;32m    377\u001b[0m     \u001b[38;5;28;01mreturn\u001b[39;00m ret\u001b[38;5;241m.\u001b[39minvoke(\u001b[38;5;28minput\u001b[39m, config)\n",
      "\u001b[1;31mTypeError\u001b[0m: node3() missing 2 required positional arguments: 'state2' and 'input'"
     ]
    }
   ],
   "source": [
    "graph7.invoke({\"input\": \"Hi\"})"
   ]
  },
  {
   "cell_type": "markdown",
   "id": "833c386b",
   "metadata": {},
   "source": [
    "## **Updating multiple states**\n",
    "\n",
    "* We can update multiple states in one node in the following way\n",
    "* Even if the return type of the node2 is set to state2, we are updating a variable not present in state2\n",
    "* As we can see from the debug information, as long as we specify a key of any state regardless of the return type of the node, the state will be updated"
   ]
  },
  {
   "cell_type": "code",
   "execution_count": 2,
   "id": "30278fa3",
   "metadata": {},
   "outputs": [],
   "source": [
    "from typing import TypedDict\n",
    "from langgraph.graph import StateGraph, START, END"
   ]
  },
  {
   "cell_type": "code",
   "execution_count": 3,
   "id": "0388eb01",
   "metadata": {},
   "outputs": [],
   "source": [
    "class State1(TypedDict):\n",
    "    var1: str\n",
    "\n",
    "class State2(TypedDict):\n",
    "    var2: str\n",
    "\n",
    "class State3(TypedDict):\n",
    "    var3: str"
   ]
  },
  {
   "cell_type": "code",
   "execution_count": 8,
   "id": "2e9a710e",
   "metadata": {},
   "outputs": [],
   "source": [
    "builder8 = StateGraph(State2, input=State1, output=State3)\n",
    "\n",
    "def node1(state: State1) -> State2:\n",
    "    return {\"var2\": state[\"var1\"] + \"2\"}\n",
    "\n",
    "def node2(state: State2) -> State2:\n",
    "    return {\"var2\": state[\"var2\"] + \"3\", \"var1\": state[\"var2\"] + \"4\"}\n",
    "\n",
    "def node3(state: State2) -> State2:\n",
    "    return {\"var2\": state[\"var2\"] + \"5\"}\n",
    "\n",
    "def node4(state: State1) -> State3:\n",
    "    return {\"var3\": state[\"var1\"] + \"6\"}\n",
    "\n",
    "builder8.add_node(\"node1\", node1)\n",
    "builder8.add_node(\"node2\", node2)\n",
    "builder8.add_node(\"node3\", node3)\n",
    "builder8.add_node(\"node4\", node4)\n",
    "\n",
    "builder8.add_edge(START, \"node1\")\n",
    "builder8.add_edge(\"node1\", \"node2\")\n",
    "builder8.add_edge(\"node2\", \"node3\")\n",
    "builder8.add_edge(\"node3\", \"node4\")\n",
    "builder8.add_edge(\"node4\", END)\n",
    "\n",
    "graph8 = builder8.compile()"
   ]
  },
  {
   "cell_type": "code",
   "execution_count": 9,
   "id": "c0115d6d",
   "metadata": {},
   "outputs": [
    {
     "name": "stdout",
     "output_type": "stream",
     "text": [
      "+-----------+  \n",
      "| __start__ |  \n",
      "+-----------+  \n",
      "      *        \n",
      "      *        \n",
      "      *        \n",
      "  +-------+    \n",
      "  | node1 |    \n",
      "  +-------+    \n",
      "      *        \n",
      "      *        \n",
      "      *        \n",
      "  +-------+    \n",
      "  | node2 |    \n",
      "  +-------+    \n",
      "      *        \n",
      "      *        \n",
      "      *        \n",
      "  +-------+    \n",
      "  | node3 |    \n",
      "  +-------+    \n",
      "      *        \n",
      "      *        \n",
      "      *        \n",
      "  +-------+    \n",
      "  | node4 |    \n",
      "  +-------+    \n",
      "      *        \n",
      "      *        \n",
      "      *        \n",
      " +---------+   \n",
      " | __end__ |   \n",
      " +---------+   \n"
     ]
    }
   ],
   "source": [
    "print(graph8.get_graph().draw_ascii())"
   ]
  },
  {
   "cell_type": "code",
   "execution_count": 10,
   "id": "64d3e731",
   "metadata": {},
   "outputs": [
    {
     "data": {
      "image/png": "[encoded data removed]",
      "text/plain": [
       "<IPython.core.display.Image object>"
      ]
     },
     "execution_count": 10,
     "metadata": {},
     "output_type": "execute_result"
    }
   ],
   "source": [
    "from IPython.display import Image\n",
    "\n",
    "Image(graph8.get_graph().draw_mermaid_png())"
   ]
  },
  {
   "cell_type": "code",
   "execution_count": 11,
   "id": "fa214860",
   "metadata": {},
   "outputs": [
    {
     "data": {
      "text/plain": [
       "{'var3': '1246'}"
      ]
     },
     "execution_count": 11,
     "metadata": {},
     "output_type": "execute_result"
    }
   ],
   "source": [
    "graph8.invoke({\"var1\" : \"1\"})"
   ]
  },
  {
   "cell_type": "code",
   "execution_count": 19,
   "id": "1d5643ee",
   "metadata": {},
   "outputs": [],
   "source": [
    "graph8.debug = True"
   ]
  },
  {
   "cell_type": "code",
   "execution_count": 20,
   "id": "8da033df",
   "metadata": {},
   "outputs": [
    {
     "name": "stdout",
     "output_type": "stream",
     "text": [
      "\u001b[36;1m\u001b[1;3m[-1:checkpoint]\u001b[0m \u001b[1mState at the end of step -1:\n",
      "\u001b[0m{}\n",
      "\u001b[36;1m\u001b[1;3m[0:tasks]\u001b[0m \u001b[1mStarting 1 task for step 0:\n",
      "\u001b[0m- \u001b[32;1m\u001b[1;3m__start__\u001b[0m -> {'var1': '1'}\n",
      "\u001b[36;1m\u001b[1;3m[0:writes]\u001b[0m \u001b[1mFinished step 0 with writes to 1 channel:\n",
      "\u001b[0m- \u001b[33;1m\u001b[1;3mvar1\u001b[0m -> '1'\n",
      "\u001b[36;1m\u001b[1;3m[0:checkpoint]\u001b[0m \u001b[1mState at the end of step 0:\n",
      "\u001b[0m{'var1': '1'}\n",
      "\u001b[36;1m\u001b[1;3m[1:tasks]\u001b[0m \u001b[1mStarting 1 task for step 1:\n",
      "\u001b[0m- \u001b[32;1m\u001b[1;3mnode1\u001b[0m -> {'var1': '1'}\n",
      "\u001b[36;1m\u001b[1;3m[1:writes]\u001b[0m \u001b[1mFinished step 1 with writes to 1 channel:\n",
      "\u001b[0m- \u001b[33;1m\u001b[1;3mvar2\u001b[0m -> '12'\n",
      "\u001b[36;1m\u001b[1;3m[1:checkpoint]\u001b[0m \u001b[1mState at the end of step 1:\n",
      "\u001b[0m{'var1': '1', 'var2': '12'}\n",
      "\u001b[36;1m\u001b[1;3m[2:tasks]\u001b[0m \u001b[1mStarting 1 task for step 2:\n",
      "\u001b[0m- \u001b[32;1m\u001b[1;3mnode2\u001b[0m -> {'var2': '12'}\n",
      "\u001b[36;1m\u001b[1;3m[2:writes]\u001b[0m \u001b[1mFinished step 2 with writes to 2 channels:\n",
      "\u001b[0m- \u001b[33;1m\u001b[1;3mvar2\u001b[0m -> '123'\n",
      "- \u001b[33;1m\u001b[1;3mvar1\u001b[0m -> '124'\n",
      "\u001b[36;1m\u001b[1;3m[2:checkpoint]\u001b[0m \u001b[1mState at the end of step 2:\n",
      "\u001b[0m{'var1': '124', 'var2': '123'}\n",
      "\u001b[36;1m\u001b[1;3m[3:tasks]\u001b[0m \u001b[1mStarting 1 task for step 3:\n",
      "\u001b[0m- \u001b[32;1m\u001b[1;3mnode3\u001b[0m -> {'var2': '123'}\n",
      "\u001b[36;1m\u001b[1;3m[3:writes]\u001b[0m \u001b[1mFinished step 3 with writes to 1 channel:\n",
      "\u001b[0m- \u001b[33;1m\u001b[1;3mvar2\u001b[0m -> '1235'\n",
      "\u001b[36;1m\u001b[1;3m[3:checkpoint]\u001b[0m \u001b[1mState at the end of step 3:\n",
      "\u001b[0m{'var1': '124', 'var2': '1235'}\n",
      "\u001b[36;1m\u001b[1;3m[4:tasks]\u001b[0m \u001b[1mStarting 1 task for step 4:\n",
      "\u001b[0m- \u001b[32;1m\u001b[1;3mnode4\u001b[0m -> {'var1': '124'}\n",
      "\u001b[36;1m\u001b[1;3m[4:writes]\u001b[0m \u001b[1mFinished step 4 with writes to 1 channel:\n",
      "\u001b[0m- \u001b[33;1m\u001b[1;3mvar3\u001b[0m -> '1246'\n",
      "\u001b[36;1m\u001b[1;3m[4:checkpoint]\u001b[0m \u001b[1mState at the end of step 4:\n",
      "\u001b[0m{'var1': '124', 'var2': '1235', 'var3': '1246'}\n"
     ]
    },
    {
     "data": {
      "text/plain": [
       "{'var3': '1246'}"
      ]
     },
     "execution_count": 20,
     "metadata": {},
     "output_type": "execute_result"
    }
   ],
   "source": [
    "graph8.invoke({\"var1\" : \"1\"})"
   ]
  },
  {
   "cell_type": "markdown",
   "id": "59144b84",
   "metadata": {},
   "source": [
    "## **Accessing multiple state variables**\n",
    "\n",
    "* As updating multiple states in a single node worked, verifying if accessing multiple state variables also works\n",
    "* We can only access the variables of the state that was passed as the parameter. Variables of other states cannot be accessed"
   ]
  },
  {
   "cell_type": "code",
   "execution_count": 4,
   "id": "577c9920",
   "metadata": {},
   "outputs": [],
   "source": [
    "builder9 = StateGraph(State2, input=State1, output=State3)\n",
    "\n",
    "def node1(state: State1) -> State2:\n",
    "    return {\"var2\": state[\"var1\"] + \"2\"}\n",
    "\n",
    "def node2(state: State2) -> State2:\n",
    "    return {\"var2\": state[\"var2\"] + state[\"var1\"] + \"3\", \"var1\": state[\"var2\"] + \"4\"}\n",
    "\n",
    "def node3(state: State2) -> State2:\n",
    "    return {\"var2\": state[\"var2\"] + \"5\"}\n",
    "\n",
    "def node4(state: State1) -> State3:\n",
    "    return {\"var3\": state[\"var1\"] + \"6\"}\n",
    "\n",
    "builder9.add_node(\"node1\", node1)\n",
    "builder9.add_node(\"node2\", node2)\n",
    "builder9.add_node(\"node3\", node3)\n",
    "builder9.add_node(\"node4\", node4)\n",
    "\n",
    "builder9.add_edge(START, \"node1\")\n",
    "builder9.add_edge(\"node1\", \"node2\")\n",
    "builder9.add_edge(\"node2\", \"node3\")\n",
    "builder9.add_edge(\"node3\", \"node4\")\n",
    "builder9.add_edge(\"node4\", END)\n",
    "\n",
    "graph9 = builder9.compile()\n",
    "graph9.debug = True"
   ]
  },
  {
   "cell_type": "code",
   "execution_count": 5,
   "id": "42282c68",
   "metadata": {},
   "outputs": [
    {
     "name": "stdout",
     "output_type": "stream",
     "text": [
      "\u001b[36;1m\u001b[1;3m[-1:checkpoint]\u001b[0m \u001b[1mState at the end of step -1:\n",
      "\u001b[0m{}\n",
      "\u001b[36;1m\u001b[1;3m[0:tasks]\u001b[0m \u001b[1mStarting 1 task for step 0:\n",
      "\u001b[0m- \u001b[32;1m\u001b[1;3m__start__\u001b[0m -> {'var1': '1'}\n",
      "\u001b[36;1m\u001b[1;3m[0:writes]\u001b[0m \u001b[1mFinished step 0 with writes to 1 channel:\n",
      "\u001b[0m- \u001b[33;1m\u001b[1;3mvar1\u001b[0m -> '1'\n",
      "\u001b[36;1m\u001b[1;3m[0:checkpoint]\u001b[0m \u001b[1mState at the end of step 0:\n",
      "\u001b[0m{'var1': '1'}\n",
      "\u001b[36;1m\u001b[1;3m[1:tasks]\u001b[0m \u001b[1mStarting 1 task for step 1:\n",
      "\u001b[0m- \u001b[32;1m\u001b[1;3mnode1\u001b[0m -> {'var1': '1'}\n",
      "\u001b[36;1m\u001b[1;3m[1:writes]\u001b[0m \u001b[1mFinished step 1 with writes to 1 channel:\n",
      "\u001b[0m- \u001b[33;1m\u001b[1;3mvar2\u001b[0m -> '12'\n",
      "\u001b[36;1m\u001b[1;3m[1:checkpoint]\u001b[0m \u001b[1mState at the end of step 1:\n",
      "\u001b[0m{'var1': '1', 'var2': '12'}\n",
      "\u001b[36;1m\u001b[1;3m[2:tasks]\u001b[0m \u001b[1mStarting 1 task for step 2:\n",
      "\u001b[0m- \u001b[32;1m\u001b[1;3mnode2\u001b[0m -> {'var2': '12'}\n"
     ]
    },
    {
     "ename": "KeyError",
     "evalue": "'var1'",
     "output_type": "error",
     "traceback": [
      "\u001b[1;31m---------------------------------------------------------------------------\u001b[0m",
      "\u001b[1;31mKeyError\u001b[0m                                  Traceback (most recent call last)",
      "Cell \u001b[1;32mIn[5], line 1\u001b[0m\n\u001b[1;32m----> 1\u001b[0m \u001b[43mgraph9\u001b[49m\u001b[38;5;241;43m.\u001b[39;49m\u001b[43minvoke\u001b[49m\u001b[43m(\u001b[49m\u001b[43m{\u001b[49m\u001b[38;5;124;43m\"\u001b[39;49m\u001b[38;5;124;43mvar1\u001b[39;49m\u001b[38;5;124;43m\"\u001b[39;49m\u001b[43m:\u001b[49m\u001b[43m \u001b[49m\u001b[38;5;124;43m\"\u001b[39;49m\u001b[38;5;124;43m1\u001b[39;49m\u001b[38;5;124;43m\"\u001b[39;49m\u001b[43m}\u001b[49m\u001b[43m)\u001b[49m\n",
      "File \u001b[1;32md:\\GenAI\\Langchain\\Langchain\\lenv\\lib\\site-packages\\langgraph\\pregel\\__init__.py:2717\u001b[0m, in \u001b[0;36mPregel.invoke\u001b[1;34m(self, input, config, stream_mode, output_keys, interrupt_before, interrupt_after, checkpoint_during, debug, **kwargs)\u001b[0m\n\u001b[0;32m   2715\u001b[0m \u001b[38;5;28;01melse\u001b[39;00m:\n\u001b[0;32m   2716\u001b[0m     chunks \u001b[38;5;241m=\u001b[39m []\n\u001b[1;32m-> 2717\u001b[0m \u001b[38;5;28;01mfor\u001b[39;00m chunk \u001b[38;5;129;01min\u001b[39;00m \u001b[38;5;28mself\u001b[39m\u001b[38;5;241m.\u001b[39mstream(\n\u001b[0;32m   2718\u001b[0m     \u001b[38;5;28minput\u001b[39m,\n\u001b[0;32m   2719\u001b[0m     config,\n\u001b[0;32m   2720\u001b[0m     stream_mode\u001b[38;5;241m=\u001b[39mstream_mode,\n\u001b[0;32m   2721\u001b[0m     output_keys\u001b[38;5;241m=\u001b[39moutput_keys,\n\u001b[0;32m   2722\u001b[0m     interrupt_before\u001b[38;5;241m=\u001b[39minterrupt_before,\n\u001b[0;32m   2723\u001b[0m     interrupt_after\u001b[38;5;241m=\u001b[39minterrupt_after,\n\u001b[0;32m   2724\u001b[0m     checkpoint_during\u001b[38;5;241m=\u001b[39mcheckpoint_during,\n\u001b[0;32m   2725\u001b[0m     debug\u001b[38;5;241m=\u001b[39mdebug,\n\u001b[0;32m   2726\u001b[0m     \u001b[38;5;241m*\u001b[39m\u001b[38;5;241m*\u001b[39mkwargs,\n\u001b[0;32m   2727\u001b[0m ):\n\u001b[0;32m   2728\u001b[0m     \u001b[38;5;28;01mif\u001b[39;00m stream_mode \u001b[38;5;241m==\u001b[39m \u001b[38;5;124m\"\u001b[39m\u001b[38;5;124mvalues\u001b[39m\u001b[38;5;124m\"\u001b[39m:\n\u001b[0;32m   2729\u001b[0m         latest \u001b[38;5;241m=\u001b[39m chunk\n",
      "File \u001b[1;32md:\\GenAI\\Langchain\\Langchain\\lenv\\lib\\site-packages\\langgraph\\pregel\\__init__.py:2356\u001b[0m, in \u001b[0;36mPregel.stream\u001b[1;34m(self, input, config, stream_mode, output_keys, interrupt_before, interrupt_after, checkpoint_during, debug, subgraphs)\u001b[0m\n\u001b[0;32m   2350\u001b[0m     \u001b[38;5;66;03m# Similarly to Bulk Synchronous Parallel / Pregel model\u001b[39;00m\n\u001b[0;32m   2351\u001b[0m     \u001b[38;5;66;03m# computation proceeds in steps, while there are channel updates.\u001b[39;00m\n\u001b[0;32m   2352\u001b[0m     \u001b[38;5;66;03m# Channel updates from step N are only visible in step N+1\u001b[39;00m\n\u001b[0;32m   2353\u001b[0m     \u001b[38;5;66;03m# channels are guaranteed to be immutable for the duration of the step,\u001b[39;00m\n\u001b[0;32m   2354\u001b[0m     \u001b[38;5;66;03m# with channel updates applied only at the transition between steps.\u001b[39;00m\n\u001b[0;32m   2355\u001b[0m     \u001b[38;5;28;01mwhile\u001b[39;00m loop\u001b[38;5;241m.\u001b[39mtick(input_keys\u001b[38;5;241m=\u001b[39m\u001b[38;5;28mself\u001b[39m\u001b[38;5;241m.\u001b[39minput_channels):\n\u001b[1;32m-> 2356\u001b[0m         \u001b[38;5;28;01mfor\u001b[39;00m _ \u001b[38;5;129;01min\u001b[39;00m runner\u001b[38;5;241m.\u001b[39mtick(\n\u001b[0;32m   2357\u001b[0m             loop\u001b[38;5;241m.\u001b[39mtasks\u001b[38;5;241m.\u001b[39mvalues(),\n\u001b[0;32m   2358\u001b[0m             timeout\u001b[38;5;241m=\u001b[39m\u001b[38;5;28mself\u001b[39m\u001b[38;5;241m.\u001b[39mstep_timeout,\n\u001b[0;32m   2359\u001b[0m             retry_policy\u001b[38;5;241m=\u001b[39m\u001b[38;5;28mself\u001b[39m\u001b[38;5;241m.\u001b[39mretry_policy,\n\u001b[0;32m   2360\u001b[0m             get_waiter\u001b[38;5;241m=\u001b[39mget_waiter,\n\u001b[0;32m   2361\u001b[0m         ):\n\u001b[0;32m   2362\u001b[0m             \u001b[38;5;66;03m# emit output\u001b[39;00m\n\u001b[0;32m   2363\u001b[0m             \u001b[38;5;28;01myield from\u001b[39;00m output()\n\u001b[0;32m   2364\u001b[0m \u001b[38;5;66;03m# emit output\u001b[39;00m\n",
      "File \u001b[1;32md:\\GenAI\\Langchain\\Langchain\\lenv\\lib\\site-packages\\langgraph\\pregel\\runner.py:158\u001b[0m, in \u001b[0;36mPregelRunner.tick\u001b[1;34m(self, tasks, reraise, timeout, retry_policy, get_waiter)\u001b[0m\n\u001b[0;32m    156\u001b[0m t \u001b[38;5;241m=\u001b[39m tasks[\u001b[38;5;241m0\u001b[39m]\n\u001b[0;32m    157\u001b[0m \u001b[38;5;28;01mtry\u001b[39;00m:\n\u001b[1;32m--> 158\u001b[0m     \u001b[43mrun_with_retry\u001b[49m\u001b[43m(\u001b[49m\n\u001b[0;32m    159\u001b[0m \u001b[43m        \u001b[49m\u001b[43mt\u001b[49m\u001b[43m,\u001b[49m\n\u001b[0;32m    160\u001b[0m \u001b[43m        \u001b[49m\u001b[43mretry_policy\u001b[49m\u001b[43m,\u001b[49m\n\u001b[0;32m    161\u001b[0m \u001b[43m        \u001b[49m\u001b[43mconfigurable\u001b[49m\u001b[38;5;241;43m=\u001b[39;49m\u001b[43m{\u001b[49m\n\u001b[0;32m    162\u001b[0m \u001b[43m            \u001b[49m\u001b[43mCONFIG_KEY_CALL\u001b[49m\u001b[43m:\u001b[49m\u001b[43m \u001b[49m\u001b[43mpartial\u001b[49m\u001b[43m(\u001b[49m\n\u001b[0;32m    163\u001b[0m \u001b[43m                \u001b[49m\u001b[43m_call\u001b[49m\u001b[43m,\u001b[49m\n\u001b[0;32m    164\u001b[0m \u001b[43m                \u001b[49m\u001b[43mweakref\u001b[49m\u001b[38;5;241;43m.\u001b[39;49m\u001b[43mref\u001b[49m\u001b[43m(\u001b[49m\u001b[43mt\u001b[49m\u001b[43m)\u001b[49m\u001b[43m,\u001b[49m\n\u001b[0;32m    165\u001b[0m \u001b[43m                \u001b[49m\u001b[43mretry\u001b[49m\u001b[38;5;241;43m=\u001b[39;49m\u001b[43mretry_policy\u001b[49m\u001b[43m,\u001b[49m\n\u001b[0;32m    166\u001b[0m \u001b[43m                \u001b[49m\u001b[43mfutures\u001b[49m\u001b[38;5;241;43m=\u001b[39;49m\u001b[43mweakref\u001b[49m\u001b[38;5;241;43m.\u001b[39;49m\u001b[43mref\u001b[49m\u001b[43m(\u001b[49m\u001b[43mfutures\u001b[49m\u001b[43m)\u001b[49m\u001b[43m,\u001b[49m\n\u001b[0;32m    167\u001b[0m \u001b[43m                \u001b[49m\u001b[43mschedule_task\u001b[49m\u001b[38;5;241;43m=\u001b[39;49m\u001b[38;5;28;43mself\u001b[39;49m\u001b[38;5;241;43m.\u001b[39;49m\u001b[43mschedule_task\u001b[49m\u001b[43m,\u001b[49m\n\u001b[0;32m    168\u001b[0m \u001b[43m                \u001b[49m\u001b[43msubmit\u001b[49m\u001b[38;5;241;43m=\u001b[39;49m\u001b[38;5;28;43mself\u001b[39;49m\u001b[38;5;241;43m.\u001b[39;49m\u001b[43msubmit\u001b[49m\u001b[43m,\u001b[49m\n\u001b[0;32m    169\u001b[0m \u001b[43m                \u001b[49m\u001b[43mreraise\u001b[49m\u001b[38;5;241;43m=\u001b[39;49m\u001b[43mreraise\u001b[49m\u001b[43m,\u001b[49m\n\u001b[0;32m    170\u001b[0m \u001b[43m            \u001b[49m\u001b[43m)\u001b[49m\u001b[43m,\u001b[49m\n\u001b[0;32m    171\u001b[0m \u001b[43m        \u001b[49m\u001b[43m}\u001b[49m\u001b[43m,\u001b[49m\n\u001b[0;32m    172\u001b[0m \u001b[43m    \u001b[49m\u001b[43m)\u001b[49m\n\u001b[0;32m    173\u001b[0m     \u001b[38;5;28mself\u001b[39m\u001b[38;5;241m.\u001b[39mcommit(t, \u001b[38;5;28;01mNone\u001b[39;00m)\n\u001b[0;32m    174\u001b[0m \u001b[38;5;28;01mexcept\u001b[39;00m \u001b[38;5;167;01mException\u001b[39;00m \u001b[38;5;28;01mas\u001b[39;00m exc:\n",
      "File \u001b[1;32md:\\GenAI\\Langchain\\Langchain\\lenv\\lib\\site-packages\\langgraph\\pregel\\retry.py:39\u001b[0m, in \u001b[0;36mrun_with_retry\u001b[1;34m(task, retry_policy, configurable)\u001b[0m\n\u001b[0;32m     37\u001b[0m     task\u001b[38;5;241m.\u001b[39mwrites\u001b[38;5;241m.\u001b[39mclear()\n\u001b[0;32m     38\u001b[0m     \u001b[38;5;66;03m# run the task\u001b[39;00m\n\u001b[1;32m---> 39\u001b[0m     \u001b[38;5;28;01mreturn\u001b[39;00m \u001b[43mtask\u001b[49m\u001b[38;5;241;43m.\u001b[39;49m\u001b[43mproc\u001b[49m\u001b[38;5;241;43m.\u001b[39;49m\u001b[43minvoke\u001b[49m\u001b[43m(\u001b[49m\u001b[43mtask\u001b[49m\u001b[38;5;241;43m.\u001b[39;49m\u001b[43minput\u001b[49m\u001b[43m,\u001b[49m\u001b[43m \u001b[49m\u001b[43mconfig\u001b[49m\u001b[43m)\u001b[49m\n\u001b[0;32m     40\u001b[0m \u001b[38;5;28;01mexcept\u001b[39;00m ParentCommand \u001b[38;5;28;01mas\u001b[39;00m exc:\n\u001b[0;32m     41\u001b[0m     ns: \u001b[38;5;28mstr\u001b[39m \u001b[38;5;241m=\u001b[39m config[CONF][CONFIG_KEY_CHECKPOINT_NS]\n",
      "File \u001b[1;32md:\\GenAI\\Langchain\\Langchain\\lenv\\lib\\site-packages\\langgraph\\utils\\runnable.py:610\u001b[0m, in \u001b[0;36mRunnableSeq.invoke\u001b[1;34m(self, input, config, **kwargs)\u001b[0m\n\u001b[0;32m    606\u001b[0m config \u001b[38;5;241m=\u001b[39m patch_config(\n\u001b[0;32m    607\u001b[0m     config, callbacks\u001b[38;5;241m=\u001b[39mrun_manager\u001b[38;5;241m.\u001b[39mget_child(\u001b[38;5;124mf\u001b[39m\u001b[38;5;124m\"\u001b[39m\u001b[38;5;124mseq:step:\u001b[39m\u001b[38;5;132;01m{\u001b[39;00mi\u001b[38;5;250m \u001b[39m\u001b[38;5;241m+\u001b[39m\u001b[38;5;250m \u001b[39m\u001b[38;5;241m1\u001b[39m\u001b[38;5;132;01m}\u001b[39;00m\u001b[38;5;124m\"\u001b[39m)\n\u001b[0;32m    608\u001b[0m )\n\u001b[0;32m    609\u001b[0m \u001b[38;5;28;01mif\u001b[39;00m i \u001b[38;5;241m==\u001b[39m \u001b[38;5;241m0\u001b[39m:\n\u001b[1;32m--> 610\u001b[0m     \u001b[38;5;28minput\u001b[39m \u001b[38;5;241m=\u001b[39m step\u001b[38;5;241m.\u001b[39minvoke(\u001b[38;5;28minput\u001b[39m, config, \u001b[38;5;241m*\u001b[39m\u001b[38;5;241m*\u001b[39mkwargs)\n\u001b[0;32m    611\u001b[0m \u001b[38;5;28;01melse\u001b[39;00m:\n\u001b[0;32m    612\u001b[0m     \u001b[38;5;28minput\u001b[39m \u001b[38;5;241m=\u001b[39m step\u001b[38;5;241m.\u001b[39minvoke(\u001b[38;5;28minput\u001b[39m, config)\n",
      "File \u001b[1;32md:\\GenAI\\Langchain\\Langchain\\lenv\\lib\\site-packages\\langgraph\\utils\\runnable.py:375\u001b[0m, in \u001b[0;36mRunnableCallable.invoke\u001b[1;34m(self, input, config, **kwargs)\u001b[0m\n\u001b[0;32m    373\u001b[0m \u001b[38;5;28;01melse\u001b[39;00m:\n\u001b[0;32m    374\u001b[0m     \u001b[38;5;28;01mwith\u001b[39;00m set_config_context(config) \u001b[38;5;28;01mas\u001b[39;00m context:\n\u001b[1;32m--> 375\u001b[0m         ret \u001b[38;5;241m=\u001b[39m context\u001b[38;5;241m.\u001b[39mrun(\u001b[38;5;28mself\u001b[39m\u001b[38;5;241m.\u001b[39mfunc, \u001b[38;5;241m*\u001b[39margs, \u001b[38;5;241m*\u001b[39m\u001b[38;5;241m*\u001b[39mkwargs)\n\u001b[0;32m    376\u001b[0m \u001b[38;5;28;01mif\u001b[39;00m \u001b[38;5;28misinstance\u001b[39m(ret, Runnable) \u001b[38;5;129;01mand\u001b[39;00m \u001b[38;5;28mself\u001b[39m\u001b[38;5;241m.\u001b[39mrecurse:\n\u001b[0;32m    377\u001b[0m     \u001b[38;5;28;01mreturn\u001b[39;00m ret\u001b[38;5;241m.\u001b[39minvoke(\u001b[38;5;28minput\u001b[39m, config)\n",
      "Cell \u001b[1;32mIn[4], line 7\u001b[0m, in \u001b[0;36mnode2\u001b[1;34m(state)\u001b[0m\n\u001b[0;32m      6\u001b[0m \u001b[38;5;28;01mdef\u001b[39;00m\u001b[38;5;250m \u001b[39m\u001b[38;5;21mnode2\u001b[39m(state: State2) \u001b[38;5;241m-\u001b[39m\u001b[38;5;241m>\u001b[39m State2:\n\u001b[1;32m----> 7\u001b[0m     \u001b[38;5;28;01mreturn\u001b[39;00m {\u001b[38;5;124m\"\u001b[39m\u001b[38;5;124mvar2\u001b[39m\u001b[38;5;124m\"\u001b[39m: state[\u001b[38;5;124m\"\u001b[39m\u001b[38;5;124mvar2\u001b[39m\u001b[38;5;124m\"\u001b[39m] \u001b[38;5;241m+\u001b[39m \u001b[43mstate\u001b[49m\u001b[43m[\u001b[49m\u001b[38;5;124;43m\"\u001b[39;49m\u001b[38;5;124;43mvar1\u001b[39;49m\u001b[38;5;124;43m\"\u001b[39;49m\u001b[43m]\u001b[49m \u001b[38;5;241m+\u001b[39m \u001b[38;5;124m\"\u001b[39m\u001b[38;5;124m3\u001b[39m\u001b[38;5;124m\"\u001b[39m, \u001b[38;5;124m\"\u001b[39m\u001b[38;5;124mvar1\u001b[39m\u001b[38;5;124m\"\u001b[39m: state[\u001b[38;5;124m\"\u001b[39m\u001b[38;5;124mvar2\u001b[39m\u001b[38;5;124m\"\u001b[39m] \u001b[38;5;241m+\u001b[39m \u001b[38;5;124m\"\u001b[39m\u001b[38;5;124m4\u001b[39m\u001b[38;5;124m\"\u001b[39m}\n",
      "\u001b[1;31mKeyError\u001b[0m: 'var1'"
     ]
    }
   ],
   "source": [
    "graph9.invoke({\"var1\": \"1\"})"
   ]
  },
  {
   "cell_type": "code",
   "execution_count": null,
   "id": "273c6e8b",
   "metadata": {},
   "outputs": [],
   "source": []
  }
 ],
 "metadata": {
  "kernelspec": {
   "display_name": "lenv",
   "language": "python",
   "name": "python3"
  },
  "language_info": {
   "codemirror_mode": {
    "name": "ipython",
    "version": 3
   },
   "file_extension": ".py",
   "mimetype": "text/x-python",
   "name": "python",
   "nbconvert_exporter": "python",
   "pygments_lexer": "ipython3",
   "version": "3.10.11"
  }
 },
 "nbformat": 4,
 "nbformat_minor": 5
}
