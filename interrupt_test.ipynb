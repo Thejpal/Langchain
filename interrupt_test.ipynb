{
 "cells": [
  {
   "cell_type": "markdown",
   "id": "4b31cf06",
   "metadata": {},
   "source": [
    "## **Human approval as conditional edge**\n",
    "\n",
    "* Here we defined a human function where we take in a boolean value and decide which node to continue with\n",
    "* We used this function as a callable for conditional edge to get human approval for verification\n",
    "* As the graph execution gets stopped midway and we need to take in human input for continuation, it requires checkpointer to store the graph state\n",
    "* We use interrupt to pause the graph and take in human input\n",
    "* We use Command to continue the graph by taking in human input"
   ]
  },
  {
   "cell_type": "code",
   "execution_count": 1,
   "id": "0f54469e",
   "metadata": {},
   "outputs": [],
   "source": [
    "from typing_extensions import TypedDict, Literal, Annotated\n",
    "from langgraph.graph import StateGraph, add_messages, START, END\n",
    "from langgraph.types import Command, interrupt\n",
    "from langgraph.checkpoint.memory import MemorySaver"
   ]
  },
  {
   "cell_type": "code",
   "execution_count": 2,
   "id": "62587498",
   "metadata": {},
   "outputs": [],
   "source": [
    "class State(TypedDict):\n",
    "    input: str\n",
    "    output: str\n",
    "    messages: Annotated[list[str], add_messages]\n",
    "\n",
    "class Input(TypedDict):\n",
    "    input: str\n",
    "\n",
    "class Output(TypedDict):\n",
    "    output: str"
   ]
  },
  {
   "cell_type": "code",
   "execution_count": 4,
   "id": "be5f40fc",
   "metadata": {},
   "outputs": [],
   "source": [
    "checkpointer = MemorySaver()\n",
    "\n",
    "builder1 = StateGraph(state_schema = State, input = Input, output = Output)\n",
    "\n",
    "def node1(state: Input) -> State:\n",
    "    return {\"input\": state[\"input\"], \"messages\": [state[\"input\"] + \"1\"]}\n",
    "\n",
    "def human(state: State) -> Literal[\"node2\", \"node3\"]:\n",
    "    is_approved = interrupt({\"question\": \"Do you want to continue in this route?\", \"message\": state[\"messages\"]})\n",
    "    if is_approved:\n",
    "        return \"node2\"\n",
    "    else:\n",
    "        return \"node3\"\n",
    "\n",
    "def node2(state: Input) -> State:\n",
    "    return {\"messages\": [state[\"input\"] + \"2\"], \"output\": state[\"input\"] + \"3\"}\n",
    "\n",
    "def node3(state: Input) -> State:\n",
    "    return {\"messages\": state[\"input\"] + \"4\", \"output\": state[\"input\"] + \"5\"}\n",
    "\n",
    "builder1.add_node(node1, \"node1\")\n",
    "builder1.add_node(node2, \"node2\")\n",
    "builder1.add_node(node3, \"node3\")\n",
    "\n",
    "builder1.add_edge(START, \"node1\")\n",
    "builder1.add_conditional_edges(\"node1\", human)\n",
    "builder1.add_edge([\"node2\", \"node3\"], END)\n",
    "\n",
    "graph1 = builder1.compile(checkpointer = checkpointer)\n",
    "graph1.debug = True"
   ]
  },
  {
   "cell_type": "code",
   "execution_count": 11,
   "id": "6510e727",
   "metadata": {},
   "outputs": [
    {
     "data": {
      "image/png": "[encoded data removed]",
      "text/plain": [
       "<langgraph.graph.state.CompiledStateGraph object at 0x000002B49F4F8CA0>"
      ]
     },
     "execution_count": 11,
     "metadata": {},
     "output_type": "execute_result"
    }
   ],
   "source": [
    "graph1"
   ]
  },
  {
   "cell_type": "code",
   "execution_count": 7,
   "id": "00e59121",
   "metadata": {},
   "outputs": [
    {
     "name": "stdout",
     "output_type": "stream",
     "text": [
      "\u001b[36;1m\u001b[1;3m[-1:checkpoint]\u001b[0m \u001b[1mState at the end of step -1:\n",
      "\u001b[0m{'messages': []}\n",
      "\u001b[36;1m\u001b[1;3m[0:tasks]\u001b[0m \u001b[1mStarting 1 task for step 0:\n",
      "\u001b[0m- \u001b[32;1m\u001b[1;3m__start__\u001b[0m -> {'input': '0'}\n",
      "\u001b[36;1m\u001b[1;3m[0:writes]\u001b[0m \u001b[1mFinished step 0 with writes to 1 channel:\n",
      "\u001b[0m- \u001b[33;1m\u001b[1;3minput\u001b[0m -> '0'\n",
      "\u001b[36;1m\u001b[1;3m[0:checkpoint]\u001b[0m \u001b[1mState at the end of step 0:\n",
      "\u001b[0m{'input': '0', 'messages': []}\n",
      "\u001b[36;1m\u001b[1;3m[1:tasks]\u001b[0m \u001b[1mStarting 1 task for step 1:\n",
      "\u001b[0m- \u001b[32;1m\u001b[1;3mnode1\u001b[0m -> {'input': '0'}\n"
     ]
    }
   ],
   "source": [
    "graph1.invoke({\"input\" : \"0\"}, {\"configurable\": {\"thread_id\": \"1\"}})"
   ]
  },
  {
   "cell_type": "code",
   "execution_count": 8,
   "id": "53fabf79",
   "metadata": {},
   "outputs": [
    {
     "name": "stdout",
     "output_type": "stream",
     "text": [
      "\u001b[36;1m\u001b[1;3m[1:tasks]\u001b[0m \u001b[1mStarting 1 task for step 1:\n",
      "\u001b[0m- \u001b[32;1m\u001b[1;3mnode1\u001b[0m -> {'input': '0'}\n",
      "\u001b[36;1m\u001b[1;3m[1:writes]\u001b[0m \u001b[1mFinished step 1 with writes to 2 channels:\n",
      "\u001b[0m- \u001b[33;1m\u001b[1;3minput\u001b[0m -> '0'\n",
      "- \u001b[33;1m\u001b[1;3mmessages\u001b[0m -> ['01']\n",
      "\u001b[36;1m\u001b[1;3m[1:checkpoint]\u001b[0m \u001b[1mState at the end of step 1:\n",
      "\u001b[0m{'input': '0',\n",
      " 'messages': [HumanMessage(content='01', additional_kwargs={}, response_metadata={}, id='506e0266-8117-4e97-a73b-e2e2f8190db7')]}\n",
      "\u001b[36;1m\u001b[1;3m[2:tasks]\u001b[0m \u001b[1mStarting 1 task for step 2:\n",
      "\u001b[0m- \u001b[32;1m\u001b[1;3mnode2\u001b[0m -> {'input': '0'}\n",
      "\u001b[36;1m\u001b[1;3m[2:writes]\u001b[0m \u001b[1mFinished step 2 with writes to 2 channels:\n",
      "\u001b[0m- \u001b[33;1m\u001b[1;3mmessages\u001b[0m -> ['02']\n",
      "- \u001b[33;1m\u001b[1;3moutput\u001b[0m -> '03'\n",
      "\u001b[36;1m\u001b[1;3m[2:checkpoint]\u001b[0m \u001b[1mState at the end of step 2:\n",
      "\u001b[0m{'input': '0',\n",
      " 'messages': [HumanMessage(content='01', additional_kwargs={}, response_metadata={}, id='506e0266-8117-4e97-a73b-e2e2f8190db7'),\n",
      "              HumanMessage(content='02', additional_kwargs={}, response_metadata={}, id='7b4cf695-54d1-4759-b465-603dccda4c67')],\n",
      " 'output': '03'}\n"
     ]
    },
    {
     "data": {
      "text/plain": [
       "{'output': '03'}"
      ]
     },
     "execution_count": 8,
     "metadata": {},
     "output_type": "execute_result"
    }
   ],
   "source": [
    "graph1.invoke(Command(resume = True), {\"configurable\": {\"thread_id\": \"1\"}})"
   ]
  },
  {
   "cell_type": "code",
   "execution_count": 9,
   "id": "88abe1c8",
   "metadata": {},
   "outputs": [
    {
     "name": "stdout",
     "output_type": "stream",
     "text": [
      "\u001b[36;1m\u001b[1;3m[-1:checkpoint]\u001b[0m \u001b[1mState at the end of step -1:\n",
      "\u001b[0m{'messages': []}\n",
      "\u001b[36;1m\u001b[1;3m[0:tasks]\u001b[0m \u001b[1mStarting 1 task for step 0:\n",
      "\u001b[0m- \u001b[32;1m\u001b[1;3m__start__\u001b[0m -> {'input': '0'}\n",
      "\u001b[36;1m\u001b[1;3m[0:writes]\u001b[0m \u001b[1mFinished step 0 with writes to 1 channel:\n",
      "\u001b[0m- \u001b[33;1m\u001b[1;3minput\u001b[0m -> '0'\n",
      "\u001b[36;1m\u001b[1;3m[0:checkpoint]\u001b[0m \u001b[1mState at the end of step 0:\n",
      "\u001b[0m{'input': '0', 'messages': []}\n",
      "\u001b[36;1m\u001b[1;3m[1:tasks]\u001b[0m \u001b[1mStarting 1 task for step 1:\n",
      "\u001b[0m- \u001b[32;1m\u001b[1;3mnode1\u001b[0m -> {'input': '0'}\n"
     ]
    }
   ],
   "source": [
    "graph1.invoke({\"input\": \"0\"}, {\"configurable\": {\"thread_id\": \"2\"}})"
   ]
  },
  {
   "cell_type": "code",
   "execution_count": 10,
   "id": "c05ebb46",
   "metadata": {},
   "outputs": [
    {
     "name": "stdout",
     "output_type": "stream",
     "text": [
      "\u001b[36;1m\u001b[1;3m[1:tasks]\u001b[0m \u001b[1mStarting 1 task for step 1:\n",
      "\u001b[0m- \u001b[32;1m\u001b[1;3mnode1\u001b[0m -> {'input': '0'}\n",
      "\u001b[36;1m\u001b[1;3m[1:writes]\u001b[0m \u001b[1mFinished step 1 with writes to 2 channels:\n",
      "\u001b[0m- \u001b[33;1m\u001b[1;3minput\u001b[0m -> '0'\n",
      "- \u001b[33;1m\u001b[1;3mmessages\u001b[0m -> ['01']\n",
      "\u001b[36;1m\u001b[1;3m[1:checkpoint]\u001b[0m \u001b[1mState at the end of step 1:\n",
      "\u001b[0m{'input': '0',\n",
      " 'messages': [HumanMessage(content='01', additional_kwargs={}, response_metadata={}, id='74aa6936-bc31-4f27-9fce-e81da6d587fe')]}\n",
      "\u001b[36;1m\u001b[1;3m[2:tasks]\u001b[0m \u001b[1mStarting 1 task for step 2:\n",
      "\u001b[0m- \u001b[32;1m\u001b[1;3mnode3\u001b[0m -> {'input': '0'}\n",
      "\u001b[36;1m\u001b[1;3m[2:writes]\u001b[0m \u001b[1mFinished step 2 with writes to 2 channels:\n",
      "\u001b[0m- \u001b[33;1m\u001b[1;3mmessages\u001b[0m -> '04'\n",
      "- \u001b[33;1m\u001b[1;3moutput\u001b[0m -> '05'\n",
      "\u001b[36;1m\u001b[1;3m[2:checkpoint]\u001b[0m \u001b[1mState at the end of step 2:\n",
      "\u001b[0m{'input': '0',\n",
      " 'messages': [HumanMessage(content='01', additional_kwargs={}, response_metadata={}, id='74aa6936-bc31-4f27-9fce-e81da6d587fe'),\n",
      "              HumanMessage(content='04', additional_kwargs={}, response_metadata={}, id='9a958502-db20-43f4-8fc5-0ed20d700ef9')],\n",
      " 'output': '05'}\n"
     ]
    },
    {
     "data": {
      "text/plain": [
       "{'output': '05'}"
      ]
     },
     "execution_count": 10,
     "metadata": {},
     "output_type": "execute_result"
    }
   ],
   "source": [
    "graph1.invoke(Command(resume = False), {\"configurable\": {\"thread_id\": \"2\"}})"
   ]
  },
  {
   "cell_type": "code",
   "execution_count": 12,
   "id": "4d077557",
   "metadata": {},
   "outputs": [
    {
     "name": "stdout",
     "output_type": "stream",
     "text": [
      "\u001b[36;1m\u001b[1;3m[-1:checkpoint]\u001b[0m \u001b[1mState at the end of step -1:\n",
      "\u001b[0m{'messages': []}\n",
      "\u001b[36;1m\u001b[1;3m[0:tasks]\u001b[0m \u001b[1mStarting 1 task for step 0:\n",
      "\u001b[0m- \u001b[32;1m\u001b[1;3m__start__\u001b[0m -> {'input': '0'}\n",
      "\u001b[36;1m\u001b[1;3m[0:writes]\u001b[0m \u001b[1mFinished step 0 with writes to 1 channel:\n",
      "\u001b[0m- \u001b[33;1m\u001b[1;3minput\u001b[0m -> '0'\n",
      "\u001b[36;1m\u001b[1;3m[0:checkpoint]\u001b[0m \u001b[1mState at the end of step 0:\n",
      "\u001b[0m{'input': '0', 'messages': []}\n",
      "\u001b[36;1m\u001b[1;3m[1:tasks]\u001b[0m \u001b[1mStarting 1 task for step 1:\n",
      "\u001b[0m- \u001b[32;1m\u001b[1;3mnode1\u001b[0m -> {'input': '0'}\n",
      "{'__interrupt__': (Interrupt(value={'question': 'Do you want to continue in this route?', 'message': [HumanMessage(content='01', additional_kwargs={}, response_metadata={}, id='3210308e-9aac-49ca-9457-68d00122ed7c')]}, resumable=True, ns=['node1:3731ebd5-69c4-ea47-043f-d27f44417ea6']),)}\n"
     ]
    }
   ],
   "source": [
    "for chunk in graph1.stream({\"input\": \"0\"}, {\"configurable\": {\"thread_id\": \"3\"}}, stream_mode = \"updates\"):\n",
    "    print(chunk)"
   ]
  },
  {
   "cell_type": "code",
   "execution_count": 15,
   "id": "451acb76",
   "metadata": {},
   "outputs": [
    {
     "data": {
      "text/plain": [
       "('node1',)"
      ]
     },
     "execution_count": 15,
     "metadata": {},
     "output_type": "execute_result"
    }
   ],
   "source": [
    "graph1.get_state({\"configurable\": {\"thread_id\": \"3\"}}).next"
   ]
  },
  {
   "cell_type": "code",
   "execution_count": 16,
   "id": "dd55c98c",
   "metadata": {},
   "outputs": [
    {
     "name": "stdout",
     "output_type": "stream",
     "text": [
      "\u001b[36;1m\u001b[1;3m[1:tasks]\u001b[0m \u001b[1mStarting 1 task for step 1:\n",
      "\u001b[0m- \u001b[32;1m\u001b[1;3mnode1\u001b[0m -> {'input': '0'}\n",
      "\u001b[36;1m\u001b[1;3m[1:writes]\u001b[0m \u001b[1mFinished step 1 with writes to 2 channels:\n",
      "\u001b[0m- \u001b[33;1m\u001b[1;3minput\u001b[0m -> '0'\n",
      "- \u001b[33;1m\u001b[1;3mmessages\u001b[0m -> ['01']\n",
      "\u001b[36;1m\u001b[1;3m[1:checkpoint]\u001b[0m \u001b[1mState at the end of step 1:\n",
      "\u001b[0m{'input': '0',\n",
      " 'messages': [HumanMessage(content='01', additional_kwargs={}, response_metadata={}, id='e92785af-d006-4ba2-99af-d2973aa1fc6e')]}\n",
      "\u001b[36;1m\u001b[1;3m[2:tasks]\u001b[0m \u001b[1mStarting 1 task for step 2:\n",
      "\u001b[0m- \u001b[32;1m\u001b[1;3mnode2\u001b[0m -> {'input': '0'}\n",
      "{'node1': {'input': '0', 'messages': ['01']}}\n",
      "\u001b[36;1m\u001b[1;3m[2:writes]\u001b[0m \u001b[1mFinished step 2 with writes to 2 channels:\n",
      "\u001b[0m- \u001b[33;1m\u001b[1;3mmessages\u001b[0m -> ['02']\n",
      "- \u001b[33;1m\u001b[1;3moutput\u001b[0m -> '03'\n",
      "\u001b[36;1m\u001b[1;3m[2:checkpoint]\u001b[0m \u001b[1mState at the end of step 2:\n",
      "\u001b[0m{'input': '0',\n",
      " 'messages': [HumanMessage(content='01', additional_kwargs={}, response_metadata={}, id='e92785af-d006-4ba2-99af-d2973aa1fc6e'),\n",
      "              HumanMessage(content='02', additional_kwargs={}, response_metadata={}, id='97d9327f-a603-434d-8a82-5f786164c922')],\n",
      " 'output': '03'}\n",
      "{'node2': {'messages': ['02'], 'output': '03'}}\n"
     ]
    }
   ],
   "source": [
    "for chunk in graph1.stream(Command(resume = True), {\"configurable\": {\"thread_id\": \"3\"}}, stream_mode = \"updates\"):\n",
    "    print(chunk)"
   ]
  },
  {
   "cell_type": "markdown",
   "id": "358ebe3b",
   "metadata": {},
   "source": [
    "## **Human approval as node**\n",
    "\n",
    "* Previously, we got the human approval and used that value to route decide which node to go to (conditional edge)\n",
    "* Here, we used the human approval as a node which will route to the appropriate node based on the human input\n",
    "* Previously, we used resume parameter in Command class to get the data from the user. Here, we used that along with goto parameter which determines the node to go to next.\n",
    "* The goto parameter of the Command class acts as a conditional edge for us in this case without the use of conditional edge\n",
    "* Even if we try to restrict the response from the use to a boolean value and we passed an integer value, the code didn't return an error\n",
    "* The data from the user can be of any type. We can even get a dictionary from the user with separate keys each of which can be extracted and used accrodingly\n",
    "* By getting all sorts of data from the user in different keys, we can modify the functionality of the human node to either be an approval, state update or even multi-turn conversation"
   ]
  },
  {
   "cell_type": "code",
   "execution_count": 24,
   "id": "6c058de8",
   "metadata": {},
   "outputs": [],
   "source": [
    "checkpointer2 = MemorySaver()\n",
    "\n",
    "builder2 = StateGraph(state_schema = State, input = Input, output = Output)\n",
    "\n",
    "def node12(state: Input) -> State:\n",
    "    return {\"input\": state[\"input\"], \"messages\": [state[\"input\"] + \"1\"]}\n",
    "\n",
    "def node22(state: Input) -> State:\n",
    "    return {\"messages\": [state[\"input\"] + \"2\"], \"output\": state[\"input\"] + \"3\"}\n",
    "\n",
    "def node32(state: Input) -> State:\n",
    "    return {\"messages\": state[\"input\"] + \"4\", \"output\": state[\"input\"] + \"5\"}\n",
    "\n",
    "def human2(state: State) -> Command[Literal[\"node22\", \"node32\"]]:\n",
    "    is_approved: bool = interrupt({\"question\": \"Do you want to continue in this route?\", \"message\": state[\"messages\"]})\n",
    "    if is_approved:\n",
    "        return Command(goto = \"node22\")\n",
    "    else:\n",
    "        return Command(goto = \"node32\")\n",
    "\n",
    "builder2.add_node(node12, \"node12\")\n",
    "builder2.add_node(node22, \"node22\")\n",
    "builder2.add_node(node32, \"node32\")\n",
    "builder2.add_node(human2, \"human2\")\n",
    "\n",
    "builder2.add_edge(START, \"node12\")\n",
    "builder2.add_edge(\"node12\", \"human2\")\n",
    "builder2.add_edge([\"node22\", \"node32\"], END)\n",
    "\n",
    "graph2 = builder2.compile(checkpointer = checkpointer2)\n",
    "graph2.debug = True"
   ]
  },
  {
   "cell_type": "code",
   "execution_count": 25,
   "id": "0851d460",
   "metadata": {},
   "outputs": [
    {
     "data": {
      "image/png": "[encoded data removed]",
      "text/plain": [
       "<langgraph.graph.state.CompiledStateGraph object at 0x000002B49F5F7220>"
      ]
     },
     "execution_count": 25,
     "metadata": {},
     "output_type": "execute_result"
    }
   ],
   "source": [
    "graph2"
   ]
  },
  {
   "cell_type": "code",
   "execution_count": 26,
   "id": "4e042ff2",
   "metadata": {},
   "outputs": [
    {
     "name": "stdout",
     "output_type": "stream",
     "text": [
      "\u001b[36;1m\u001b[1;3m[-1:checkpoint]\u001b[0m \u001b[1mState at the end of step -1:\n",
      "\u001b[0m{'messages': []}\n",
      "\u001b[36;1m\u001b[1;3m[0:tasks]\u001b[0m \u001b[1mStarting 1 task for step 0:\n",
      "\u001b[0m- \u001b[32;1m\u001b[1;3m__start__\u001b[0m -> {'input': '0'}\n",
      "\u001b[36;1m\u001b[1;3m[0:writes]\u001b[0m \u001b[1mFinished step 0 with writes to 1 channel:\n",
      "\u001b[0m- \u001b[33;1m\u001b[1;3minput\u001b[0m -> '0'\n",
      "\u001b[36;1m\u001b[1;3m[0:checkpoint]\u001b[0m \u001b[1mState at the end of step 0:\n",
      "\u001b[0m{'input': '0', 'messages': []}\n",
      "\u001b[36;1m\u001b[1;3m[1:tasks]\u001b[0m \u001b[1mStarting 1 task for step 1:\n",
      "\u001b[0m- \u001b[32;1m\u001b[1;3mnode12\u001b[0m -> {'input': '0'}\n",
      "\u001b[36;1m\u001b[1;3m[1:writes]\u001b[0m \u001b[1mFinished step 1 with writes to 2 channels:\n",
      "\u001b[0m- \u001b[33;1m\u001b[1;3minput\u001b[0m -> '0'\n",
      "- \u001b[33;1m\u001b[1;3mmessages\u001b[0m -> ['01']\n",
      "\u001b[36;1m\u001b[1;3m[1:checkpoint]\u001b[0m \u001b[1mState at the end of step 1:\n",
      "\u001b[0m{'input': '0',\n",
      " 'messages': [HumanMessage(content='01', additional_kwargs={}, response_metadata={}, id='e6afa0f6-e424-466b-af41-d3696648ea3e')]}\n",
      "\u001b[36;1m\u001b[1;3m[2:tasks]\u001b[0m \u001b[1mStarting 1 task for step 2:\n",
      "\u001b[0m- \u001b[32;1m\u001b[1;3mhuman2\u001b[0m -> {'input': '0',\n",
      " 'messages': [HumanMessage(content='01', additional_kwargs={}, response_metadata={}, id='e6afa0f6-e424-466b-af41-d3696648ea3e')]}\n",
      "{'node12': {'input': '0', 'messages': ['01']}}\n",
      "{'__interrupt__': (Interrupt(value={'question': 'Do you want to continue in this route?', 'message': [HumanMessage(content='01', additional_kwargs={}, response_metadata={}, id='e6afa0f6-e424-466b-af41-d3696648ea3e')]}, resumable=True, ns=['human2:01cd8ab0-39f8-4bb5-6a1c-a52f52ef2892']),)}\n"
     ]
    }
   ],
   "source": [
    "for chunk in graph2.stream({\"input\": \"0\"}, {\"configurable\": {\"thread_id\": \"1\"}}, stream_mode = \"updates\"):\n",
    "    print(chunk)"
   ]
  },
  {
   "cell_type": "code",
   "execution_count": 27,
   "id": "5c6302a1",
   "metadata": {},
   "outputs": [
    {
     "data": {
      "text/plain": [
       "('human2',)"
      ]
     },
     "execution_count": 27,
     "metadata": {},
     "output_type": "execute_result"
    }
   ],
   "source": [
    "graph2.get_state({\"configurable\": {\"thread_id\": \"1\"}}).next"
   ]
  },
  {
   "cell_type": "code",
   "execution_count": null,
   "id": "dd4c0df4",
   "metadata": {},
   "outputs": [
    {
     "name": "stdout",
     "output_type": "stream",
     "text": [
      "\u001b[36;1m\u001b[1;3m[2:tasks]\u001b[0m \u001b[1mStarting 1 task for step 2:\n",
      "\u001b[0m- \u001b[32;1m\u001b[1;3mhuman2\u001b[0m -> {'input': '0',\n",
      " 'messages': [HumanMessage(content='01', additional_kwargs={}, response_metadata={}, id='e6afa0f6-e424-466b-af41-d3696648ea3e')]}\n",
      "\u001b[36;1m\u001b[1;3m[2:writes]\u001b[0m \u001b[1mFinished step 2 with writes to 0 channels:\n",
      "\u001b[0m\n",
      "\u001b[36;1m\u001b[1;3m[2:checkpoint]\u001b[0m \u001b[1mState at the end of step 2:\n",
      "\u001b[0m{'input': '0',\n",
      " 'messages': [HumanMessage(content='01', additional_kwargs={}, response_metadata={}, id='e6afa0f6-e424-466b-af41-d3696648ea3e')]}\n",
      "\u001b[36;1m\u001b[1;3m[3:tasks]\u001b[0m \u001b[1mStarting 1 task for step 3:\n",
      "\u001b[0m- \u001b[32;1m\u001b[1;3mnode22\u001b[0m -> {'input': '0'}\n",
      "{'human2': None}\n",
      "\u001b[36;1m\u001b[1;3m[3:writes]\u001b[0m \u001b[1mFinished step 3 with writes to 2 channels:\n",
      "\u001b[0m- \u001b[33;1m\u001b[1;3mmessages\u001b[0m -> ['02']\n",
      "- \u001b[33;1m\u001b[1;3moutput\u001b[0m -> '03'\n",
      "\u001b[36;1m\u001b[1;3m[3:checkpoint]\u001b[0m \u001b[1mState at the end of step 3:\n",
      "\u001b[0m{'input': '0',\n",
      " 'messages': [HumanMessage(content='01', additional_kwargs={}, response_metadata={}, id='e6afa0f6-e424-466b-af41-d3696648ea3e'),\n",
      "              HumanMessage(content='02', additional_kwargs={}, response_metadata={}, id='e30e840c-29bf-431e-bda1-6c712aa7eecb')],\n",
      " 'output': '03'}\n",
      "{'node22': {'messages': ['02'], 'output': '03'}}\n"
     ]
    }
   ],
   "source": [
    "for chunk in graph2.stream(Command(resume = True), {\"configurable\": {\"thread_id\": \"1\"}}, stream_mode = \"updates\"):\n",
    "    print(chunk)"
   ]
  },
  {
   "cell_type": "code",
   "execution_count": 33,
   "id": "052c3bf9",
   "metadata": {},
   "outputs": [
    {
     "name": "stdout",
     "output_type": "stream",
     "text": [
      "\u001b[36;1m\u001b[1;3m[-1:checkpoint]\u001b[0m \u001b[1mState at the end of step -1:\n",
      "\u001b[0m{'messages': []}\n",
      "\u001b[36;1m\u001b[1;3m[0:tasks]\u001b[0m \u001b[1mStarting 1 task for step 0:\n",
      "\u001b[0m- \u001b[32;1m\u001b[1;3m__start__\u001b[0m -> {'input': '0'}\n",
      "\u001b[36;1m\u001b[1;3m[0:writes]\u001b[0m \u001b[1mFinished step 0 with writes to 1 channel:\n",
      "\u001b[0m- \u001b[33;1m\u001b[1;3minput\u001b[0m -> '0'\n",
      "\u001b[36;1m\u001b[1;3m[0:checkpoint]\u001b[0m \u001b[1mState at the end of step 0:\n",
      "\u001b[0m{'input': '0', 'messages': []}\n",
      "\u001b[36;1m\u001b[1;3m[1:tasks]\u001b[0m \u001b[1mStarting 1 task for step 1:\n",
      "\u001b[0m- \u001b[32;1m\u001b[1;3mnode12\u001b[0m -> {'input': '0'}\n",
      "\u001b[36;1m\u001b[1;3m[1:writes]\u001b[0m \u001b[1mFinished step 1 with writes to 2 channels:\n",
      "\u001b[0m- \u001b[33;1m\u001b[1;3minput\u001b[0m -> '0'\n",
      "- \u001b[33;1m\u001b[1;3mmessages\u001b[0m -> ['01']\n",
      "\u001b[36;1m\u001b[1;3m[1:checkpoint]\u001b[0m \u001b[1mState at the end of step 1:\n",
      "\u001b[0m{'input': '0',\n",
      " 'messages': [HumanMessage(content='01', additional_kwargs={}, response_metadata={}, id='fff8c446-acfb-45c7-bcae-4db72bdf48d8')]}\n",
      "\u001b[36;1m\u001b[1;3m[2:tasks]\u001b[0m \u001b[1mStarting 1 task for step 2:\n",
      "\u001b[0m- \u001b[32;1m\u001b[1;3mhuman2\u001b[0m -> {'input': '0',\n",
      " 'messages': [HumanMessage(content='01', additional_kwargs={}, response_metadata={}, id='fff8c446-acfb-45c7-bcae-4db72bdf48d8')]}\n",
      "{'node12': {'input': '0', 'messages': ['01']}}\n",
      "{'__interrupt__': (Interrupt(value={'question': 'Do you want to continue in this route?', 'message': [HumanMessage(content='01', additional_kwargs={}, response_metadata={}, id='fff8c446-acfb-45c7-bcae-4db72bdf48d8')]}, resumable=True, ns=['human2:bb4ca736-5673-03ee-d75e-3d02a8582aa2']),)}\n"
     ]
    }
   ],
   "source": [
    "for chunk in graph2.stream({\"input\": \"0\"}, {\"configurable\": {\"thread_id\": \"3\"}}, stream_mode = \"updates\"):\n",
    "    print(chunk)"
   ]
  },
  {
   "cell_type": "code",
   "execution_count": 34,
   "id": "925dd893",
   "metadata": {},
   "outputs": [
    {
     "name": "stdout",
     "output_type": "stream",
     "text": [
      "\u001b[36;1m\u001b[1;3m[2:tasks]\u001b[0m \u001b[1mStarting 1 task for step 2:\n",
      "\u001b[0m- \u001b[32;1m\u001b[1;3mhuman2\u001b[0m -> {'input': '0',\n",
      " 'messages': [HumanMessage(content='01', additional_kwargs={}, response_metadata={}, id='fff8c446-acfb-45c7-bcae-4db72bdf48d8')]}\n",
      "\u001b[36;1m\u001b[1;3m[2:writes]\u001b[0m \u001b[1mFinished step 2 with writes to 0 channels:\n",
      "\u001b[0m\n",
      "\u001b[36;1m\u001b[1;3m[2:checkpoint]\u001b[0m \u001b[1mState at the end of step 2:\n",
      "\u001b[0m{'input': '0',\n",
      " 'messages': [HumanMessage(content='01', additional_kwargs={}, response_metadata={}, id='fff8c446-acfb-45c7-bcae-4db72bdf48d8')]}\n",
      "\u001b[36;1m\u001b[1;3m[3:tasks]\u001b[0m \u001b[1mStarting 1 task for step 3:\n",
      "\u001b[0m- \u001b[32;1m\u001b[1;3mnode32\u001b[0m -> {'input': '0'}\n",
      "{'human2': None}\n",
      "\u001b[36;1m\u001b[1;3m[3:writes]\u001b[0m \u001b[1mFinished step 3 with writes to 2 channels:\n",
      "\u001b[0m- \u001b[33;1m\u001b[1;3mmessages\u001b[0m -> '04'\n",
      "- \u001b[33;1m\u001b[1;3moutput\u001b[0m -> '05'\n",
      "\u001b[36;1m\u001b[1;3m[3:checkpoint]\u001b[0m \u001b[1mState at the end of step 3:\n",
      "\u001b[0m{'input': '0',\n",
      " 'messages': [HumanMessage(content='01', additional_kwargs={}, response_metadata={}, id='fff8c446-acfb-45c7-bcae-4db72bdf48d8'),\n",
      "              HumanMessage(content='04', additional_kwargs={}, response_metadata={}, id='79d0fbf0-c2f9-4b1e-9994-5e5778fc6169')],\n",
      " 'output': '05'}\n",
      "{'node32': {'messages': '04', 'output': '05'}}\n"
     ]
    }
   ],
   "source": [
    "for chunk in graph2.stream(Command(resume = 0), {\"configurable\": {\"thread_id\": \"3\"}}, stream_mode = \"updates\"):\n",
    "    print(chunk)"
   ]
  },
  {
   "cell_type": "markdown",
   "id": "829049d6",
   "metadata": {},
   "source": [
    "* As we can see here, when there is an interrupt, the graph won't return anything. The necessary information is present in the state of the graph\n",
    "* We can use the state interrupt value for the specific configuration to pass to the user to get necessary information or confirmation"
   ]
  },
  {
   "cell_type": "code",
   "execution_count": 35,
   "id": "2d90d837",
   "metadata": {},
   "outputs": [
    {
     "name": "stdout",
     "output_type": "stream",
     "text": [
      "\u001b[36;1m\u001b[1;3m[-1:checkpoint]\u001b[0m \u001b[1mState at the end of step -1:\n",
      "\u001b[0m{'messages': []}\n",
      "\u001b[36;1m\u001b[1;3m[0:tasks]\u001b[0m \u001b[1mStarting 1 task for step 0:\n",
      "\u001b[0m- \u001b[32;1m\u001b[1;3m__start__\u001b[0m -> {'input': '0'}\n",
      "\u001b[36;1m\u001b[1;3m[0:writes]\u001b[0m \u001b[1mFinished step 0 with writes to 1 channel:\n",
      "\u001b[0m- \u001b[33;1m\u001b[1;3minput\u001b[0m -> '0'\n",
      "\u001b[36;1m\u001b[1;3m[0:checkpoint]\u001b[0m \u001b[1mState at the end of step 0:\n",
      "\u001b[0m{'input': '0', 'messages': []}\n",
      "\u001b[36;1m\u001b[1;3m[1:tasks]\u001b[0m \u001b[1mStarting 1 task for step 1:\n",
      "\u001b[0m- \u001b[32;1m\u001b[1;3mnode12\u001b[0m -> {'input': '0'}\n",
      "\u001b[36;1m\u001b[1;3m[1:writes]\u001b[0m \u001b[1mFinished step 1 with writes to 2 channels:\n",
      "\u001b[0m- \u001b[33;1m\u001b[1;3minput\u001b[0m -> '0'\n",
      "- \u001b[33;1m\u001b[1;3mmessages\u001b[0m -> ['01']\n",
      "\u001b[36;1m\u001b[1;3m[1:checkpoint]\u001b[0m \u001b[1mState at the end of step 1:\n",
      "\u001b[0m{'input': '0',\n",
      " 'messages': [HumanMessage(content='01', additional_kwargs={}, response_metadata={}, id='d4fd81bd-68ab-4d68-941b-52c63352a17d')]}\n",
      "\u001b[36;1m\u001b[1;3m[2:tasks]\u001b[0m \u001b[1mStarting 1 task for step 2:\n",
      "\u001b[0m- \u001b[32;1m\u001b[1;3mhuman2\u001b[0m -> {'input': '0',\n",
      " 'messages': [HumanMessage(content='01', additional_kwargs={}, response_metadata={}, id='d4fd81bd-68ab-4d68-941b-52c63352a17d')]}\n"
     ]
    }
   ],
   "source": [
    "res = graph2.invoke({\"input\": \"0\"}, {\"configurable\": {\"thread_id\": \"4\"}})"
   ]
  },
  {
   "cell_type": "code",
   "execution_count": 37,
   "id": "1f5344e5",
   "metadata": {},
   "outputs": [
    {
     "name": "stdout",
     "output_type": "stream",
     "text": [
      "None\n"
     ]
    }
   ],
   "source": [
    "print(res)"
   ]
  },
  {
   "cell_type": "code",
   "execution_count": 38,
   "id": "8c8e5b7c",
   "metadata": {},
   "outputs": [],
   "source": [
    "state = graph2.get_state({\"configurable\": {\"thread_id\": \"4\"}})"
   ]
  },
  {
   "cell_type": "code",
   "execution_count": 39,
   "id": "81036110",
   "metadata": {},
   "outputs": [
    {
     "data": {
      "text/plain": [
       "StateSnapshot(values={'input': '0', 'messages': [HumanMessage(content='01', additional_kwargs={}, response_metadata={}, id='d4fd81bd-68ab-4d68-941b-52c63352a17d')]}, next=('human2',), config={'configurable': {'thread_id': '4', 'checkpoint_ns': '', 'checkpoint_id': '1f025241-a3d0-6603-8001-c3d407681edd'}}, metadata={'source': 'loop', 'writes': {'node12': None}, 'step': 1, 'parents': {}, 'thread_id': '4'}, created_at='2025-04-29T18:02:23.774259+00:00', parent_config={'configurable': {'thread_id': '4', 'checkpoint_ns': '', 'checkpoint_id': '1f025241-a3c4-6b01-8000-fec8d8224e05'}}, tasks=(PregelTask(id='5f5d32ea-be20-1182-aa3a-a470ef91ee05', name='human2', path=('__pregel_pull', 'human2'), error=None, interrupts=(Interrupt(value={'question': 'Do you want to continue in this route?', 'message': [HumanMessage(content='01', additional_kwargs={}, response_metadata={}, id='d4fd81bd-68ab-4d68-941b-52c63352a17d')]}, resumable=True, ns=['human2:5f5d32ea-be20-1182-aa3a-a470ef91ee05']),), state=None, result=None),))"
      ]
     },
     "execution_count": 39,
     "metadata": {},
     "output_type": "execute_result"
    }
   ],
   "source": [
    "state"
   ]
  },
  {
   "cell_type": "code",
   "execution_count": 58,
   "id": "f0e824e3",
   "metadata": {},
   "outputs": [
    {
     "name": "stdout",
     "output_type": "stream",
     "text": [
      "{'input': '0',\n",
      " 'messages': [HumanMessage(content='01', additional_kwargs={}, response_metadata={}, id='d4fd81bd-68ab-4d68-941b-52c63352a17d')]}\n",
      "('human2',)\n",
      "{'configurable': {'checkpoint_id': '1f025241-a3d0-6603-8001-c3d407681edd',\n",
      "                  'checkpoint_ns': '',\n",
      "                  'thread_id': '4'}}\n",
      "{'parents': {},\n",
      " 'source': 'loop',\n",
      " 'step': 1,\n",
      " 'thread_id': '4',\n",
      " 'writes': {'node12': None}}\n",
      "'2025-04-29T18:02:23.774259+00:00'\n",
      "{'configurable': {'checkpoint_id': '1f025241-a3c4-6b01-8000-fec8d8224e05',\n",
      "                  'checkpoint_ns': '',\n",
      "                  'thread_id': '4'}}\n"
     ]
    }
   ],
   "source": [
    "from pprint import pprint\n",
    "\n",
    "pprint(state.values)\n",
    "pprint(state.next)\n",
    "pprint(state.config)\n",
    "pprint(state.metadata)\n",
    "pprint(state.created_at)\n",
    "pprint(state.parent_config)"
   ]
  },
  {
   "cell_type": "code",
   "execution_count": 59,
   "id": "ab52de33",
   "metadata": {},
   "outputs": [
    {
     "name": "stdout",
     "output_type": "stream",
     "text": [
      "(PregelTask(id='5f5d32ea-be20-1182-aa3a-a470ef91ee05', name='human2', path=('__pregel_pull', 'human2'), error=None, interrupts=(Interrupt(value={'question': 'Do you want to continue in this route?', 'message': [HumanMessage(content='01', additional_kwargs={}, response_metadata={}, id='d4fd81bd-68ab-4d68-941b-52c63352a17d')]}, resumable=True, ns=['human2:5f5d32ea-be20-1182-aa3a-a470ef91ee05']),), state=None, result=None),)\n",
      "1\n"
     ]
    }
   ],
   "source": [
    "pprint(state.tasks)\n",
    "pprint(len(state.tasks))"
   ]
  },
  {
   "cell_type": "code",
   "execution_count": 60,
   "id": "990f2b6c",
   "metadata": {},
   "outputs": [
    {
     "data": {
      "text/plain": [
       "PregelTask(id='5f5d32ea-be20-1182-aa3a-a470ef91ee05', name='human2', path=('__pregel_pull', 'human2'), error=None, interrupts=(Interrupt(value={'question': 'Do you want to continue in this route?', 'message': [HumanMessage(content='01', additional_kwargs={}, response_metadata={}, id='d4fd81bd-68ab-4d68-941b-52c63352a17d')]}, resumable=True, ns=['human2:5f5d32ea-be20-1182-aa3a-a470ef91ee05']),), state=None, result=None)"
      ]
     },
     "execution_count": 60,
     "metadata": {},
     "output_type": "execute_result"
    }
   ],
   "source": [
    "state.tasks[0]"
   ]
  },
  {
   "cell_type": "code",
   "execution_count": 61,
   "id": "3b188bfc",
   "metadata": {},
   "outputs": [
    {
     "name": "stdout",
     "output_type": "stream",
     "text": [
      "'5f5d32ea-be20-1182-aa3a-a470ef91ee05'\n",
      "'human2'\n",
      "('__pregel_pull', 'human2')\n",
      "None\n"
     ]
    }
   ],
   "source": [
    "pprint(state.tasks[0].id)\n",
    "pprint(state.tasks[0].name)\n",
    "pprint(state.tasks[0].path)\n",
    "pprint(state.tasks[0].error)"
   ]
  },
  {
   "cell_type": "code",
   "execution_count": 63,
   "id": "a0cc69e3",
   "metadata": {},
   "outputs": [
    {
     "name": "stdout",
     "output_type": "stream",
     "text": [
      "(Interrupt(value={'message': [HumanMessage(content='01', additional_kwargs={}, response_metadata={}, id='d4fd81bd-68ab-4d68-941b-52c63352a17d')],\n",
      "                  'question': 'Do you want to continue in this route?'},\n",
      "           resumable=True,\n",
      "           ns=['human2:5f5d32ea-be20-1182-aa3a-a470ef91ee05']),)\n",
      "1\n"
     ]
    }
   ],
   "source": [
    "pprint(state.tasks[0].interrupts)\n",
    "pprint(len(state.tasks[0].interrupts))"
   ]
  },
  {
   "cell_type": "code",
   "execution_count": 64,
   "id": "8a790b26",
   "metadata": {},
   "outputs": [
    {
     "name": "stdout",
     "output_type": "stream",
     "text": [
      "Interrupt(value={'message': [HumanMessage(content='01', additional_kwargs={}, response_metadata={}, id='d4fd81bd-68ab-4d68-941b-52c63352a17d')],\n",
      "                 'question': 'Do you want to continue in this route?'},\n",
      "          resumable=True,\n",
      "          ns=['human2:5f5d32ea-be20-1182-aa3a-a470ef91ee05'])\n"
     ]
    }
   ],
   "source": [
    "pprint(state.tasks[0].interrupts[0])"
   ]
  },
  {
   "cell_type": "code",
   "execution_count": 65,
   "id": "881537e7",
   "metadata": {},
   "outputs": [
    {
     "data": {
      "text/plain": [
       "{'question': 'Do you want to continue in this route?',\n",
       " 'message': [HumanMessage(content='01', additional_kwargs={}, response_metadata={}, id='d4fd81bd-68ab-4d68-941b-52c63352a17d')]}"
      ]
     },
     "execution_count": 65,
     "metadata": {},
     "output_type": "execute_result"
    }
   ],
   "source": [
    "state.tasks[0].interrupts[0].value"
   ]
  },
  {
   "cell_type": "markdown",
   "id": "8b155a70",
   "metadata": {},
   "source": [
    "## **Human in the loop for updating the state**\n",
    "\n",
    "* Here, we are taking a dictionary as input from the user with keys actions and conditionally data\n",
    "* If user wants to continue, we move forward as is. If the user wants to update, we take the updated data and continue with that data\n",
    "* As we can see in the invocation for thread ID 2, we started with input 0 but updated it with input 1"
   ]
  },
  {
   "cell_type": "code",
   "execution_count": 66,
   "id": "b05c8b13",
   "metadata": {},
   "outputs": [],
   "source": [
    "checkpointer3 = MemorySaver()\n",
    "\n",
    "builder3 = StateGraph(state_schema = State, input = Input, output = Output)\n",
    "\n",
    "def human3(state: Input) -> Command[Literal[\"node13\", \"node23\"]]:\n",
    "    data = interrupt({\"question\": \"What do you want to do?\", \"options\": [\"continue\", \"update\"], \"messages\" : state[\"input\"]})\n",
    "\n",
    "    if data[\"actions\"] == \"continue\":\n",
    "        return Command(goto = \"node13\")\n",
    "    \n",
    "    elif data[\"actions\"] == \"update\":\n",
    "        return Command(goto = \"node23\", update = {\"input\": data[\"update\"]})\n",
    "    \n",
    "    else:\n",
    "        raise ValueError(\"Invalid action\")\n",
    "\n",
    "def node13(state: Input):\n",
    "    return {\"messages\": [state[\"input\"] + \"1\"], \"output\": state[\"input\"] + \"2\"}\n",
    "\n",
    "def node23(state: Input):\n",
    "    return {\"messages\": [state[\"input\"] + \"3\"], \"output\": state[\"input\"] + \"4\"}\n",
    "\n",
    "builder3.add_node(human3, \"human3\")\n",
    "builder3.add_node(node13, \"node13\")\n",
    "builder3.add_node(node23, \"node23\")\n",
    "\n",
    "builder3.add_edge(START, \"human3\")\n",
    "builder3.add_edge([\"node13\", \"node23\"], END)\n",
    "\n",
    "graph3 = builder3.compile(checkpointer = checkpointer3)\n",
    "graph3.debug = True"
   ]
  },
  {
   "cell_type": "code",
   "execution_count": 67,
   "id": "462e4c73",
   "metadata": {},
   "outputs": [
    {
     "data": {
      "image/png": "[encoded data removed]",
      "text/plain": [
       "<langgraph.graph.state.CompiledStateGraph object at 0x000002B4A0E0B6A0>"
      ]
     },
     "execution_count": 67,
     "metadata": {},
     "output_type": "execute_result"
    }
   ],
   "source": [
    "graph3"
   ]
  },
  {
   "cell_type": "code",
   "execution_count": 68,
   "id": "48de67f6",
   "metadata": {},
   "outputs": [
    {
     "name": "stdout",
     "output_type": "stream",
     "text": [
      "\u001b[36;1m\u001b[1;3m[-1:checkpoint]\u001b[0m \u001b[1mState at the end of step -1:\n",
      "\u001b[0m{'messages': []}\n",
      "\u001b[36;1m\u001b[1;3m[0:tasks]\u001b[0m \u001b[1mStarting 1 task for step 0:\n",
      "\u001b[0m- \u001b[32;1m\u001b[1;3m__start__\u001b[0m -> {'input': '0'}\n",
      "\u001b[36;1m\u001b[1;3m[0:writes]\u001b[0m \u001b[1mFinished step 0 with writes to 1 channel:\n",
      "\u001b[0m- \u001b[33;1m\u001b[1;3minput\u001b[0m -> '0'\n",
      "\u001b[36;1m\u001b[1;3m[0:checkpoint]\u001b[0m \u001b[1mState at the end of step 0:\n",
      "\u001b[0m{'input': '0', 'messages': []}\n",
      "\u001b[36;1m\u001b[1;3m[1:tasks]\u001b[0m \u001b[1mStarting 1 task for step 1:\n",
      "\u001b[0m- \u001b[32;1m\u001b[1;3mhuman3\u001b[0m -> {'input': '0'}\n"
     ]
    }
   ],
   "source": [
    "graph3.invoke({\"input\": \"0\"}, {\"configurable\": {\"thread_id\": \"1\"}})"
   ]
  },
  {
   "cell_type": "code",
   "execution_count": 69,
   "id": "d36b82fa",
   "metadata": {},
   "outputs": [
    {
     "data": {
      "text/plain": [
       "{'question': 'What do you want to do?',\n",
       " 'options': ['continue', 'update'],\n",
       " 'messages': '0'}"
      ]
     },
     "execution_count": 69,
     "metadata": {},
     "output_type": "execute_result"
    }
   ],
   "source": [
    "graph3.get_state({\"configurable\": {\"thread_id\": \"1\"}}).tasks[0].interrupts[0].value"
   ]
  },
  {
   "cell_type": "code",
   "execution_count": 71,
   "id": "1859b3aa",
   "metadata": {},
   "outputs": [
    {
     "name": "stdout",
     "output_type": "stream",
     "text": [
      "\u001b[36;1m\u001b[1;3m[1:tasks]\u001b[0m \u001b[1mStarting 1 task for step 1:\n",
      "\u001b[0m- \u001b[32;1m\u001b[1;3mhuman3\u001b[0m -> {'input': '0'}\n",
      "\u001b[36;1m\u001b[1;3m[1:writes]\u001b[0m \u001b[1mFinished step 1 with writes to 0 channels:\n",
      "\u001b[0m\n",
      "\u001b[36;1m\u001b[1;3m[1:checkpoint]\u001b[0m \u001b[1mState at the end of step 1:\n",
      "\u001b[0m{'input': '0', 'messages': []}\n",
      "\u001b[36;1m\u001b[1;3m[2:tasks]\u001b[0m \u001b[1mStarting 1 task for step 2:\n",
      "\u001b[0m- \u001b[32;1m\u001b[1;3mnode13\u001b[0m -> {'input': '0'}\n",
      "\u001b[36;1m\u001b[1;3m[2:writes]\u001b[0m \u001b[1mFinished step 2 with writes to 2 channels:\n",
      "\u001b[0m- \u001b[33;1m\u001b[1;3mmessages\u001b[0m -> ['01']\n",
      "- \u001b[33;1m\u001b[1;3moutput\u001b[0m -> '02'\n",
      "\u001b[36;1m\u001b[1;3m[2:checkpoint]\u001b[0m \u001b[1mState at the end of step 2:\n",
      "\u001b[0m{'input': '0',\n",
      " 'messages': [HumanMessage(content='01', additional_kwargs={}, response_metadata={}, id='7ba3fbbf-5469-4100-8783-1b1998f3c044')],\n",
      " 'output': '02'}\n"
     ]
    },
    {
     "data": {
      "text/plain": [
       "{'output': '02'}"
      ]
     },
     "execution_count": 71,
     "metadata": {},
     "output_type": "execute_result"
    }
   ],
   "source": [
    "graph3.invoke(Command(resume = {\"actions\": \"continue\"}), {\"configurable\": {\"thread_id\": \"1\"}})"
   ]
  },
  {
   "cell_type": "code",
   "execution_count": 72,
   "id": "3ca7d716",
   "metadata": {},
   "outputs": [
    {
     "name": "stdout",
     "output_type": "stream",
     "text": [
      "\u001b[36;1m\u001b[1;3m[-1:checkpoint]\u001b[0m \u001b[1mState at the end of step -1:\n",
      "\u001b[0m{'messages': []}\n",
      "\u001b[36;1m\u001b[1;3m[0:tasks]\u001b[0m \u001b[1mStarting 1 task for step 0:\n",
      "\u001b[0m- \u001b[32;1m\u001b[1;3m__start__\u001b[0m -> {'input': '0'}\n",
      "\u001b[36;1m\u001b[1;3m[0:writes]\u001b[0m \u001b[1mFinished step 0 with writes to 1 channel:\n",
      "\u001b[0m- \u001b[33;1m\u001b[1;3minput\u001b[0m -> '0'\n",
      "\u001b[36;1m\u001b[1;3m[0:checkpoint]\u001b[0m \u001b[1mState at the end of step 0:\n",
      "\u001b[0m{'input': '0', 'messages': []}\n",
      "\u001b[36;1m\u001b[1;3m[1:tasks]\u001b[0m \u001b[1mStarting 1 task for step 1:\n",
      "\u001b[0m- \u001b[32;1m\u001b[1;3mhuman3\u001b[0m -> {'input': '0'}\n"
     ]
    }
   ],
   "source": [
    "graph3.invoke({\"input\": \"0\"}, {\"configurable\": {\"thread_id\": \"2\"}})"
   ]
  },
  {
   "cell_type": "code",
   "execution_count": 73,
   "id": "1ad2886b",
   "metadata": {},
   "outputs": [
    {
     "data": {
      "text/plain": [
       "{'question': 'What do you want to do?',\n",
       " 'options': ['continue', 'update'],\n",
       " 'messages': '0'}"
      ]
     },
     "execution_count": 73,
     "metadata": {},
     "output_type": "execute_result"
    }
   ],
   "source": [
    "graph3.get_state({\"configurable\": {\"thread_id\": \"2\"}}).tasks[0].interrupts[0].value"
   ]
  },
  {
   "cell_type": "code",
   "execution_count": 74,
   "id": "af253c5b",
   "metadata": {},
   "outputs": [
    {
     "name": "stdout",
     "output_type": "stream",
     "text": [
      "\u001b[36;1m\u001b[1;3m[1:tasks]\u001b[0m \u001b[1mStarting 1 task for step 1:\n",
      "\u001b[0m- \u001b[32;1m\u001b[1;3mhuman3\u001b[0m -> {'input': '0'}\n",
      "\u001b[36;1m\u001b[1;3m[1:writes]\u001b[0m \u001b[1mFinished step 1 with writes to 1 channel:\n",
      "\u001b[0m- \u001b[33;1m\u001b[1;3minput\u001b[0m -> '1'\n",
      "\u001b[36;1m\u001b[1;3m[1:checkpoint]\u001b[0m \u001b[1mState at the end of step 1:\n",
      "\u001b[0m{'input': '1', 'messages': []}\n",
      "\u001b[36;1m\u001b[1;3m[2:tasks]\u001b[0m \u001b[1mStarting 1 task for step 2:\n",
      "\u001b[0m- \u001b[32;1m\u001b[1;3mnode23\u001b[0m -> {'input': '1'}\n",
      "\u001b[36;1m\u001b[1;3m[2:writes]\u001b[0m \u001b[1mFinished step 2 with writes to 2 channels:\n",
      "\u001b[0m- \u001b[33;1m\u001b[1;3mmessages\u001b[0m -> ['13']\n",
      "- \u001b[33;1m\u001b[1;3moutput\u001b[0m -> '14'\n",
      "\u001b[36;1m\u001b[1;3m[2:checkpoint]\u001b[0m \u001b[1mState at the end of step 2:\n",
      "\u001b[0m{'input': '1',\n",
      " 'messages': [HumanMessage(content='13', additional_kwargs={}, response_metadata={}, id='953af4bb-c85b-4eb5-9150-cdf214759561')],\n",
      " 'output': '14'}\n"
     ]
    },
    {
     "data": {
      "text/plain": [
       "{'output': '14'}"
      ]
     },
     "execution_count": 74,
     "metadata": {},
     "output_type": "execute_result"
    }
   ],
   "source": [
    "graph3.invoke(Command(resume = {\"actions\": \"update\", \"update\": \"1\"}), {\"configurable\": {\"thread_id\": \"2\"}})"
   ]
  },
  {
   "cell_type": "code",
   "execution_count": null,
   "id": "29e0b0dd",
   "metadata": {},
   "outputs": [],
   "source": []
  }
 ],
 "metadata": {
  "kernelspec": {
   "display_name": "lenv",
   "language": "python",
   "name": "python3"
  },
  "language_info": {
   "codemirror_mode": {
    "name": "ipython",
    "version": 3
   },
   "file_extension": ".py",
   "mimetype": "text/x-python",
   "name": "python",
   "nbconvert_exporter": "python",
   "pygments_lexer": "ipython3",
   "version": "3.10.11"
  }
 },
 "nbformat": 4,
 "nbformat_minor": 5
}
